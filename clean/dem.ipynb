{
 "cells": [
  {
   "cell_type": "code",
   "execution_count": null,
   "id": "2cdc4518-650b-4eeb-9d8c-bcc96f451660",
   "metadata": {},
   "outputs": [],
   "source": [
    "import pandas as pd\n"
   ]
  },
  {
   "cell_type": "code",
   "execution_count": null,
   "id": "63f0dad1-c545-4f33-a70e-fefbaae62b8f",
   "metadata": {},
   "outputs": [],
   "source": [
    "# Read all three text files into DataFrames\n",
    "#all_df = pd.read_csv(\n",
    "   # \"All_all.use.final.txt\",\n",
    "   # sep=\"\\t\",\n",
    "   # quotechar='\"',\n",
    "   # engine='python',\n",
    "   # on_bad_lines='skip'  # replaces error_bad_lines\n",
    "#)\n",
    "import sys\n",
    "import csv\n",
    "csv.field_size_limit(sys.maxsize)\n",
    "#dem_df = pd.read_csv(\n",
    "   # \"Dem_all.use.final.txt\",\n",
    "   # sep=\"\\t\",\n",
    "   # quotechar='\"'\n",
    "#)\n",
    "\n",
    "#dia_df = pd.read_csv(\n",
    "    #\"Dia_all.use.final.txt\",\n",
    "   # sep=\"\\t\",\n",
    "   # quotechar='\"'\n",
    "#)\n",
    "\n",
    "dia_df = pd.read_csv(\n",
    "    'Dia_all.use.final.txt',\n",
    "    sep='\\t',\n",
    "    quotechar='\"'\n",
    ")\n"
   ]
  },
  {
   "cell_type": "code",
   "execution_count": null,
   "id": "9d4e7615-6532-4fa8-a648-3dc6db3dc218",
   "metadata": {},
   "outputs": [],
   "source": [
    "import warnings\n",
    "\n",
    "with warnings.catch_warnings(record=True) as w:\n",
    "    dia_df = pd.read_csv(\n",
    "        \"Dia_all.use.final.txt\",\n",
    "        sep=\"\\t\",\n",
    "        quotechar='\"',\n",
    "        engine='python',\n",
    "        on_bad_lines='skip'\n",
    "    )\n",
    "    print(f\"{len(w)} warnings captured.\")"
   ]
  },
  {
   "cell_type": "code",
   "execution_count": null,
   "id": "356dab75-cce9-4f43-b283-9be8603dbb27",
   "metadata": {},
   "outputs": [],
   "source": [
    "dem_df.info()"
   ]
  },
  {
   "cell_type": "code",
   "execution_count": null,
   "id": "a5dfc09c-c77d-43b9-81b6-36935a859086",
   "metadata": {},
   "outputs": [],
   "source": [
    "dem_df.head()"
   ]
  },
  {
   "cell_type": "code",
   "execution_count": null,
   "id": "167355cc-8968-4da4-8e76-701514e9d57e",
   "metadata": {},
   "outputs": [],
   "source": [
    "dem_df_c=dem_df.copy()"
   ]
  },
  {
   "cell_type": "code",
   "execution_count": null,
   "id": "ba4f6c1a-1ff8-48f0-8fde-9371c6be26e0",
   "metadata": {},
   "outputs": [],
   "source": [
    "dem_df_c.head()"
   ]
  },
  {
   "cell_type": "code",
   "execution_count": null,
   "id": "6dd259b9-97a1-4799-b2b0-899cbcbccafd",
   "metadata": {},
   "outputs": [],
   "source": [
    "dem_df_c[\"FirstNAFL.before.ICD11\"].value_counts()"
   ]
  },
  {
   "cell_type": "code",
   "execution_count": null,
   "id": "902070d4-8dfb-4a35-847d-b669cc6c24cb",
   "metadata": {},
   "outputs": [],
   "source": [
    "#FirstNAFL.before.ICD11\n",
    "dem_df_c= dem_df_c[dem_df_c[\"FirstNAFL.before.ICD11\"]==\"y\"]"
   ]
  },
  {
   "cell_type": "code",
   "execution_count": null,
   "id": "f08ed8b4-a829-4386-85b2-58cff66061b8",
   "metadata": {},
   "outputs": [],
   "source": [
    "dem_df_c.shape"
   ]
  },
  {
   "cell_type": "code",
   "execution_count": null,
   "id": "4c6693f0-78b5-4ff1-88f5-e8333a9c5213",
   "metadata": {},
   "outputs": [],
   "source": [
    "dem_df_c.columns"
   ]
  },
  {
   "cell_type": "code",
   "execution_count": null,
   "id": "99c6d997-c8f4-4801-bdca-da8cf21b907e",
   "metadata": {},
   "outputs": [],
   "source": [
    "#Check NA percentage\n",
    "na_percent = dem_df_c.isna().mean().sort_values(ascending=False) * 100\n",
    "print(\"NA Percentage by Column:\")\n",
    "print(na_percent)"
   ]
  },
  {
   "cell_type": "code",
   "execution_count": null,
   "id": "76f80f26-232d-4ca9-9c7f-bb7a75598574",
   "metadata": {},
   "outputs": [],
   "source": [
    "#select columns\n",
    "selected_columns = ['StudyID', 'FirstNAFL.Age.90', 'Gender_Legal_Sex']  # Replace 'BMI_Category' with actual column name if different\n",
    "dem_df_c= dem_df_c[selected_columns]\n",
    "\n",
    "# Display the filtered DataFrame\n",
    "dem_df_c.head()"
   ]
  },
  {
   "cell_type": "code",
   "execution_count": null,
   "id": "3f82351f-fe00-4f6d-8932-176edc077946",
   "metadata": {},
   "outputs": [],
   "source": [
    "#check gender\n",
    "dem_df_c[\"Gender_Legal_Sex\"].value_counts()"
   ]
  },
  {
   "cell_type": "code",
   "execution_count": null,
   "id": "6a24661f-e9b0-4721-8186-bd7538071c54",
   "metadata": {},
   "outputs": [],
   "source": [
    "#check age\n",
    "age_bins = pd.cut(dem_df_c['FirstNAFL.Age.90'], bins=range(0, 101, 10), right=False)\n",
    "age_counts = age_bins.value_counts().sort_index()\n",
    "\n",
    "# Display the result\n",
    "print(\"Age distribution in 10-year intervals:\")\n",
    "print(age_counts)"
   ]
  },
  {
   "cell_type": "code",
   "execution_count": null,
   "id": "b746bae6-3506-4393-bc5f-394f33f4006b",
   "metadata": {},
   "outputs": [],
   "source": [
    "dem_df_c=dem_df_c[dem_df_c[\"FirstNAFL.Age.90\"]>=30]"
   ]
  },
  {
   "cell_type": "code",
   "execution_count": null,
   "id": "dd8893b5-c5af-437f-9ed5-58a548020aa5",
   "metadata": {},
   "outputs": [],
   "source": [
    "dem_df_c"
   ]
  },
  {
   "cell_type": "code",
   "execution_count": null,
   "id": "8dc76947-b0ca-4cc9-aec2-282a01528e49",
   "metadata": {},
   "outputs": [],
   "source": [
    "# Check NA rate (percentage of missing values per column)\n",
    "na_rate = dem_df_c.isna().mean() * 100\n",
    "print(\"NA Rate (%):\")\n",
    "print(na_rate)\n"
   ]
  },
  {
   "cell_type": "code",
   "execution_count": null,
   "id": "f669f010-8e81-4fbf-8aa5-2c545f187724",
   "metadata": {},
   "outputs": [],
   "source": [
    "dem_df_c[dem_df_c.duplicated()].head()\n",
    "#no duplicates"
   ]
  },
  {
   "cell_type": "code",
   "execution_count": null,
   "id": "22e77e97-f948-4b18-acf4-4f6b943e83cd",
   "metadata": {},
   "outputs": [],
   "source": [
    "#not necessary\n",
    "# Handle high-NA columns (optional threshold: 90%)\n",
    "#high_na_cols = na_percent[na_percent > 90].index\n",
    "#dem_df = dem_df.drop(columns= high_na_cols)\n",
    "#print(f\"\\n Dropped columns with >90% NA: {list(high_na_cols)}\")"
   ]
  },
  {
   "cell_type": "code",
   "execution_count": null,
   "id": "95b276aa-e21f-4bd7-9c28-04f122f3a8ab",
   "metadata": {},
   "outputs": [],
   "source": [
    "# Drop duplicate rows\n",
    "dem_df_c.shape\n"
   ]
  },
  {
   "cell_type": "code",
   "execution_count": null,
   "id": "7354093e-9fe2-49ea-8a63-3b95323dc651",
   "metadata": {},
   "outputs": [],
   "source": []
  },
  {
   "cell_type": "code",
   "execution_count": null,
   "id": "8972c6ae-ac78-4dc6-8d43-97870ddd0f2f",
   "metadata": {},
   "outputs": [],
   "source": [
    "dem_df_c_encoded=pd.get_dummies(dem_df_c, columns=[\"Gender_Legal_Sex\"], drop_first=True)"
   ]
  },
  {
   "cell_type": "code",
   "execution_count": null,
   "id": "349a8fa0-7170-4910-9b6a-e70d2fee5d96",
   "metadata": {},
   "outputs": [],
   "source": [
    "dem_df_c_encoded"
   ]
  },
  {
   "cell_type": "code",
   "execution_count": null,
   "id": "31318bcd-15f5-4bad-b64a-e5a05b901e44",
   "metadata": {},
   "outputs": [],
   "source": [
    "dem_df_c_encoded.to_csv(\"dem_df_c_encoded.csv\", index=False)"
   ]
  },
  {
   "cell_type": "code",
   "execution_count": null,
   "id": "db295773-0884-483b-90b5-6f693b474193",
   "metadata": {},
   "outputs": [],
   "source": [
    "dem_df_c.to_csv(\"dem_df_clean.csv\", index=False)"
   ]
  },
  {
   "cell_type": "code",
   "execution_count": null,
   "id": "8085eb03-be49-4b48-8d54-1536cf5e4da4",
   "metadata": {},
   "outputs": [],
   "source": [
    "dia_df.shape"
   ]
  },
  {
   "cell_type": "code",
   "execution_count": null,
   "id": "fa659bcc-24f0-41f2-8721-95212b784f6c",
   "metadata": {},
   "outputs": [],
   "source": [
    "dia_df_c=dia_df.copy()"
   ]
  },
  {
   "cell_type": "code",
   "execution_count": null,
   "id": "ad4f4f62-a6ac-4b78-9ccd-8de786844474",
   "metadata": {},
   "outputs": [],
   "source": [
    "dia_df_c.head()"
   ]
  },
  {
   "cell_type": "code",
   "execution_count": null,
   "id": "b405b6b3-717d-40ce-95f3-fdc4eea33cea",
   "metadata": {},
   "outputs": [],
   "source": [
    "rows, cols = dia_df.shape\n",
    "print(f\"The dia_df has {rows} rows and {cols} columns.\")"
   ]
  },
  {
   "cell_type": "code",
   "execution_count": null,
   "id": "71e4ee38-5303-43b1-a4c0-d578e8c31a31",
   "metadata": {},
   "outputs": [],
   "source": [
    "dia_df_c.columns"
   ]
  },
  {
   "cell_type": "code",
   "execution_count": null,
   "id": "f08a084d-23b7-4079-9c8b-19252f4537fb",
   "metadata": {},
   "outputs": [],
   "source": [
    "na_percent = dia_df_c.isna().mean().sort_values(ascending=False) * 100\n",
    "print(\"NA Percentage by Column:\")\n",
    "print(na_percent)"
   ]
  },
  {
   "cell_type": "code",
   "execution_count": null,
   "id": "59ded1aa-f01a-48e7-83b4-66edb110b1e4",
   "metadata": {},
   "outputs": [],
   "source": [
    "#check/drop duplications, keep the first occurrence \n",
    "\n",
    "dia_df_c[dia_df_c.duplicated()].head()"
   ]
  },
  {
   "cell_type": "code",
   "execution_count": null,
   "id": "33e9e0e6-9f60-43bf-892c-c7085b2c040f",
   "metadata": {},
   "outputs": [],
   "source": [
    "duplicates = dia_df_c[dia_df_c.duplicated(keep=False)]\n",
    "print(f\"Total duplicated rows: {len(duplicates)}\")\n",
    "\n",
    "shown = 0\n",
    "for _, group in duplicates.groupby(list(dia_df_c.columns)):\n",
    "    if len(group) > 1:\n",
    "        display(group)\n",
    "        shown += 1\n",
    "        if shown == 5:\n",
    "            break\n"
   ]
  },
  {
   "cell_type": "code",
   "execution_count": null,
   "id": "062eb24e-d004-4671-8440-f33e48983336",
   "metadata": {},
   "outputs": [],
   "source": [
    "dia_df_c = dia_df_c.drop_duplicates(keep='first')\n",
    "print(f\"Deduplicated shape: {dia_df_c.shape}\")"
   ]
  },
  {
   "cell_type": "code",
   "execution_count": null,
   "id": "6305b198-3a9e-4270-8817-2fb17bbcb980",
   "metadata": {},
   "outputs": [],
   "source": [
    "dia_df_c[\"Code_Type\"].value_counts()"
   ]
  },
  {
   "cell_type": "code",
   "execution_count": null,
   "id": "db8eaa91-f823-4d13-bf37-868dec942830",
   "metadata": {},
   "outputs": [],
   "source": [
    "dia_df_c.dtypes"
   ]
  },
  {
   "cell_type": "code",
   "execution_count": null,
   "id": "a3a2ac15-76d3-4703-845d-25f7179e6bf5",
   "metadata": {},
   "outputs": [],
   "source": [
    "#keep only ICD10\n",
    "dia_df_c=dia_df_c[(dia_df_c[\"Code_Type\"]== \"ICD10\") & (dia_df_c[\"Dia.before.ICD11\"]== \"y\")]\n",
    "dia_df_c[\"Code_Type\"].value_counts()"
   ]
  },
  {
   "cell_type": "code",
   "execution_count": null,
   "id": "9d69ceb6-2eba-4314-be5c-ab203b2fad62",
   "metadata": {},
   "outputs": [],
   "source": [
    "dia_df_c[\"Dia.before.ICD11\"].value_counts()"
   ]
  },
  {
   "cell_type": "code",
   "execution_count": null,
   "id": "3f04ce47-8e66-4637-a8bd-6214d08d1476",
   "metadata": {},
   "outputs": [],
   "source": [
    "#drop dia.before.ICD11=n\n",
    "dia_df_c=dia_df_c.drop(columns=\"Dia.before.ICD11\")\n",
    "dia_df_c"
   ]
  },
  {
   "cell_type": "code",
   "execution_count": null,
   "id": "d04fd245-bf96-4e56-95b7-96bfdd58efe8",
   "metadata": {},
   "outputs": [],
   "source": [
    "dia_df[dia_df[\"Code\"]==\"\"]"
   ]
  },
  {
   "cell_type": "code",
   "execution_count": null,
   "id": "30172cd3-1a65-4662-994b-55c3b0f2773f",
   "metadata": {},
   "outputs": [],
   "source": [
    "#exclude patients with worse conditions before the diagnose of NAFL\n",
    "worse_conditions = [\n",
    "    'K75.81', 'K75.89',\n",
    "    'K72.00', 'K72.01', 'K72.10', 'K72.11', 'K72.90', 'K72.91',\n",
    "    'K74.0', 'K74.00', 'K74.01', 'K74.02', 'K74.1', 'K74.2', 'K74.60', 'K74.69',\n",
    "    'C22.0'\n",
    "]\n",
    "\n",
    "pre_nafl_df = dia_df_c[dia_df_c[\"Dia.daysfrom_firstNAFL\"] < 0]\n",
    "\n",
    "for code in worse_conditions:\n",
    "    condition = pre_nafl_df[\"Code\"].astype(str).str.startswith(code)\n",
    "    matched_df = pre_nafl_df[condition]\n",
    "    patient_count = matched_df[\"StudyID\"].nunique()\n",
    "    print(f\"{code}: {patient_count} patients\")"
   ]
  },
  {
   "cell_type": "code",
   "execution_count": null,
   "id": "e924377b-2d26-45c4-9e47-ce7975001b2c",
   "metadata": {},
   "outputs": [],
   "source": [
    "worse_conditions = [\n",
    "    'K75.81', 'K75.89',\n",
    "    'K72.00', 'K72.01', 'K72.10', 'K72.11', 'K72.90', 'K72.91',\n",
    "    'K74.0', 'K74.00', 'K74.01', 'K74.02', 'K74.1', 'K74.2', 'K74.60', 'K74.69',\n",
    "    'C22.0','C22.1', 'C22.2', 'C22.3', 'C22.4', 'C22.7', 'C22.8','C22.9'\t\n",
    "]\n",
    "\n",
    "\n",
    "\n",
    "# Step 1: Filter diagnoses before NAFL diagnosis\n",
    "pre_nafl_df = dia_df_c[dia_df_c[\"Dia.daysfrom_firstNAFL\"] < 0]\n",
    "clean_df = dia_df_c[~dia_df_c[\"StudyID\"].isin(exclude_ids)]\n",
    "# Step 2: Initialize empty set for patient IDs to exclude\n",
    "exclude_ids = set()\n",
    "\n",
    "print(\"Number of patients with each condition before NAFL diagnosis:\\n\")\n",
    "for code in worse_conditions:\n",
    "    matched = pre_nafl_df[pre_nafl_df[\"Code\"].astype(str) == code]\n",
    "    patient_ids = matched[\"StudyID\"].unique()\n",
    "    print(f\"{code}: {len(patient_ids)} patients\")\n",
    "    exclude_ids.update(patient_ids)\n",
    "\n",
    "# Step 3: Drop these patients from the original DataFrame\n",
    "dia_df_c = dia_df_c[~dia_df_c[\"StudyID\"].isin(exclude_ids)]"
   ]
  },
  {
   "cell_type": "code",
   "execution_count": null,
   "id": "c62f1c77-492c-4991-bd51-e235ee71d432",
   "metadata": {},
   "outputs": [],
   "source": [
    "#checking age groups\n",
    "age_bins = pd.cut(dia_df_c['Dia.Age.90'], bins=range(0, 101, 10), right=False)\n",
    "age_counts = age_bins.value_counts().sort_index()\n",
    "\n",
    "# Display the result\n",
    "print(\"Age distribution in 10-year intervals:\")\n",
    "print(age_counts)"
   ]
  },
  {
   "cell_type": "code",
   "execution_count": null,
   "id": "a0616cf2-ccad-4306-9f8d-4df5feb82551",
   "metadata": {},
   "outputs": [],
   "source": [
    "#keep patients who have diagnoses history for three years before the diagnosis of NAFL\n",
    "dia_df_c = dia_df_c[\n",
    "    (dia_df_c[\"Dia.daysfrom_firstNAFL\"] < 0) & \n",
    "    (dia_df_c[\"Dia.daysfrom_firstNAFL\"] >= -1095)\n",
    "]"
   ]
  },
  {
   "cell_type": "code",
   "execution_count": null,
   "id": "22e354fe-17fc-4591-8d98-fce9baa22e00",
   "metadata": {},
   "outputs": [],
   "source": [
    "dia_df_c.shape"
   ]
  },
  {
   "cell_type": "code",
   "execution_count": null,
   "id": "1bb7d263-d93d-4e9d-96de-8984b432e4c4",
   "metadata": {},
   "outputs": [],
   "source": [
    "dia_df_c.to_csv(\"dia_df_clean.csv\", index=False)"
   ]
  },
  {
   "cell_type": "code",
   "execution_count": null,
   "id": "00e06713-21c0-4547-863e-ca9404e7daa8",
   "metadata": {},
   "outputs": [],
   "source": [
    "encoded_dia_df = pd.get_dummies(\n",
    "    dia_df_c,\n",
    "    columns=['Diagnosis_Name', 'Code_Type', 'Diagnosis_Flag', 'Inpatient_Outpatient'],\n",
    "    drop_first=True  # set to True if you want to avoid multicollinearity\n",
    ")\n",
    "\n",
    "# Display the transformed DataFrame\n",
    "encoded_dia_df.head()"
   ]
  },
  {
   "cell_type": "code",
   "execution_count": null,
   "id": "4f09a40d-a2a5-41f8-9526-fd3a961e31e2",
   "metadata": {},
   "outputs": [],
   "source": [
    "encoded_dia_df.to_csv(\"dia_df_clean_encode.csv\", index=False)"
   ]
  },
  {
   "cell_type": "code",
   "execution_count": null,
   "id": "5d792b0a-e9e9-4c39-be2d-e2cf5e8030f2",
   "metadata": {},
   "outputs": [],
   "source": []
  }
 ],
 "metadata": {
  "kernelspec": {
   "display_name": "Python 3 (ipykernel)",
   "language": "python",
   "name": "python3"
  },
  "language_info": {
   "codemirror_mode": {
    "name": "ipython",
    "version": 3
   },
   "file_extension": ".py",
   "mimetype": "text/x-python",
   "name": "python",
   "nbconvert_exporter": "python",
   "pygments_lexer": "ipython3",
   "version": "3.12.7"
  }
 },
 "nbformat": 4,
 "nbformat_minor": 5
}
