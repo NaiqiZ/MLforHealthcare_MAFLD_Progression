{
 "cells": [
  {
   "cell_type": "code",
   "execution_count": null,
   "metadata": {},
   "outputs": [],
   "source": [
    "import pandas as pd"
   ]
  },
  {
   "cell_type": "markdown",
   "metadata": {},
   "source": [
    "# Clean Encounter Data\n",
    "- Don't think this was used in Jonathan's analysis"
   ]
  },
  {
   "cell_type": "markdown",
   "metadata": {},
   "source": [
    "# Clean Lab Data\n",
    "- One-hot encoding (abnormal flags) performed worse than using actual lab test values\n",
    "- Evaluted 45 unique LOINC tests\n",
    "- Mean of each of these tests over two years prior to patient's first MASLD diagnosis\n",
    "- Combine the same test results into 1 row\n",
    "- Keep only tests in more than 100 patients"
   ]
  },
  {
   "cell_type": "code",
   "execution_count": null,
   "metadata": {},
   "outputs": [],
   "source": [
    "lab_nafl = pd.read_csv(\"/nobackup/users/ericason/mlhc-final-project/data/NAFLpatients_Jan2025request/Lab_all.use.final.txt\", header=0, delimiter=\"\\t\")"
   ]
  },
  {
   "cell_type": "code",
   "execution_count": null,
   "metadata": {},
   "outputs": [],
   "source": [
    "lab_nafl.columns"
   ]
  },
  {
   "cell_type": "code",
   "execution_count": null,
   "metadata": {},
   "outputs": [],
   "source": [
    "def labCombTest(labData30to90fOtherDia2yrs, col):\n",
    "  labData30to90fOtherDia2yrs[col + '.2'] = labData30to90fOtherDia2yrs[col]\n",
    "  labData30to90fOtherDia2yrs[col + '.2'] = labData30to90fOtherDia2yrs[col + '.2'].replace(to_replace = r'^Low_Vitamin B12|^Low_VITAMIN B12', value = 'Low.VitaminB12', regex = True)\n",
    "  labData30to90fOtherDia2yrs[col + '.2'] = labData30to90fOtherDia2yrs[col + '.2'].replace(to_replace = r'^Low_Uric Acid|^Low_URIC ACID', value = 'Low.UricAcid', regex = True)\n",
    "  labData30to90fOtherDia2yrs[col + '.2'] = labData30to90fOtherDia2yrs[col + '.2'].replace(to_replace = r'^Low_Triglycerides|^Low_TRIGLYCERIDES', value = 'Low.Triglycerides', regex = True)\n",
    "  labData30to90fOtherDia2yrs[col + '.2'] = labData30to90fOtherDia2yrs[col + '.2'].replace(to_replace = r'^Low_Total Protein|^Low_TOTAL PROTEIN|^Low_Serum Total', value = 'Low.TotProt', regex = True)\n",
    "  labData30to90fOtherDia2yrs[col + '.2'] = labData30to90fOtherDia2yrs[col + '.2'].replace(to_replace = r'^Low_Poly', value = 'Low.Poly', regex = True)\n",
    "  labData30to90fOtherDia2yrs[col + '.2'] = labData30to90fOtherDia2yrs[col + '.2'].replace(to_replace = r'^Low_Phosphorus|^Low_PHOSPHORUS', value = 'Low.Phosphorus', regex = True)\n",
    "  labData30to90fOtherDia2yrs[col + '.2'] = labData30to90fOtherDia2yrs[col + '.2'].replace(to_replace = r'^Low_Osmolality|^LOW_OSMOLALITY', value = 'Low.Osmolality', regex = True)\n",
    "  labData30to90fOtherDia2yrs[col + '.2'] = labData30to90fOtherDia2yrs[col + '.2'].replace(to_replace = r'^Low_Monos|^Low_MONOS', value = 'Low.Monos', regex = True)\n",
    "  labData30to90fOtherDia2yrs[col + '.2'] = labData30to90fOtherDia2yrs[col + '.2'].replace(to_replace = r'^Low_Magnesium|^Low_MAGNESIUM', value = 'Low.Magnesium', regex = True)\n",
    "  labData30to90fOtherDia2yrs[col + '.2'] = labData30to90fOtherDia2yrs[col + '.2'].replace(to_replace = r'^Low_Lymphs|^Low_LYMPHS', value = 'Low.Lymphs', regex = True)\n",
    "  labData30to90fOtherDia2yrs[col + '.2'] = labData30to90fOtherDia2yrs[col + '.2'].replace(to_replace = r'^Low_Low Density Lipoprotein|^Low_LDL|^Low_CALCULATED|^Low_DIRECT LDL', value = 'Low.LDL', regex = True)\n",
    "  labData30to90fOtherDia2yrs[col + '.2'] = labData30to90fOtherDia2yrs[col + '.2'].replace(to_replace = r'^Low_Lactic Dehydrogenase|^Low_LDH', value = 'Low.LDH', regex = True)\n",
    "  labData30to90fOtherDia2yrs[col + '.2'] = labData30to90fOtherDia2yrs[col + '.2'].replace(to_replace = r'^Low_Iron|^Low_IRON', value = 'Low.Iron', regex = True)\n",
    "  labData30to90fOtherDia2yrs[col + '.2'] = labData30to90fOtherDia2yrs[col + '.2'].replace(to_replace = r'^Low_Cholesterol|^Low_CHOLESTEROL', value = 'Low.Cholesterol', regex = True)\n",
    "  labData30to90fOtherDia2yrs[col + '.2'] = labData30to90fOtherDia2yrs[col + '.2'].replace(to_replace = r'^Low_Ionic Calcium|^Low_Calcium|^Low_IONIZED CALCIUM|^Low_CALCIUM|^Low_IOCA', value = 'Low.Calcium', regex = True)\n",
    "  labData30to90fOtherDia2yrs[col + '.2'] = labData30to90fOtherDia2yrs[col + '.2'].replace(to_replace = r'^Low_High Density Lipoprotein|^Low_HDL|^Low_MAYO HDL', value = 'Low.HDL', regex = True)\n",
    "  labData30to90fOtherDia2yrs[col + '.2'] = labData30to90fOtherDia2yrs[col + '.2'].replace(to_replace = r'^Low_Globulin|^Low_GLOBULIN', value = 'Low.Globulin', regex = True)\n",
    "  labData30to90fOtherDia2yrs[col + '.2'] = labData30to90fOtherDia2yrs[col + '.2'].replace(to_replace = r'^Low_Folic|^Low_FOLIC', value = 'Low.FolicAcid', regex = True)\n",
    "  labData30to90fOtherDia2yrs[col + '.2'] = labData30to90fOtherDia2yrs[col + '.2'].replace(to_replace = r'^Low_Ferritin|^Low_FERRITIN', value = 'Low.Ferritin', regex = True)\n",
    "  labData30to90fOtherDia2yrs[col + '.2'] = labData30to90fOtherDia2yrs[col + '.2'].replace(to_replace = r'^Low_25 OH VIT', value = 'Low.VitaminD', regex = True)\n",
    "  labData30to90fOtherDia2yrs[col + '.2'] = labData30to90fOtherDia2yrs[col + '.2'].replace(to_replace = r'^Low_Albumin|^Low_ALBUMIN', value = 'Low.Albumin', regex = True)\n",
    "  labData30to90fOtherDia2yrs[col + '.2'] = labData30to90fOtherDia2yrs[col + '.2'].replace(to_replace = r'^Low_Prealbumin|^Low_PREALBUMIN', value = 'Low.Albumin', regex = True)\n",
    "  labData30to90fOtherDia2yrs[col + '.2'] = labData30to90fOtherDia2yrs[col + '.2'].replace(to_replace = r'^Low_Alkaline Phosphatase|^Low_ALKALINE PHOSPHATASE', value = 'Low.AlkalinePhosphatase', regex = True)\n",
    "  labData30to90fOtherDia2yrs[col + '.2'] = labData30to90fOtherDia2yrs[col + '.2'].replace(to_replace = r'^Low_Amylase|^Low_AMYLASE', value = 'Low.Amylase', regex = True)\n",
    "  labData30to90fOtherDia2yrs[col + '.2'] = labData30to90fOtherDia2yrs[col + '.2'].replace(to_replace = r'^Low_GGT', value = 'Low.GGT', regex = True)\n",
    "  labData30to90fOtherDia2yrs[col + '.2'] = labData30to90fOtherDia2yrs[col + '.2'].replace(to_replace = r'^Low_NEUTS', value = 'Low.Neuts', regex = True)\n",
    "\n",
    "\n",
    "  labData30to90fOtherDia2yrs[col + '.2'] = labData30to90fOtherDia2yrs[col + '.2'].replace(to_replace = r'^High_ACETONE|^Abnormal_ACETONE', value = 'High.Acetone', regex = True)\n",
    "  labData30to90fOtherDia2yrs[col + '.2'] = labData30to90fOtherDia2yrs[col + '.2'].replace(to_replace = r'^High_25 OH VIT', value = 'High.VitaminD', regex = True)\n",
    "  labData30to90fOtherDia2yrs[col + '.2'] = labData30to90fOtherDia2yrs[col + '.2'].replace(to_replace = r'^High_ALDOLASE', value = 'High.Aldolase', regex = True)\n",
    "  labData30to90fOtherDia2yrs[col + '.2'] = labData30to90fOtherDia2yrs[col + '.2'].replace(to_replace = r'^High_ALK PHOS|^High_Alkaline|^High_ALKALINE', value = 'High.AlkalinePhosphatase', regex = True)\n",
    "  labData30to90fOtherDia2yrs[col + '.2'] = labData30to90fOtherDia2yrs[col + '.2'].replace(to_replace = r'^High_Amylase|^High_AMYLASE', value = 'High.Amylase', regex = True)\n",
    "  labData30to90fOtherDia2yrs[col + '.2'] = labData30to90fOtherDia2yrs[col + '.2'].replace(to_replace = r'^High_Basos|^High_BASOS', value = 'High.Basos', regex = True)\n",
    "  labData30to90fOtherDia2yrs[col + '.2'] = labData30to90fOtherDia2yrs[col + '.2'].replace(to_replace = r'^High_Bilirubin|^High_BILIRUBIN|^High_Direct Bilirubin|^High_DIRECT BILIRUBIN|^High_TOTAL BILIRUBIN|^High_Total Bilirubin', value = 'High.Bilirubin', regex = True)\n",
    "  labData30to90fOtherDia2yrs[col + '.2'] = labData30to90fOtherDia2yrs[col + '.2'].replace(to_replace = r'^High_IONIZED CALCIUM|^High_Ionic Calcium|^High_Calcium|^High_CALCIUM|^High_IOCA', value = 'High.Calcium', regex = True)\n",
    "  labData30to90fOtherDia2yrs[col + '.2'] = labData30to90fOtherDia2yrs[col + '.2'].replace(to_replace = r'^High_Cardiac|^High_CARDIAC', value = 'High.CardiacRiskRatio', regex = True)\n",
    "  labData30to90fOtherDia2yrs[col + '.2'] = labData30to90fOtherDia2yrs[col + '.2'].replace(to_replace = r'^High_Cholesterol|^High_CHOLESTEROL|^High_MAYO CHOLESTEROL', value = 'High.Cholesterol', regex = True)\n",
    "  labData30to90fOtherDia2yrs[col + '.2'] = labData30to90fOtherDia2yrs[col + '.2'].replace(to_replace = r'^High_DIRECT LDL|^High_LDL|^High_Low Density Lipoprotein|^High_MAYO LDL|^High_MAYO VLDL|^High_VLDL|^High_CALCULATED LDL', value = 'High.LDL', regex = True)\n",
    "  labData30to90fOtherDia2yrs[col + '.2'] = labData30to90fOtherDia2yrs[col + '.2'].replace(to_replace = r'^High_Eos|^High_EOS', value = 'High.Eos', regex = True)\n",
    "  labData30to90fOtherDia2yrs[col + '.2'] = labData30to90fOtherDia2yrs[col + '.2'].replace(to_replace = r'^High_Ferritin|^High_FERRITIN', value = 'High.Ferritin', regex = True)\n",
    "  labData30to90fOtherDia2yrs[col + '.2'] = labData30to90fOtherDia2yrs[col + '.2'].replace(to_replace = r'^High_Folic|^High_FOLIC', value = 'High.FolicAcid', regex = True)\n",
    "  labData30to90fOtherDia2yrs[col + '.2'] = labData30to90fOtherDia2yrs[col + '.2'].replace(to_replace = r'^High_GAMMA|^High_GGT', value = 'High.GGT', regex = True)\n",
    "  labData30to90fOtherDia2yrs[col + '.2'] = labData30to90fOtherDia2yrs[col + '.2'].replace(to_replace = r'^High_Globulin|^High_GLOBULIN', value = 'High.Globulin', regex = True)\n",
    "  labData30to90fOtherDia2yrs[col + '.2'] = labData30to90fOtherDia2yrs[col + '.2'].replace(to_replace = r'^High_High Density Lipoprotein|^High_HDL|^High_MAYO HDL', value = 'High.HDL', regex = True)\n",
    "  labData30to90fOtherDia2yrs[col + '.2'] = labData30to90fOtherDia2yrs[col + '.2'].replace(to_replace = r'^High_Ionized Magnesium|^High_Magnesium|^High_MAGNESIUM', value = 'High.', regex = True)\n",
    "  labData30to90fOtherDia2yrs[col + '.2'] = labData30to90fOtherDia2yrs[col + '.2'].replace(to_replace = r'^High_Iron|^High_IRON', value = 'High.Iron', regex = True)\n",
    "  labData30to90fOtherDia2yrs[col + '.2'] = labData30to90fOtherDia2yrs[col + '.2'].replace(to_replace = r'^High_Lactic Dehydrogenase|^High_LDH|^High_LACTATE', value = 'High.LDH', regex = True)\n",
    "  labData30to90fOtherDia2yrs[col + '.2'] = labData30to90fOtherDia2yrs[col + '.2'].replace(to_replace = r'^High_Lymphs|^High_LYMPHS', value = 'High.Lymphs', regex = True)\n",
    "  labData30to90fOtherDia2yrs[col + '.2'] = labData30to90fOtherDia2yrs[col + '.2'].replace(to_replace = r'^High_Monos|^High_MONOS', value = 'High.Monos', regex = True)\n",
    "  labData30to90fOtherDia2yrs[col + '.2'] = labData30to90fOtherDia2yrs[col + '.2'].replace(to_replace = r'^High_NEUTS', value = 'High.Neuts', regex = True)\n",
    "  labData30to90fOtherDia2yrs[col + '.2'] = labData30to90fOtherDia2yrs[col + '.2'].replace(to_replace = r'^High_Osmolality|^High_OSMOLALITY', value = 'High.Osmolality', regex = True)\n",
    "  labData30to90fOtherDia2yrs[col + '.2'] = labData30to90fOtherDia2yrs[col + '.2'].replace(to_replace = r'^High_Phosphorus|^High_PHOSPHORUS', value = 'High.Phosphorus', regex = True)\n",
    "  labData30to90fOtherDia2yrs[col + '.2'] = labData30to90fOtherDia2yrs[col + '.2'].replace(to_replace = r'^High_Plasma', value = 'High.PlasmaCell', regex = True)\n",
    "  labData30to90fOtherDia2yrs[col + '.2'] = labData30to90fOtherDia2yrs[col + '.2'].replace(to_replace = r'^High_Poly', value = 'High.Poly', regex = True)\n",
    "  labData30to90fOtherDia2yrs[col + '.2'] = labData30to90fOtherDia2yrs[col + '.2'].replace(to_replace = r'^High_Albumin|^High_ALBUMIN', value = 'High.Albumin', regex = True)\n",
    "  labData30to90fOtherDia2yrs[col + '.2'] = labData30to90fOtherDia2yrs[col + '.2'].replace(to_replace = r'^High_Prealbumin|^High_PREALBUMIN', value = 'High.Albumin', regex = True)\n",
    "  labData30to90fOtherDia2yrs[col + '.2'] = labData30to90fOtherDia2yrs[col + '.2'].replace(to_replace = r'^High_Total Protein|^High_TOTAL PROTEIN|^High_Serum Total Protein', value = 'High.TotProtein', regex = True)\n",
    "  labData30to90fOtherDia2yrs[col + '.2'] = labData30to90fOtherDia2yrs[col + '.2'].replace(to_replace = r'^High_Triglycerides|^High_TRIGLYCERIDES|^High_MAYO TRIGLYCERIDES', value = 'High.Triglycerides', regex = True)\n",
    "  labData30to90fOtherDia2yrs[col + '.2'] = labData30to90fOtherDia2yrs[col + '.2'].replace(to_replace = r'^High_Uric Acid|^High_URIC ACID', value = 'High.UricAcid', regex = True)\n",
    "  labData30to90fOtherDia2yrs[col + '.2'] = labData30to90fOtherDia2yrs[col + '.2'].replace(to_replace = r'^High_Vitamin B12|^High_VITAMIN B12', value = 'High.VitaminB12', regex = True)\n"
   ]
  },
  {
   "cell_type": "code",
   "execution_count": null,
   "metadata": {},
   "outputs": [],
   "source": [
    "def labAbnFlg(labData30to90fOtherDia):\n",
    "  labData30to90fOtherDia2yrs = labData30to90fOtherDia.copy()\n",
    "  labData30to90fOtherDia2yrs = labData30to90fOtherDia2yrs[~labData30to90fOtherDia2yrs['Abnormal_Flag'].isna()]\n",
    "  labData30to90fOtherDia2yrs['Test_AbnFlg'] = labData30to90fOtherDia2yrs['Abnormal_Flag'] + '_' + labData30to90fOtherDia2yrs['Test_Description']\n",
    "  # print(labData30to90fOtherDia2yrs['Test_AbnFlg'].value_counts())\n",
    "\n",
    "\n",
    "  labCombTest(labData30to90fOtherDia2yrs, 'Test_AbnFlg')\n",
    "  # print(labData30to90fOtherDia2yrs['Test_AbnFlg.2'].value_counts())\n",
    "\n",
    "\n",
    "  labData30to90fOtherDiaAnalysis = labData30to90fOtherDia2yrs.loc[labData30to90fOtherDia2yrs.groupby(['StudyID', 'Test_AbnFlg.2'])['Lab.Age.90'].idxmin()].reset_index(drop = True)\n",
    "  # print(labData30to90fOtherDia2yrs.shape, labData30to90fOtherDiaAnalysis.shape)\n",
    "\n",
    "\n",
    "  labData30to90fOtherDiaAnalysisA = labData30to90fOtherDiaAnalysis[['StudyID', 'Test_AbnFlg.2']]\n",
    "  labData30to90fOtherDiaAnalysisForMerge = labData30to90fOtherDiaAnalysisA.astype({'Test_AbnFlg.2': 'string'})\n",
    "  labData30to90fOtherDiaAnalysisForMerge['Test_AbnFlg.2'] = 'LabAbnFlg_' + labData30to90fOtherDiaAnalysisForMerge['Test_AbnFlg.2']\n",
    "  labData30to90fOtherDiaAnalysisForMerge = labData30to90fOtherDiaAnalysisForMerge.pivot(index = 'StudyID', columns = 'Test_AbnFlg.2', values = 'Test_AbnFlg.2')\n",
    "  labData30to90fOtherDiaAnalysisForMerge = labData30to90fOtherDiaAnalysisForMerge.applymap(lambda x: 1 if isinstance(x, str) else 0).fillna(0)\n",
    "  labData30to90fOtherDiaAnalysisForMerge['StudyID'] = labData30to90fOtherDiaAnalysisForMerge.index\n",
    "  labData30to90fOtherDiaAnalysisForMerge = labData30to90fOtherDiaAnalysisForMerge.reset_index(drop = True)\n",
    "  print(labData30to90fOtherDiaAnalysisForMerge)\n",
    "  return labData30to90fOtherDiaAnalysisForMerge\n"
   ]
  },
  {
   "cell_type": "code",
   "execution_count": null,
   "metadata": {},
   "outputs": [],
   "source": [
    "def labResult(labData30to90fOtherDia):\n",
    "  labData30to90fOtherDia2yrs = labData30to90fOtherDia.copy()\n",
    "  labData30to90fOtherDia2yrs['Test'] = 'Lab' + '_' + labData30to90fOtherDia2yrs['Loinc_Code']\n",
    "  labData30to90fOtherDia2yrs = labData30to90fOtherDia2yrs[~labData30to90fOtherDia2yrs['Result'].isna()]\n",
    "  labData30to90fOtherDia2yrs['Result'] = labData30to90fOtherDia2yrs['Result'].str.replace('<','').replace('>','')\n",
    "  labData30to90fOtherDia2yrs = labData30to90fOtherDia2yrs[labData30to90fOtherDia2yrs['Result'].str.contains('^\\d(.*\\d)?$', regex = True)]\n",
    "  labData30to90fOtherDia2yrs['Result'] = labData30to90fOtherDia2yrs['Result'].apply(pd.to_numeric, errors='coerce')\n",
    "  labData30to90fOtherDia2yrs['Result'] = labData30to90fOtherDia2yrs['Result'].dropna()\n",
    "  # print(labData30to90fOtherDia2yrs)\n",
    "    \n",
    "  labData30to90fOtherDia2yrs['Result'] = labData30to90fOtherDia2yrs.groupby(['StudyID', 'Test'])['Result'].transform('mean')\n",
    "  labData30to90fOtherDiaAnalysis = labData30to90fOtherDia2yrs.loc[labData30to90fOtherDia2yrs.groupby(['StudyID', 'Test'])['Lab.Age.90'].idxmin()].reset_index(drop = True)\n",
    "  # print(labData30to90fOtherDia2yrs)\n",
    "\n",
    "\n",
    "  labData30to90fOtherDiaAnalysisA = labData30to90fOtherDiaAnalysis[['StudyID', 'Test', 'Result']]\n",
    "  labData30to90fOtherDiaAnalysisForMerge = labData30to90fOtherDiaAnalysisA.pivot(index = 'StudyID', columns = 'Test', values = 'Result')\n",
    "  labData30to90fOtherDiaAnalysisForMerge['StudyID'] = labData30to90fOtherDiaAnalysisForMerge.index\n",
    "  labData30to90fOtherDiaAnalysisForMerge = labData30to90fOtherDiaAnalysisForMerge.reset_index(drop = True)\n",
    "  print(labData30to90fOtherDiaAnalysisForMerge)\n",
    "  return labData30to90fOtherDiaAnalysisForMerge\n"
   ]
  },
  {
   "cell_type": "code",
   "execution_count": null,
   "metadata": {},
   "outputs": [],
   "source": [
    "# remove medication days from first NAFL if they are not numbers\n",
    "lab_nafl = lab_nafl[(lab_nafl['Lab.daysfrom_firstNAFL'] != 'n') & (lab_nafl['Lab.daysfrom_firstNAFL'] != 'y')]\n",
    "# restrict to Med.before.ICD11\n",
    "lab_nafl = lab_nafl.loc[lab_nafl['Lab.before.ICD11'] == 'y',]"
   ]
  },
  {
   "cell_type": "code",
   "execution_count": null,
   "metadata": {},
   "outputs": [],
   "source": [
    "# filter for within 2 years\n",
    "lab_nafl = lab_nafl[(lab_nafl['Lab.daysfrom_firstNAFL'].astype(int) > -730) & (lab_nafl['Lab.daysfrom_firstNAFL'].astype(int) < 0)]"
   ]
  },
  {
   "cell_type": "code",
   "execution_count": null,
   "metadata": {},
   "outputs": [],
   "source": [
    "# collapse test results\n",
    "lab_nafl = labResult(lab_nafl)"
   ]
  },
  {
   "cell_type": "code",
   "execution_count": null,
   "metadata": {},
   "outputs": [],
   "source": [
    "# only keep labs in more than 100 people\n",
    "lab_nafl = lab_nafl.loc[:,lab_nafl.count() >= 100]"
   ]
  },
  {
   "cell_type": "code",
   "execution_count": null,
   "metadata": {},
   "outputs": [],
   "source": [
    "lab_nafl = lab_nafl.fillna(0)"
   ]
  },
  {
   "cell_type": "code",
   "execution_count": null,
   "metadata": {},
   "outputs": [],
   "source": [
    "# save code to tsv\n",
    "lab_nafl.to_csv(\"/nobackup/users/ericason/mlhc-final-project/clean_data/nafl/lab.nafl.csv\", header=True, index=False, sep=\",\")"
   ]
  },
  {
   "cell_type": "markdown",
   "metadata": {},
   "source": [
    "# Clean Med Data\n",
    "- One-hot encoded with whether the patient had the corresponding medicine within 2 years prior to the first MASLD diagnosis\n",
    "- Limit to only those that appeared in at least 100 patients (should result in 759 medications)"
   ]
  },
  {
   "cell_type": "code",
   "execution_count": null,
   "metadata": {},
   "outputs": [],
   "source": [
    "import pandas as pd"
   ]
  },
  {
   "cell_type": "code",
   "execution_count": null,
   "metadata": {},
   "outputs": [],
   "source": [
    "med_nafl = pd.read_csv(\"/nobackup/users/ericason/mlhc-final-project/data/NAFLpatients_Jan2025request/Med_all.use.final.txt\", header=0, delimiter=\"\\t\")"
   ]
  },
  {
   "cell_type": "code",
   "execution_count": null,
   "metadata": {},
   "outputs": [],
   "source": [
    "med_nafl.columns"
   ]
  },
  {
   "cell_type": "code",
   "execution_count": null,
   "metadata": {},
   "outputs": [],
   "source": [
    "med_nafl.head()"
   ]
  },
  {
   "cell_type": "code",
   "execution_count": null,
   "metadata": {},
   "outputs": [],
   "source": [
    "# remove code types that appear very little\n",
    "codes_to_include = list(med_nafl['Code_Type'].value_counts()[med_nafl['Code_Type'].value_counts() > 20].index)"
   ]
  },
  {
   "cell_type": "code",
   "execution_count": null,
   "metadata": {},
   "outputs": [],
   "source": [
    "med_nafl = med_nafl[med_nafl['Code_Type'].isin(codes_to_include)]"
   ]
  },
  {
   "cell_type": "code",
   "execution_count": null,
   "metadata": {},
   "outputs": [],
   "source": [
    "med_nafl['MedType_Code'] = med_nafl['Code_Type'] + \"_\" + med_nafl['Code']"
   ]
  },
  {
   "cell_type": "code",
   "execution_count": null,
   "metadata": {},
   "outputs": [],
   "source": [
    "# remove medication days from first NAFL if they are not numbers\n",
    "med_nafl = med_nafl[(med_nafl['Med.daysfrom_firstNAFL'] != 'n') & (med_nafl['Med.daysfrom_firstNAFL'] != 'y')]"
   ]
  },
  {
   "cell_type": "code",
   "execution_count": null,
   "metadata": {},
   "outputs": [],
   "source": [
    "# filter for within 2 years\n",
    "med_nafl = med_nafl[(med_nafl['Med.daysfrom_firstNAFL'].astype(int) > -730) & (med_nafl['Med.daysfrom_firstNAFL'].astype(int) < 0)]"
   ]
  },
  {
   "cell_type": "code",
   "execution_count": null,
   "metadata": {},
   "outputs": [],
   "source": [
    "# restrict to Med.before.ICD11\n",
    "med_nafl = med_nafl.loc[med_nafl['Med.before.ICD11'] == 'y',]"
   ]
  },
  {
   "cell_type": "code",
   "execution_count": null,
   "metadata": {},
   "outputs": [],
   "source": [
    "# drop duplicates\n",
    "med_nafl = med_nafl[['StudyID', 'MedType_Code']] # only keep certain columns\n",
    "med_nafl.drop_duplicates(subset=['StudyID', 'MedType_Code'], keep='first', inplace=True) # deduplicate based on medication per patient"
   ]
  },
  {
   "cell_type": "code",
   "execution_count": null,
   "metadata": {},
   "outputs": [],
   "source": [
    "one_hot_med_nafl = pd.get_dummies(med_nafl, columns=['MedType_Code']) # one-hot encode"
   ]
  },
  {
   "cell_type": "code",
   "execution_count": null,
   "metadata": {},
   "outputs": [],
   "source": [
    "one_hot_med_nafl = one_hot_med_nafl.groupby('StudyID', as_index=False).max()"
   ]
  },
  {
   "cell_type": "code",
   "execution_count": null,
   "metadata": {},
   "outputs": [],
   "source": [
    "# restrict to medications that appear in at least 100 patients\n",
    "one_hot_med_nafl = one_hot_med_nafl.loc[:,one_hot_med_nafl.sum() >= 100]"
   ]
  },
  {
   "cell_type": "code",
   "execution_count": null,
   "metadata": {},
   "outputs": [],
   "source": [
    "# save code to csv\n",
    "one_hot_med_nafl.to_csv(\"/nobackup/users/ericason/mlhc-final-project/clean_data/nafl/med.nafl.csv\", header=True, index=False, sep=\",\")"
   ]
  }
 ],
 "metadata": {
  "kernelspec": {
   "display_name": "Python 3",
   "language": "python",
   "name": "python3"
  },
  "language_info": {
   "codemirror_mode": {
    "name": "ipython",
    "version": 3
   },
   "file_extension": ".py",
   "mimetype": "text/x-python",
   "name": "python",
   "nbconvert_exporter": "python",
   "pygments_lexer": "ipython3",
   "version": "3.8.1"
  }
 },
 "nbformat": 4,
 "nbformat_minor": 4
}
