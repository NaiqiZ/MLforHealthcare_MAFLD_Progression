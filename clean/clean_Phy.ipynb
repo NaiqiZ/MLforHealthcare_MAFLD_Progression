{
 "cells": [
  {
   "cell_type": "code",
   "execution_count": null,
   "id": "c6c0c419-bceb-4975-a68c-6b54a1855d8d",
   "metadata": {},
   "outputs": [],
   "source": [
    "# import statements\n",
    "import pandas as pd\n",
    "import numpy as np"
   ]
  },
  {
   "cell_type": "markdown",
   "id": "e1a8878c-0dbd-49cb-b251-a8ca9d3d5301",
   "metadata": {},
   "source": [
    "# ctrl data"
   ]
  },
  {
   "cell_type": "code",
   "execution_count": null,
   "id": "45bee7ac-cdca-4557-b6c8-5e4b243e2803",
   "metadata": {},
   "outputs": [],
   "source": [
    "ctrl.head(2)"
   ]
  },
  {
   "cell_type": "code",
   "execution_count": null,
   "id": "f0fcf5ef-a722-43e3-94ab-b242e6edccae",
   "metadata": {},
   "outputs": [],
   "source": [
    "# clean via keeping data before ICD11 and only BMI\n",
    "ctrl = ctrl[(ctrl['Concept_Name']=='BMI') & (ctrl['Phy.before.ICD11']=='y')]"
   ]
  },
  {
   "cell_type": "code",
   "execution_count": null,
   "id": "7bb1ddb2-17d3-45ad-bf61-2b91f6be0f23",
   "metadata": {},
   "outputs": [],
   "source": [
    "# pivot the data to take the mean of the BMI\n",
    "ctrl['Result_numeric'] = pd.to_numeric(ctrl['Result'])\n",
    "ctrl = ctrl.pivot_table(\n",
    "    index='StudyID',\n",
    "    values='Result_numeric',\n",
    "    columns='Concept_Name',\n",
    "    aggfunc='mean'\n",
    ")\n",
    "ctrl = ctrl.rename(columns={'BMI': 'mean_BMI'})"
   ]
  },
  {
   "cell_type": "code",
   "execution_count": null,
   "id": "36d12526-6a9f-4267-bb4d-e08bcd15e2ba",
   "metadata": {},
   "outputs": [],
   "source": [
    "# categorize mean BMI to bins of [0-25] (underweight), [25-30] (healthy), [30-inf] (obese)\n",
    "bins = [0, 25, 30, np.inf]\n",
    "labels = [0, 1, 2]\n",
    "\n",
    "ctrl['mean_BMI_category'] = pd.cut(ctrl['mean_BMI'], bins=bins, labels=labels, right=False)\n",
    "ctrl"
   ]
  },
  {
   "cell_type": "code",
   "execution_count": null,
   "id": "1ad2d995-98b2-460a-80cf-f166f923e706",
   "metadata": {},
   "outputs": [],
   "source": [
    "ctrl.to_csv(\"../clean_data/control/phy.control.csv\", index=True)"
   ]
  },
  {
   "cell_type": "markdown",
   "id": "855b34f5-31e8-4124-a0d1-4a9f5841ca20",
   "metadata": {},
   "source": [
    "# nafl data"
   ]
  },
  {
   "cell_type": "code",
   "execution_count": null,
   "id": "8d3f585d-a69f-4422-b205-ca724e0ebfd2",
   "metadata": {},
   "outputs": [],
   "source": [
    "# upload data\n",
    "nafl = pd.read_csv('../data/NAFLpatients_Jan2025request/Phy_all.use.final.txt', sep='\\t', quotechar='\"')\n",
    "\n",
    "# subset to only BMI and before ICD11\n",
    "nafl = nafl[(nafl['Concept_Name']=='BMI') & (nafl['Phy.before.ICD11']=='y')]\n",
    "\n",
    "# pivot the data to take the mean of the BMI\n",
    "nafl['Result_numeric'] = pd.to_numeric(nafl['Result'])\n",
    "nafl = nafl.pivot_table(\n",
    "    index='StudyID',\n",
    "    values='Result_numeric',\n",
    "    columns='Concept_Name',\n",
    "    aggfunc='mean'\n",
    ")\n",
    "nafl = nafl.rename(columns={'BMI': 'mean_BMI'})\n",
    "\n",
    "# categorize mean BMI to bins of [0-25] (underweight), [25-30] (healthy), [30-inf] (obese)\n",
    "bins = [0, 25, 30, np.inf]\n",
    "labels = [0, 1, 2]\n",
    "\n",
    "nafl['mean_BMI_category'] = pd.cut(nafl['mean_BMI'], bins=bins, labels=labels, right=False)"
   ]
  },
  {
   "cell_type": "code",
   "execution_count": null,
   "id": "a97be93a-d603-4034-8e23-5671589b04f7",
   "metadata": {},
   "outputs": [],
   "source": [
    "# also acquire the most recent BMI measurement before their NAFL diagnosis to represent each patient\n",
    "# upload data\n",
    "nafl1 = pd.read_csv('../data/NAFLpatients_Jan2025request/Phy_all.use.final.txt', sep='\\t', quotechar='\"')\n",
    "\n",
    "# subset to only BMI and before ICD11 and nonpositive days from first NAFL measurement\n",
    "nafl1 = nafl1[(nafl1['Concept_Name']=='BMI') & (nafl1['Phy.before.ICD11']=='y') & (nafl1['Phy.daysfrom_firstNAFL']<=0)]\n",
    "# group by StudyID and get the index of the maximum \"days from NAFL\" from those values\n",
    "idx = nafl1.groupby('StudyID')['Phy.daysfrom_firstNAFL'].idxmax()\n",
    "nafl1 = nafl1.loc[idx]"
   ]
  },
  {
   "cell_type": "code",
   "execution_count": null,
   "id": "0b8d573b-400c-4e5d-8bed-e8ae87a18372",
   "metadata": {},
   "outputs": [],
   "source": [
    "nafl1 = nafl1[['StudyID', 'Result', 'Phy.daysfrom_firstNAFL']] # only keep these cols"
   ]
  },
  {
   "cell_type": "code",
   "execution_count": null,
   "id": "49a0847f-187f-4724-b9b0-7c6d1affc282",
   "metadata": {},
   "outputs": [],
   "source": [
    "# categorize last BMI to bins of [0-25] (underweight), [25-30] (healthy), [30-inf] (obese)\n",
    "nafl1['Result_numeric'] = pd.to_numeric(nafl1['Result'])\n",
    "\n",
    "bins = [0, 25, 30, np.inf]\n",
    "labels = [0, 1, 2]\n",
    "\n",
    "nafl1['last_BMI_category'] = pd.cut(nafl1['Result_numeric'], bins=bins, labels=labels, right=False)\n",
    "nafl1 = nafl1[['StudyID', 'Result_numeric', 'last_BMI_category']]\n",
    "nafl1.rename(columns={'Result_numeric': 'last_BMI_before_NAFL'})"
   ]
  },
  {
   "cell_type": "code",
   "execution_count": null,
   "id": "bb6ad184-dd59-47c9-aa01-9a64506aa7d4",
   "metadata": {},
   "outputs": [],
   "source": [
    "merged_nafl = pd.merge(nafl, nafl1, on='StudyID', how='inner')"
   ]
  },
  {
   "cell_type": "code",
   "execution_count": null,
   "id": "07e67171-03f9-4859-8628-482ea2dcd2ea",
   "metadata": {},
   "outputs": [],
   "source": [
    "merged_nafl = merged_nafl.rename(columns={'Result_numeric': 'last_BMI'})\n",
    "merged_nafl"
   ]
  },
  {
   "cell_type": "code",
   "execution_count": null,
   "id": "ef6a7544-a2de-4e70-9b6c-2f454e59b1f8",
   "metadata": {},
   "outputs": [],
   "source": [
    "merged_nafl.to_csv(\"../clean_data/nafl/phy.nafl.csv\", index=False)"
   ]
  },
  {
   "cell_type": "code",
   "execution_count": null,
   "id": "aba21397-2ee5-45fc-b87a-3d4d89fe9511",
   "metadata": {},
   "outputs": [],
   "source": [
    "all_nan_features = Phy_Control.groupby(\"Concept_Name\")[\"Result\"].apply(lambda x: x.isna().all())"
   ]
  },
  {
   "cell_type": "code",
   "execution_count": null,
   "id": "71dfe86a-88a5-4507-85d3-032ca0b9c53c",
   "metadata": {},
   "outputs": [],
   "source": [
    "all_nan_features = all_nan_features[all_nan_features].index.tolist()\n",
    "all_nan_features"
   ]
  },
  {
   "cell_type": "code",
   "execution_count": null,
   "id": "ecee0ebb-6cd6-42e4-aae7-49dfed31a589",
   "metadata": {},
   "outputs": [],
   "source": [
    "# now i need to replace all of the NaN values with TRUE to differentiate it from NaNs when we concat later\n",
    "Phy_Control.loc[Phy_Control[\"Concept_Name\"].isin(all_nan_features), \"Result\"] = True"
   ]
  },
  {
   "cell_type": "code",
   "execution_count": null,
   "id": "cb5cb1e5-3470-48fb-9808-4c1275d71a85",
   "metadata": {},
   "outputs": [],
   "source": [
    "Phy_Control[\"Concept_Name\"].unique()"
   ]
  },
  {
   "cell_type": "code",
   "execution_count": null,
   "id": "5bde1897-46b9-46c5-b8f0-f17f4d3905be",
   "metadata": {},
   "outputs": [],
   "source": [
    "# since some columns are denoting a binary question, split those from columns that are numerical\n",
    "Categorical_Col = Phy_Control.loc[Phy_Control[\"Result\"].isna(), \"Concept_Name\"].unique()\n",
    "Numerical_Col = Phy_Control.loc[~Phy_Control[\"Result\"].isna(), \"Concept_Name\"].unique()"
   ]
  },
  {
   "cell_type": "code",
   "execution_count": null,
   "id": "306fa6e9-0a95-42e2-bf95-4156743531bc",
   "metadata": {},
   "outputs": [],
   "source": [
    "Phy_Control[Phy_Control[\"Concept_Name\"] == \"Albumin/creatinine ratio\"].head(2)"
   ]
  },
  {
   "cell_type": "code",
   "execution_count": null,
   "id": "19914876-40f3-4715-9b4a-800583c8d4b5",
   "metadata": {},
   "outputs": [],
   "source": [
    "# check if there are duplicates between the two lists\n",
    "def check_common_elements(list1, list2):\n",
    "    set1 = set(list1)\n",
    "    set2 = set(list2)\n",
    "    return set1.intersection(set2)\n",
    "\n",
    "Common_Col = check_common_elements(Categorical_Col, Numerical_Col)"
   ]
  },
  {
   "cell_type": "code",
   "execution_count": null,
   "id": "a06b707b-a7e3-4b47-bfd0-b6b3a6329718",
   "metadata": {},
   "outputs": [],
   "source": [
    "Common_Col"
   ]
  },
  {
   "cell_type": "code",
   "execution_count": null,
   "id": "6c0ed26d-b980-4ee2-8965-1664fb7cbf35",
   "metadata": {},
   "outputs": [],
   "source": [
    "any_remaining_nan_features = Phy_Control.groupby(\"Concept_Name\")[\"Result\"].apply(lambda x: x.isna().any())\n",
    "any_remaining_nan_features = any_remaining_nan_features[any_remaining_nan_features].index.tolist()\n",
    "any_remaining_nan_features"
   ]
  },
  {
   "cell_type": "code",
   "execution_count": null,
   "id": "0413d87b-1597-48a1-b5e3-411d6020e508",
   "metadata": {},
   "outputs": [],
   "source": [
    "# apply conditional imputing on these features that have some rows that only have NaNs but others that have more data\n",
    "def is_numeric_feature(group):\n",
    "    # Try to coerce to numeric and check if any value survives\n",
    "    return pd.to_numeric(group[\"Result\"], errors='coerce').notna().any()\n",
    "\n",
    "feature_is_numeric = Phy_Control.groupby(\"Concept_Name\").apply(is_numeric_feature)"
   ]
  },
  {
   "cell_type": "code",
   "execution_count": null,
   "id": "600c182f-ee5b-45fe-9724-47ea795b53c1",
   "metadata": {},
   "outputs": [],
   "source": [
    "def conditional_impute(group):\n",
    "    if feature_is_numeric.get(group.name, False):\n",
    "        # Numeric → fill NaN with median\n",
    "        result_numeric = pd.to_numeric(group[\"Result\"], errors='coerce')\n",
    "        median_val = result_numeric.median()\n",
    "        group[\"Result\"] = result_numeric.fillna(median_val)\n",
    "    else:\n",
    "        # Categorical → fill NaN with mode (most frequent string)\n",
    "        mode_val = group[\"Result\"].mode().iloc[0] if not group[\"Result\"].mode().empty else \"Unknown\"\n",
    "        group[\"Result\"] = group[\"Result\"].fillna(mode_val)\n",
    "    return group"
   ]
  },
  {
   "cell_type": "code",
   "execution_count": null,
   "id": "0bd71aa1-a321-49b3-bf21-e6a833e529df",
   "metadata": {},
   "outputs": [],
   "source": [
    "Phy_Control_Imputed = Phy_Control.groupby(\"Concept_Name\").apply(conditional_impute).reset_index(drop=True)"
   ]
  },
  {
   "cell_type": "code",
   "execution_count": null,
   "id": "d9e63611-8dad-4d3f-b908-81de6ec7fd38",
   "metadata": {},
   "outputs": [],
   "source": [
    "post_imp_nan_features = Phy_Control_Imputed.groupby(\"Concept_Name\")[\"Result\"].apply(lambda x: x.isna().any())\n",
    "post_imp_nan_features = post_imp_nan_features[post_imp_nan_features].index.tolist()\n",
    "post_imp_nan_features\n",
    "# should be empty because all should be filled in for!"
   ]
  },
  {
   "cell_type": "code",
   "execution_count": null,
   "id": "d5c2790d-d705-4376-82c5-f3137fbb4b3b",
   "metadata": {},
   "outputs": [],
   "source": [
    "# in the Results column, we have numerical values, boolean, and string. \n",
    "# for numerical, replace with the min, max, and mean columns.\n",
    "# for boolean, replace with binary (1 if seen).\n",
    "# for string, replace with mode of string.\n",
    "\n",
    "def classify_feature(group):\n",
    "    # Coerce to numeric\n",
    "    numeric_values = pd.to_numeric(group[\"Result\"], errors=\"coerce\")\n",
    "    if numeric_values.notna().all():\n",
    "        return \"numeric\"\n",
    "    elif set(group[\"Result\"].dropna().unique()) <= {\"True\", \"False\"}:\n",
    "        return \"boolean\"\n",
    "    else:\n",
    "        return \"categorical\"\n",
    "\n",
    "feature_types = Phy_Control_Imputed.groupby(\"Concept_Name\").apply(classify_feature)"
   ]
  },
  {
   "cell_type": "code",
   "execution_count": null,
   "id": "806d8bea-fcb4-48cf-9833-0ba1dff3e4ac",
   "metadata": {},
   "outputs": [],
   "source": [
    "df = Phy_Control_Imputed\n",
    "numeric_features = feature_types[feature_types == \"numeric\"].index.tolist()\n",
    "df_numeric = df[df[\"Concept_Name\"].isin(numeric_features)].copy()\n",
    "df_numeric[\"Result\"] = pd.to_numeric(df_numeric[\"Result\"], errors=\"coerce\")\n",
    "\n",
    "df_numeric_pivot = df_numeric.pivot_table(\n",
    "    index=\"StudyID\",\n",
    "    columns=\"Concept_Name\",\n",
    "    values=\"Result\",\n",
    "    aggfunc=[\"mean\", \"max\", \"min\"]\n",
    ")\n",
    "\n",
    "# Flatten column names\n",
    "df_numeric_pivot.columns = [f\"{agg}_{feat}\" for agg, feat in df_numeric_pivot.columns]"
   ]
  },
  {
   "cell_type": "code",
   "execution_count": null,
   "id": "84a6bc6e-19c3-4d36-86fb-c1d6e18431cf",
   "metadata": {},
   "outputs": [],
   "source": [
    "boolean_features = feature_types[feature_types == \"boolean\"].index.tolist()\n",
    "df_bool = df[df[\"Concept_Name\"].isin(boolean_features)].copy()\n",
    "\n",
    "# Convert \"True\"/\"False\" strings to actual booleans\n",
    "df_bool[\"Result\"] = df_bool[\"Result\"].map({True: 1, False: 0})\n",
    "\n",
    "# Use max — if patient ever had \"True\", result is 1\n",
    "df_bool_pivot = df_bool.pivot_table(\n",
    "    index=\"StudyID\",\n",
    "    columns=\"Concept_Name\",\n",
    "    values=\"Result\",\n",
    "    aggfunc=\"max\"\n",
    ")\n",
    "\n",
    "df_bool_pivot.columns = [f\"{col}\" for col in df_bool_pivot.columns]"
   ]
  },
  {
   "cell_type": "code",
   "execution_count": null,
   "id": "b0261ed0-a5d5-464e-9326-45fa005f0460",
   "metadata": {},
   "outputs": [],
   "source": [
    "def get_mode(series):\n",
    "    return series.mode().iloc[0] if not series.mode().empty else \"Unknown\"\n",
    "\n",
    "categorical_features = feature_types[feature_types == \"categorical\"].index.tolist()\n",
    "df_cat = df[df[\"Concept_Name\"].isin(categorical_features)].copy()\n",
    "\n",
    "df_cat_pivot = df_cat.pivot_table(\n",
    "    index=\"StudyID\",\n",
    "    columns=\"Concept_Name\",\n",
    "    values=\"Result\",\n",
    "    aggfunc=get_mode\n",
    ")\n",
    "\n",
    "df_cat_pivot.columns = [f\"{col}_mode\" for col in df_cat_pivot.columns]"
   ]
  },
  {
   "cell_type": "code",
   "execution_count": null,
   "id": "1e8fe7c6-2e10-4f93-98c1-f6f74a2ce624",
   "metadata": {},
   "outputs": [],
   "source": [
    "final_df = pd.concat([df_numeric_pivot, df_bool_pivot, df_cat_pivot], axis=1).reset_index()"
   ]
  },
  {
   "cell_type": "code",
   "execution_count": null,
   "id": "b63d9c55-9971-4aef-80e4-45173364fc81",
   "metadata": {},
   "outputs": [],
   "source": [
    "final_df.head()"
   ]
  },
  {
   "cell_type": "code",
   "execution_count": null,
   "id": "2248105e-3c00-425e-9ca4-3d74c57c546f",
   "metadata": {},
   "outputs": [],
   "source": [
    "final_df.to_csv('Phy_Control_NoFeaturesDropped.csv', index=False)"
   ]
  },
  {
   "cell_type": "code",
   "execution_count": null,
   "id": "8812b668-4886-4775-9a5e-8690979b15b4",
   "metadata": {},
   "outputs": [],
   "source": [
    "# drop features present in less than 10% of population\n",
    "missing_fraction = final_df.isna().mean()\n",
    "keep_cols = missing_fraction[missing_fraction <= 0.90].index.tolist()"
   ]
  },
  {
   "cell_type": "code",
   "execution_count": null,
   "id": "54bd1a1e-db3d-415f-90e1-a4a7780cb6de",
   "metadata": {},
   "outputs": [],
   "source": [
    "print(f\"Dropped {len(keep_cols)} columns with <10% coverage.\")\n",
    "filtered_df = final_df[keep_cols]"
   ]
  },
  {
   "cell_type": "code",
   "execution_count": null,
   "id": "23df7eeb-c396-4d46-a131-628f5a94a686",
   "metadata": {},
   "outputs": [],
   "source": [
    "filtered_df.head()"
   ]
  },
  {
   "cell_type": "code",
   "execution_count": null,
   "id": "87a1989a-13dd-49cc-9d6e-9557c1d9d142",
   "metadata": {},
   "outputs": [],
   "source": []
  }
 ],
 "metadata": {
  "kernelspec": {
   "display_name": "Python [conda env:torch-nafld]",
   "language": "python",
   "name": "conda-env-torch-nafld-py"
  },
  "language_info": {
   "codemirror_mode": {
    "name": "ipython",
    "version": 3
   },
   "file_extension": ".py",
   "mimetype": "text/x-python",
   "name": "python",
   "nbconvert_exporter": "python",
   "pygments_lexer": "ipython3",
   "version": "3.11.9"
  }
 },
 "nbformat": 4,
 "nbformat_minor": 5
}
