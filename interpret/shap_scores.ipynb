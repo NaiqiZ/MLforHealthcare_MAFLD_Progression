{
 "cells": [
  {
   "cell_type": "markdown",
   "id": "4ff8f888-97eb-40dd-869b-e31c3e72c3ac",
   "metadata": {},
   "source": [
    "# import statements and upload data"
   ]
  },
  {
   "cell_type": "code",
   "execution_count": null,
   "id": "a03b07da-ea00-4730-b8c6-5fbc46916e34",
   "metadata": {},
   "outputs": [],
   "source": [
    "import pandas as pd\n",
    "import numpy as np\n",
    "# import torch\n",
    "# import torch.optim as optim\n",
    "# from torch import nn\n",
    "# from torch.utils.data import Dataset, DataLoader\n",
    "# import shap\n",
    "\n",
    "# from sklearn.metrics import roc_auc_score, confusion_matrix, classification_report, mean_squared_error\n",
    "# from sklearn.model_selection import train_test_split\n",
    "# from sklearn.preprocessing import StandardScaler \n",
    "\n",
    "# data = pd.read_csv(\"../clean_data/nafl/combined.large.nafl.csv\")"
   ]
  },
  {
   "cell_type": "code",
   "execution_count": null,
   "id": "3a07e070-8dc0-42a0-81fd-ecc7762f4ba0",
   "metadata": {},
   "outputs": [],
   "source": [
    "# create the X and Y datasets\n",
    "\n",
    "# data = data.drop(columns='DaysUntilFirstProgression')\n",
    "data = data.drop(columns='Outcome')\n",
    "data = data.drop(columns='Censored')\n",
    "\n",
    "# Y = data[['StudyID', 'Outcome']]\n",
    "Y = data[['StudyID', 'DaysUntilFirstProgression']]\n",
    "X = data.drop(columns='DaysUntilFirstProgression')\n",
    "X = X.drop(columns=['mean_BMI_category', 'last_BMI_category'])\n",
    "\n",
    "X = X.set_index('StudyID')\n",
    "Y = Y.set_index('StudyID')\n",
    "\n",
    "# get all features that start with Lab\n",
    "lab_feat = [feat for feat in X.columns if 'Lab' in feat]\n",
    "numerical_feat = ['mean_BMI', 'last_BMI', 'FirstNAFL.Age.90']\n",
    "numerical_feat.extend(lab_feat)"
   ]
  },
  {
   "cell_type": "code",
   "execution_count": null,
   "id": "5c7c9bb5-e423-4afb-af90-cc98b458e1ce",
   "metadata": {},
   "outputs": [],
   "source": [
    "# check if GPU is enabled\n",
    "device = \"cuda\" if torch.cuda.is_available() else \"cpu\" # need to define device since python can use both cpu and gpu\n",
    "print(f\"Using {device} device\")\n",
    "print(f\"Shape of X: {X.shape}. Shape of Y: {Y.shape}.\")"
   ]
  },
  {
   "cell_type": "markdown",
   "id": "062888bd-840e-46c9-9adc-37891d367874",
   "metadata": {
    "jp-MarkdownHeadingCollapsed": true
   },
   "source": [
    "# setup the model using saved weights"
   ]
  },
  {
   "cell_type": "code",
   "execution_count": null,
   "id": "c45141c7-d0b0-4fd2-8751-10d2ef9df987",
   "metadata": {},
   "outputs": [],
   "source": [
    "# curate the dataset\n",
    "class MAFLDDataset(Dataset): # must contain init, len, and getitem\n",
    "    def __init__(self, X, y):\n",
    "        self.X = torch.tensor(X, dtype=torch.float32)\n",
    "        self.y = torch.tensor(y, dtype=torch.float32)\n",
    "    \n",
    "    def __len__(self):\n",
    "        return len(self.X)\n",
    "    \n",
    "    def __getitem__(self, idx):\n",
    "        return self.X[idx], self.y[idx]\n",
    "\n",
    "# dataset = MAFLDDataset(X_torch, Y_torch)\n",
    "# train_loader = DataLoader(dataset, batch_size=64, shuffle=True) # batch size 64"
   ]
  },
  {
   "cell_type": "code",
   "execution_count": null,
   "id": "334566e3-edbd-4a21-b797-116b424c1b99",
   "metadata": {},
   "outputs": [],
   "source": [
    "# define by subclassing nn.Module and initialize the neural network layers in __init__.\n",
    "class NeuralNetwork(nn.Module):\n",
    "    def __init__(self):\n",
    "        super().__init__() # inherit init from parent class\n",
    "        self.linear_relu_stack = nn.Sequential(\n",
    "            nn.Linear(X.shape[1], 1024),\n",
    "            nn.ReLU(),\n",
    "            nn.Linear(1024, 512),\n",
    "            nn.ReLU(),\n",
    "            nn.Linear(512, 128),\n",
    "            nn.ReLU(),\n",
    "            nn.Linear(128, 64),\n",
    "            nn.ReLU(),\n",
    "            nn.Linear(64, 32),\n",
    "            nn.ReLU(),\n",
    "            nn.Linear(32, 1), # no activation follows this layer\n",
    "        )\n",
    "        # self.sigmoid = nn.Sigmoid() # remove if predicting non-binary outcome\n",
    "\n",
    "    def forward(self, x):\n",
    "        pred = self.linear_relu_stack(x)\n",
    "        return pred"
   ]
  },
  {
   "cell_type": "code",
   "execution_count": null,
   "id": "1032ee29-450f-4ca7-8c85-add72cba3d57",
   "metadata": {},
   "outputs": [],
   "source": [
    "# create an instance of NeuralNetwork, move to device, print its structure\n",
    "model = NeuralNetwork().to(device)\n",
    "model.load_state_dict(torch.load(\"numeric_nn_scaled_x_and_y.pth\"))\n",
    "\n",
    "# define loss function and optimizer\n",
    "loss_fn = nn.MSELoss()\n",
    "optimizer = optim.Adam(model.parameters(), lr=1e-3) # start with this baseline learning rate"
   ]
  },
  {
   "cell_type": "markdown",
   "id": "e41ed745-8ae4-41bb-8180-4db40d2d93f4",
   "metadata": {
    "jp-MarkdownHeadingCollapsed": true
   },
   "source": [
    "# scale the data"
   ]
  },
  {
   "cell_type": "code",
   "execution_count": null,
   "id": "70fa794a-194d-45f7-9cc2-a1f768989ac9",
   "metadata": {},
   "outputs": [],
   "source": [
    "X_train, X_test, y_train, y_test = train_test_split(X, Y, test_size=0.3, random_state=42)"
   ]
  },
  {
   "cell_type": "code",
   "execution_count": null,
   "id": "82889792-35dc-4e29-8465-3021a10f5012",
   "metadata": {},
   "outputs": [],
   "source": [
    "# write a function to only standardize the numerical columns and reattach to the rest of the dataframe\n",
    "scaler = StandardScaler()\n",
    "\n",
    "def standardize_numerical(dataframe, num_feat=numerical_feat, training_set=True):\n",
    "    \"\"\"\n",
    "    dataframe: Pandas DataFrame\n",
    "\n",
    "    Returns: a processed DataFrame where the numerical features have been standardized and the categorical features remain the same.\n",
    "    \"\"\"\n",
    "    if training_set:\n",
    "        scaled = scaler.fit_transform(dataframe[num_feat])\n",
    "    else:\n",
    "        scaled = scaler.transform(dataframe[num_feat])\n",
    "        \n",
    "    scaled_df = pd.DataFrame(scaled, columns=num_feat, index=dataframe.index)\n",
    "    cat = dataframe.drop(columns=num_feat)\n",
    "    processed = pd.concat([scaled_df, cat], axis=1)\n",
    "\n",
    "    return processed"
   ]
  },
  {
   "cell_type": "code",
   "execution_count": null,
   "id": "2393a12e-7b6a-44b3-b099-a56510fcca75",
   "metadata": {},
   "outputs": [],
   "source": [
    "# standardize our features\n",
    "X_train_scaled = standardize_numerical(X_train, training_set=True)\n",
    "X_test_scaled = standardize_numerical(X_test, training_set=False)"
   ]
  },
  {
   "cell_type": "code",
   "execution_count": null,
   "id": "e825ff8b-efeb-44df-97e7-45463d4c5e4c",
   "metadata": {},
   "outputs": [],
   "source": [
    "scaler_y = StandardScaler()\n",
    "y_train_scaled = scaler_y.fit_transform(y_train.to_numpy().reshape(-1, 1))"
   ]
  },
  {
   "cell_type": "markdown",
   "id": "3cd80599-bb15-4baf-9064-7d397d103a8b",
   "metadata": {
    "jp-MarkdownHeadingCollapsed": true
   },
   "source": [
    "# get the features from lin/log reg model"
   ]
  },
  {
   "cell_type": "code",
   "execution_count": null,
   "id": "6e3a2ffd-5b57-46ec-a32d-a690c39b90f8",
   "metadata": {},
   "outputs": [],
   "source": [
    "neg_feat_lin_reg = ['MedType_Code_HCPCS_J0456', 'MedType_Code_EPIC-MED_17380', 'MedType_Code_EPIC-MED_26226', 'MedType_Code_EPIC-MED_6004080010', 'Gender_Legal_Sex_Unknown-U', 'MedType_Code_HCPCS_J2720', 'MedType_Code_HCPCS_J2590', 'MedType_Code_EPIC-MED_29132', 'MedType_Code_EPIC-MED_18302', 'MedType_Code_EPIC-PRC_47501945']\n",
    "pos_feat_lin_reg = ['MedType_Code_EPIC-PRC_47561667', 'MedType_Code_EPIC-MED_98249', 'MedType_Code_HCPCS_J1756', 'MedType_Code_EPIC-MED_6677', 'MedType_Code_HCPCS_J1453', 'MedType_Code_HCPCS_J7507', 'MedType_Code_EPIC-PRC_77100001', 'MedType_Code_HCPCS_J2185', 'MedType_Code_HCPCS_C9113', 'MedType_Code_EPIC-MED_21063']"
   ]
  },
  {
   "cell_type": "code",
   "execution_count": null,
   "id": "6f41e1fa-e21a-4b5d-95d9-63b486e8179b",
   "metadata": {},
   "outputs": [],
   "source": [
    "neg_feat_log_reg = ['MedType_Code_HCPCS_J0456', 'MedType_Code_EPIC-MED_17380', 'MedType_Code_EPIC-MED_26226', 'MedType_Code_EPIC-MED_6004080010', 'Gender_Legal_Sex_Unknown-U', 'MedType_Code_HCPCS_J2720', 'MedType_Code_HCPCS_J2590', 'MedType_Code_EPIC-MED_29132', 'MedType_Code_EPIC-MED_18302', 'MedType_Code_EPIC-PRC_47501945']\n",
    "pos_feat_log_reg = ['MedType_Code_EPIC-PRC_47561667', 'MedType_Code_EPIC-MED_98249', 'MedType_Code_HCPCS_J1756', 'MedType_Code_EPIC-MED_6677', 'MedType_Code_HCPCS_J1453', 'MedType_Code_HCPCS_J7507', 'MedType_Code_EPIC-PRC_77100001', 'MedType_Code_HCPCS_J2185', 'MedType_Code_HCPCS_C9113', 'MedType_Code_EPIC-MED_21063']"
   ]
  },
  {
   "cell_type": "markdown",
   "id": "8e47764c-b401-472d-a044-5fbd65f1c4f9",
   "metadata": {},
   "source": [
    "# build shap explainer"
   ]
  },
  {
   "cell_type": "code",
   "execution_count": null,
   "id": "ac826f00-3c42-449b-b8f5-219f6993b573",
   "metadata": {},
   "outputs": [],
   "source": [
    "def model_wrapper(array):\n",
    "    ''' Wrapper around the torch model() function to pass into shap explainer.\n",
    "        array: Pandas DataFrame\n",
    "        Returns: torch\n",
    "    '''\n",
    "    if isinstance(array, pd.DataFrame):\n",
    "        array = array.to_numpy()\n",
    "    array = torch.tensor(array.astype('float32')).to(device)\n",
    "    # array = array.to(device)\n",
    "    model.eval()\n",
    "    y_hat_test_scaled = model(array)\n",
    "    y_hat_test_scaled = y_hat_test_scaled.cpu().detach()\n",
    "    y_pred_rescaled = scaler_y.inverse_transform(y_hat_test_scaled.numpy())\n",
    "    return y_pred_rescaled\n",
    "\n",
    "feature_names = X.columns"
   ]
  },
  {
   "cell_type": "code",
   "execution_count": null,
   "id": "b72d6579-c092-455f-8b2b-6a62ccc62637",
   "metadata": {},
   "outputs": [],
   "source": [
    "X_test_scaled.shape"
   ]
  },
  {
   "cell_type": "code",
   "execution_count": null,
   "id": "b06863fe-9368-42d5-942f-ac09cc02a3aa",
   "metadata": {},
   "outputs": [],
   "source": [
    "X_train_scaled.shape"
   ]
  },
  {
   "cell_type": "code",
   "execution_count": null,
   "id": "f6afda6b-df4c-4fba-ba65-bb50f7d6b88b",
   "metadata": {},
   "outputs": [],
   "source": [
    "explainer = shap.DeepExplainer(model, torch.tensor(X_train_scaled.to_numpy().astype(np.float32)).to(device))"
   ]
  },
  {
   "cell_type": "code",
   "execution_count": null,
   "id": "4c57adf5-3936-41af-957b-451f3060f774",
   "metadata": {},
   "outputs": [],
   "source": [
    "shap_values = explainer.shap_values(torch.tensor(X_test_scaled.to_numpy().astype(np.float32)).to(device))"
   ]
  },
  {
   "cell_type": "code",
   "execution_count": null,
   "id": "6f85a5f0-ea5d-4a1d-ba2c-783adab97546",
   "metadata": {},
   "outputs": [],
   "source": [
    "# Violin plot! Each of the 17 features are represented by a distribution of SHAP scores across 246 test samples\n",
    "for i in range(5):\n",
    "  shap.plots.violin(shap_values[:,:,i], features=features_test_df, feature_names=feature_names, plot_type='layered_violin')"
   ]
  },
  {
   "cell_type": "markdown",
   "id": "ce972e7c-d392-429f-b2a7-856e0d15c6f0",
   "metadata": {},
   "source": [
    "# getting human-readable names from the shap features"
   ]
  },
  {
   "cell_type": "code",
   "execution_count": null,
   "id": "63c32f34-a169-44cd-9eab-eba9dae9382a",
   "metadata": {},
   "outputs": [],
   "source": [
    "shap_positive = ['Lab_19153-6',\n",
    " 'Lab_2093-3',\n",
    " 'MedType_Code_EPIC-MED_10328',\n",
    " 'Lab_3094-0',\n",
    " 'Lab_2089-1',\n",
    " 'Lab_1968-7',\n",
    " 'Lab_2695-5',\n",
    " 'MedType_Code_EPIC-MED_10012',\n",
    " 'MedType_Code_EPIC-MED_10368',\n",
    " 'MedType_Code_EPIC-MED_27698']\n",
    "\n",
    "shap_negative = ['Lab_777-3',\n",
    " 'Lab_2336-6',\n",
    " 'Lab_4679-7',\n",
    " 'Lab_2502-3',\n",
    " 'Lab_2284-8',\n",
    " 'Lab_789-8',\n",
    " 'Code_Z12.5',\n",
    " 'MedType_Code_LMR_576',\n",
    " 'MedType_Code_EPIC-MED_693',\n",
    " 'Lab_XC5-9']\n",
    "\n",
    "shap_top_10 = ['Lab_4679-7',\n",
    " 'Lab_14338-8',\n",
    " 'Lab_2132-9',\n",
    " 'Lab_6768-6',\n",
    " 'Code_Z23',\n",
    " 'Lab_6690-2',\n",
    " 'Lab_2093-3',\n",
    " 'MedType_Code_EPIC-MED_10328',\n",
    " 'Lab_13457-7',\n",
    " 'Lab_2571-8']"
   ]
  },
  {
   "cell_type": "code",
   "execution_count": null,
   "id": "51eacda7-a2cb-4204-a3a3-e376c8758dde",
   "metadata": {},
   "outputs": [],
   "source": [
    "# setup the translate function\n",
    "med_df = pd.read_csv(\"/nobackup/users/ericason/mlhc-final-project/data/NAFLpatients_Jan2025request/Med_all.use.final.txt\", delimiter=\"\\t\", header=0)\n",
    "lab_df = pd.read_csv(\"/nobackup/users/ericason/mlhc-final-project/data/NAFLpatients_Jan2025request/Lab_all.use.final.txt\", delimiter=\"\\t\", header=0)\n",
    "dia_df = pd.read_csv(\"/nobackup/users/ericason/mlhc-final-project/data/NAFLpatients_Jan2025request/Dia_all.use.final.txt\", delimiter=\"\\t\", header=0)\n",
    "\n",
    "med_codes = \"MedType_Code_\" + med_df[\"Code_Type\"] + \"_\" + med_df[\"Code\"]\n",
    "med_codes_df = pd.concat([med_codes, med_df[\"Medication\"]], axis=1)\n",
    "med_codes_df.columns = [\"Code\", \"Medication\"]\n",
    "med_codes_df = med_codes_df.drop_duplicates() # drop duplicate codes and medications\n",
    "\n",
    "lab_codes = \"Lab_\" + lab_df[\"Loinc_Code\"]\n",
    "lab_codes_df = pd.concat([lab_codes, lab_df[\"Test_Description\"]], axis=1)\n",
    "lab_codes_df.columns = [\"Code\", \"Lab Test\"]\n",
    "lab_codes_df = lab_codes_df.drop_duplicates() # drop duplicate codes and medications\n",
    "\n",
    "dia_codes = \"Code_\" + dia_df[\"Code\"]\n",
    "dia_codes_df = pd.concat([dia_codes, dia_df[\"Diagnosis_Name\"]], axis=1)\n",
    "dia_codes_df.columns = [\"Code\", \"Diagnosis\"]\n",
    "dia_codes_df = dia_codes_df.drop_duplicates() # drop duplicate codes and medications"
   ]
  },
  {
   "cell_type": "code",
   "execution_count": null,
   "id": "100c5d27-ab4d-4181-86db-49e21c665c6e",
   "metadata": {},
   "outputs": [],
   "source": [
    "def translate_codes(input):\n",
    "    \"\"\"\n",
    "    Given a list of various codified features, return a list in the same order with human-readable names.\n",
    "    input: list\n",
    "    Returns: list\n",
    "    \"\"\"\n",
    "    output = []\n",
    "\n",
    "    for code in input:\n",
    "        if 'Med' in code:\n",
    "            translation = translate_helper(code, med_codes_df)\n",
    "        elif 'Lab' in code:\n",
    "            translation = translate_helper(code, lab_codes_df)\n",
    "        elif 'Code' in code:\n",
    "            translation = translate_helper(code, dia_codes_df)\n",
    "        else:\n",
    "            translation = \"Unknown\"\n",
    "\n",
    "        output.append({'code': code, 'description': translation})\n",
    "\n",
    "    return pd.DataFrame(output)\n",
    "            \n",
    "def translate_helper(code, df):\n",
    "    foo = df[df['Code'] == code] # .drop_duplicates(subset='Code', keep='first')\n",
    "    return foo.iloc[:, 1]"
   ]
  },
  {
   "cell_type": "code",
   "execution_count": null,
   "id": "b56b6294-a7d5-4323-8e9d-bdd3bb8229f8",
   "metadata": {},
   "outputs": [],
   "source": [
    "foo = ['Code_R53.83',\n",
    " 'Code_R79.89',\n",
    " 'Lab_2078-4',\n",
    " 'Lab_3094-0',\n",
    " 'Code_E11.9',\n",
    " 'Lab_2132-9',\n",
    " 'Lab_2571-8',\n",
    " 'Code_M79.672',\n",
    " 'Code_175',\n",
    " 'Code_R53.81']\n",
    "\n",
    "bar = translate_codes(foo)\n",
    "bar"
   ]
  },
  {
   "cell_type": "code",
   "execution_count": null,
   "id": "76975112-7eaa-46ea-a40a-7c5cbdcc1c6d",
   "metadata": {},
   "outputs": [],
   "source": [
    "translate_codes(['Lab_4679-7'])"
   ]
  },
  {
   "cell_type": "code",
   "execution_count": null,
   "id": "82d2201f-2d96-42a3-8059-8475b1ebbc67",
   "metadata": {},
   "outputs": [],
   "source": [
    "pd.set_option('display.max_colwidth', 3000)"
   ]
  },
  {
   "cell_type": "code",
   "execution_count": null,
   "id": "ee7b720b-4307-44ae-8417-8f382a48a6e9",
   "metadata": {},
   "outputs": [],
   "source": [
    "[Other fatigue, Other specified abnormal findings of blood chemistry, Urine Chloride, Plasma Urea Nitrogen, Type 2 diabetes mellitus without complications, Vitamin B12, Triglycerides, Pain in left foot, Percutaneous Cardiovascular Procedures, Other malaise]\n",
    "\n",
    "\n"
   ]
  },
  {
   "cell_type": "code",
   "execution_count": null,
   "id": "394a166f-5673-4941-a9d7-fe87255405dd",
   "metadata": {},
   "outputs": [],
   "source": [
    "[Meperidine (Pf) 100 mg/ml Injection Solution, Insulin Lispro 100 Unit/ml Subcutaneous Pen, Allergy, unspecified, initial encounter, Acne, unspecified, Major Pancreas, Liver And Shunt Procedures, Other specified disorders involving the immune, Diazepam 5 mg Tablet, Hypersomnia, unspecified, Pneumococcal Polysac Vaccine 23-V 2 Yrs/>subq/, Abnormal findings on diagnostic imaging of liver and biliary tract\n",
    "]\n",
    "\n",
    "\n"
   ]
  },
  {
   "cell_type": "code",
   "execution_count": null,
   "id": "b7d1173e-54e5-4dd8-b340-42e022925123",
   "metadata": {},
   "outputs": [],
   "source": [
    "shap_positive_med = [x for x in shap_positive if 'Med' in x]\n",
    "shap_positive_lab = [x for x in shap_positive if 'Lab' in x]\n",
    "shap_positive_dia = [x for x in shap_positive if 'Code' in x]\n",
    "\n",
    "shap_negative_med = [x for x in shap_negative if 'Med' in x]\n",
    "shap_negative_lab = [x for x in shap_negative if 'Lab' in x]\n",
    "shap_negative_dia = [x for x in shap_negative if 'Code' in x]"
   ]
  },
  {
   "cell_type": "code",
   "execution_count": null,
   "id": "17998390-7985-4f5c-983f-415ec8643309",
   "metadata": {},
   "outputs": [],
   "source": [
    "med_df = pd.read_csv(\"/nobackup/users/ericason/mlhc-final-project/data/NAFLpatients_Jan2025request/Med_all.use.final.txt\", delimiter=\"\\t\", header=0)\n",
    "med_df.head()"
   ]
  },
  {
   "cell_type": "code",
   "execution_count": null,
   "id": "f77705a8-5d05-4dd7-807e-f3eb75489a07",
   "metadata": {},
   "outputs": [],
   "source": [
    "med_codes = \"MedType_Code_\" + med_df[\"Code_Type\"] + \"_\" + med_df[\"Code\"]\n",
    "med_codes_df = pd.concat([med_codes, med_df[\"Medication\"]], axis=1)\n",
    "med_codes_df.columns = [\"Code\", \"Medication\"]\n",
    "med_codes_df.head()\n",
    "med_codes_df = med_codes_df.drop_duplicates() # drop duplicate codes and medications\n",
    "med_codes_df.shape"
   ]
  },
  {
   "cell_type": "code",
   "execution_count": null,
   "id": "b74d56d5-d8f9-4f97-b902-828766e135d9",
   "metadata": {},
   "outputs": [],
   "source": [
    "med_codes_df[med_codes_df['Code'].isin(shap_positive_med)] # most positive descriptions"
   ]
  },
  {
   "cell_type": "code",
   "execution_count": null,
   "id": "7030226d-7152-4e58-b9b9-6bdf1f1d54ca",
   "metadata": {},
   "outputs": [],
   "source": [
    "buz = med_codes_df[med_codes_df['Code'].isin(shap_negative_med)] # most positive descriptions"
   ]
  },
  {
   "cell_type": "code",
   "execution_count": null,
   "id": "4cc666d5-ebb1-4886-bba9-dfeb314fa3e2",
   "metadata": {},
   "outputs": [],
   "source": [
    "buz.iloc[:, 1].to_list()"
   ]
  },
  {
   "cell_type": "code",
   "execution_count": null,
   "id": "79eb4cae-00f8-4705-95f8-b00b1c778058",
   "metadata": {},
   "outputs": [],
   "source": [
    "lab_df = pd.read_csv(\"/nobackup/users/ericason/mlhc-final-project/data/NAFLpatients_Jan2025request/Lab_all.use.final.txt\", delimiter=\"\\t\", header=0)\n",
    "lab_df.head()"
   ]
  },
  {
   "cell_type": "code",
   "execution_count": null,
   "id": "bfbe35de-4146-4f26-b97c-a022c2e1c144",
   "metadata": {},
   "outputs": [],
   "source": [
    "lab_codes = \"Lab_\" + lab_df[\"Loinc_Code\"]\n",
    "lab_codes_df = pd.concat([lab_codes, lab_df[\"Test_Description\"]], axis=1)\n",
    "lab_codes_df.columns = [\"Code\", \"Lab Test\"]\n",
    "lab_codes_df.head()\n",
    "lab_codes_df = lab_codes_df.drop_duplicates() # drop duplicate codes and medications\n",
    "lab_codes_df.shape"
   ]
  },
  {
   "cell_type": "code",
   "execution_count": null,
   "id": "439424b5-9a7b-4f2b-8a10-9dceff037908",
   "metadata": {},
   "outputs": [],
   "source": []
  },
  {
   "cell_type": "code",
   "execution_count": null,
   "id": "1b9d02c1-1635-447a-907e-a875aee0c5e7",
   "metadata": {},
   "outputs": [],
   "source": [
    "lab_codes_df[lab_codes_df['Code'] == 'Lab_19153-6']"
   ]
  },
  {
   "cell_type": "code",
   "execution_count": null,
   "id": "32c6414a-ff1e-4660-9b55-2e0b077a1fbc",
   "metadata": {},
   "outputs": [],
   "source": [
    "foo = lab_codes_df[lab_codes_df['Code'].isin(shap_positive_lab)] # most positive descriptions"
   ]
  },
  {
   "cell_type": "code",
   "execution_count": null,
   "id": "991a8794-e1d8-4fb2-b9df-2dada9cad03b",
   "metadata": {},
   "outputs": [],
   "source": [
    "foo_first = foo.drop_duplicates(subset='Code', keep='first')"
   ]
  },
  {
   "cell_type": "code",
   "execution_count": null,
   "id": "5837df9d-b853-43a6-a2fd-84d909166880",
   "metadata": {},
   "outputs": [],
   "source": [
    "foo_first"
   ]
  },
  {
   "cell_type": "code",
   "execution_count": null,
   "id": "681cf5e6-d730-48c0-a7bb-c652a962126a",
   "metadata": {},
   "outputs": [],
   "source": [
    "bar = lab_codes_df[lab_codes_df['Code'].isin(shap_negative_lab)] # most positive descriptions\n",
    "bar_first = bar.drop_duplicates(subset='Code', keep='first')\n",
    "bar_first['Lab Test'].to_list()"
   ]
  },
  {
   "cell_type": "code",
   "execution_count": null,
   "id": "097db01b-a3c3-4437-b4bf-25b69e99fec0",
   "metadata": {},
   "outputs": [],
   "source": [
    "dia_df = pd.read_csv(\"/nobackup/users/ericason/mlhc-final-project/data/NAFLpatients_Jan2025request/Dia_all.use.final.txt\", delimiter=\"\\t\", header=0)\n",
    "dia_df.head()"
   ]
  },
  {
   "cell_type": "code",
   "execution_count": null,
   "id": "7fbff639-f43a-461b-8ac0-d2d8c3036ba4",
   "metadata": {},
   "outputs": [],
   "source": [
    "dia_codes = \"Code_\" + dia_df[\"Code\"]\n",
    "dia_codes_df = pd.concat([dia_codes, dia_df[\"Diagnosis_Name\"]], axis=1)\n",
    "dia_codes_df.columns = [\"Code\", \"Diagnosis\"]\n",
    "dia_codes_df.head()\n",
    "dia_codes_df = dia_codes_df.drop_duplicates() # drop duplicate codes and medications\n",
    "dia_codes_df.shape"
   ]
  },
  {
   "cell_type": "code",
   "execution_count": null,
   "id": "bcc9ff3d-35b2-474f-817a-8d77945c5553",
   "metadata": {},
   "outputs": [],
   "source": [
    "bax = dia_codes_df[dia_codes_df['Code'].isin(shap_negative_dia)] # most positive descriptions\n",
    "bax_first = bax.drop_duplicates(subset='Code', keep='first')\n",
    "bax_first"
   ]
  },
  {
   "cell_type": "code",
   "execution_count": null,
   "id": "141d51a9-d436-4c35-96f6-2853e64f8b6f",
   "metadata": {},
   "outputs": [],
   "source": [
    "baz = dia_codes_df[dia_codes_df['Code'].isin(shap_positive_dia)] # most positive descriptions\n",
    "baz_first = baz.drop_duplicates(subset='Code', keep='first')\n",
    "baz_first"
   ]
  },
  {
   "cell_type": "code",
   "execution_count": null,
   "id": "2e33178f-f363-4518-a18d-336946a9f1b4",
   "metadata": {},
   "outputs": [],
   "source": [
    "import pickle\n",
    "file_path = 'results/coxph_shap_values_scaledx.pkl'\n",
    "with open(file_path, 'rb') as file:\n",
    "    foo = pickle.load(file)"
   ]
  }
 ],
 "metadata": {
  "kernelspec": {
   "display_name": "Python [conda env:torch-nafld]",
   "language": "python",
   "name": "conda-env-torch-nafld-py"
  },
  "language_info": {
   "codemirror_mode": {
    "name": "ipython",
    "version": 3
   },
   "file_extension": ".py",
   "mimetype": "text/x-python",
   "name": "python",
   "nbconvert_exporter": "python",
   "pygments_lexer": "ipython3",
   "version": "3.11.9"
  }
 },
 "nbformat": 4,
 "nbformat_minor": 5
}
