{
 "cells": [
  {
   "cell_type": "markdown",
   "id": "4ff8f888-97eb-40dd-869b-e31c3e72c3ac",
   "metadata": {},
   "source": [
    "# import statements and upload data"
   ]
  },
  {
   "cell_type": "code",
   "execution_count": 8,
   "id": "a03b07da-ea00-4730-b8c6-5fbc46916e34",
   "metadata": {},
   "outputs": [],
   "source": [
    "import pandas as pd\n",
    "import numpy as np\n",
    "# import torch\n",
    "# import torch.optim as optim\n",
    "# from torch import nn\n",
    "# from torch.utils.data import Dataset, DataLoader\n",
    "# import shap\n",
    "\n",
    "# from sklearn.metrics import roc_auc_score, confusion_matrix, classification_report, mean_squared_error\n",
    "# from sklearn.model_selection import train_test_split\n",
    "# from sklearn.preprocessing import StandardScaler \n",
    "\n",
    "# data = pd.read_csv(\"../clean_data/nafl/combined.large.nafl.csv\")"
   ]
  },
  {
   "cell_type": "code",
   "execution_count": 50,
   "id": "3a07e070-8dc0-42a0-81fd-ecc7762f4ba0",
   "metadata": {},
   "outputs": [],
   "source": [
    "# create the X and Y datasets\n",
    "\n",
    "# data = data.drop(columns='DaysUntilFirstProgression')\n",
    "data = data.drop(columns='Outcome')\n",
    "data = data.drop(columns='Censored')\n",
    "\n",
    "# Y = data[['StudyID', 'Outcome']]\n",
    "Y = data[['StudyID', 'DaysUntilFirstProgression']]\n",
    "X = data.drop(columns='DaysUntilFirstProgression')\n",
    "X = X.drop(columns=['mean_BMI_category', 'last_BMI_category'])\n",
    "\n",
    "X = X.set_index('StudyID')\n",
    "Y = Y.set_index('StudyID')\n",
    "\n",
    "# get all features that start with Lab\n",
    "lab_feat = [feat for feat in X.columns if 'Lab' in feat]\n",
    "numerical_feat = ['mean_BMI', 'last_BMI', 'FirstNAFL.Age.90']\n",
    "numerical_feat.extend(lab_feat)"
   ]
  },
  {
   "cell_type": "code",
   "execution_count": 55,
   "id": "5c7c9bb5-e423-4afb-af90-cc98b458e1ce",
   "metadata": {},
   "outputs": [
    {
     "name": "stdout",
     "output_type": "stream",
     "text": [
      "Using cuda device\n",
      "Shape of X: (11890, 2895). Shape of Y: (11890, 1).\n"
     ]
    }
   ],
   "source": [
    "# check if GPU is enabled\n",
    "device = \"cuda\" if torch.cuda.is_available() else \"cpu\" # need to define device since python can use both cpu and gpu\n",
    "print(f\"Using {device} device\")\n",
    "print(f\"Shape of X: {X.shape}. Shape of Y: {Y.shape}.\")"
   ]
  },
  {
   "cell_type": "markdown",
   "id": "062888bd-840e-46c9-9adc-37891d367874",
   "metadata": {
    "jp-MarkdownHeadingCollapsed": true
   },
   "source": [
    "# setup the model using saved weights"
   ]
  },
  {
   "cell_type": "code",
   "execution_count": 18,
   "id": "c45141c7-d0b0-4fd2-8751-10d2ef9df987",
   "metadata": {},
   "outputs": [],
   "source": [
    "# curate the dataset\n",
    "class MAFLDDataset(Dataset): # must contain init, len, and getitem\n",
    "    def __init__(self, X, y):\n",
    "        self.X = torch.tensor(X, dtype=torch.float32)\n",
    "        self.y = torch.tensor(y, dtype=torch.float32)\n",
    "    \n",
    "    def __len__(self):\n",
    "        return len(self.X)\n",
    "    \n",
    "    def __getitem__(self, idx):\n",
    "        return self.X[idx], self.y[idx]\n",
    "\n",
    "# dataset = MAFLDDataset(X_torch, Y_torch)\n",
    "# train_loader = DataLoader(dataset, batch_size=64, shuffle=True) # batch size 64"
   ]
  },
  {
   "cell_type": "code",
   "execution_count": 19,
   "id": "334566e3-edbd-4a21-b797-116b424c1b99",
   "metadata": {},
   "outputs": [],
   "source": [
    "# define by subclassing nn.Module and initialize the neural network layers in __init__.\n",
    "class NeuralNetwork(nn.Module):\n",
    "    def __init__(self):\n",
    "        super().__init__() # inherit init from parent class\n",
    "        self.linear_relu_stack = nn.Sequential(\n",
    "            nn.Linear(X.shape[1], 1024),\n",
    "            nn.ReLU(),\n",
    "            nn.Linear(1024, 512),\n",
    "            nn.ReLU(),\n",
    "            nn.Linear(512, 128),\n",
    "            nn.ReLU(),\n",
    "            nn.Linear(128, 64),\n",
    "            nn.ReLU(),\n",
    "            nn.Linear(64, 32),\n",
    "            nn.ReLU(),\n",
    "            nn.Linear(32, 1), # no activation follows this layer\n",
    "        )\n",
    "        # self.sigmoid = nn.Sigmoid() # remove if predicting non-binary outcome\n",
    "\n",
    "    def forward(self, x):\n",
    "        pred = self.linear_relu_stack(x)\n",
    "        return pred"
   ]
  },
  {
   "cell_type": "code",
   "execution_count": 20,
   "id": "1032ee29-450f-4ca7-8c85-add72cba3d57",
   "metadata": {},
   "outputs": [],
   "source": [
    "# create an instance of NeuralNetwork, move to device, print its structure\n",
    "model = NeuralNetwork().to(device)\n",
    "model.load_state_dict(torch.load(\"numeric_nn_scaled_x_and_y.pth\"))\n",
    "\n",
    "# define loss function and optimizer\n",
    "loss_fn = nn.MSELoss()\n",
    "optimizer = optim.Adam(model.parameters(), lr=1e-3) # start with this baseline learning rate"
   ]
  },
  {
   "cell_type": "markdown",
   "id": "e41ed745-8ae4-41bb-8180-4db40d2d93f4",
   "metadata": {
    "jp-MarkdownHeadingCollapsed": true
   },
   "source": [
    "# scale the data"
   ]
  },
  {
   "cell_type": "code",
   "execution_count": 21,
   "id": "70fa794a-194d-45f7-9cc2-a1f768989ac9",
   "metadata": {},
   "outputs": [],
   "source": [
    "X_train, X_test, y_train, y_test = train_test_split(X, Y, test_size=0.3, random_state=42)"
   ]
  },
  {
   "cell_type": "code",
   "execution_count": 22,
   "id": "82889792-35dc-4e29-8465-3021a10f5012",
   "metadata": {},
   "outputs": [],
   "source": [
    "# write a function to only standardize the numerical columns and reattach to the rest of the dataframe\n",
    "scaler = StandardScaler()\n",
    "\n",
    "def standardize_numerical(dataframe, num_feat=numerical_feat, training_set=True):\n",
    "    \"\"\"\n",
    "    dataframe: Pandas DataFrame\n",
    "\n",
    "    Returns: a processed DataFrame where the numerical features have been standardized and the categorical features remain the same.\n",
    "    \"\"\"\n",
    "    if training_set:\n",
    "        scaled = scaler.fit_transform(dataframe[num_feat])\n",
    "    else:\n",
    "        scaled = scaler.transform(dataframe[num_feat])\n",
    "        \n",
    "    scaled_df = pd.DataFrame(scaled, columns=num_feat, index=dataframe.index)\n",
    "    cat = dataframe.drop(columns=num_feat)\n",
    "    processed = pd.concat([scaled_df, cat], axis=1)\n",
    "\n",
    "    return processed"
   ]
  },
  {
   "cell_type": "code",
   "execution_count": 23,
   "id": "2393a12e-7b6a-44b3-b099-a56510fcca75",
   "metadata": {},
   "outputs": [],
   "source": [
    "# standardize our features\n",
    "X_train_scaled = standardize_numerical(X_train, training_set=True)\n",
    "X_test_scaled = standardize_numerical(X_test, training_set=False)"
   ]
  },
  {
   "cell_type": "code",
   "execution_count": 24,
   "id": "e825ff8b-efeb-44df-97e7-45463d4c5e4c",
   "metadata": {},
   "outputs": [],
   "source": [
    "scaler_y = StandardScaler()\n",
    "y_train_scaled = scaler_y.fit_transform(y_train.to_numpy().reshape(-1, 1))"
   ]
  },
  {
   "cell_type": "markdown",
   "id": "3cd80599-bb15-4baf-9064-7d397d103a8b",
   "metadata": {
    "jp-MarkdownHeadingCollapsed": true
   },
   "source": [
    "# get the features from lin/log reg model"
   ]
  },
  {
   "cell_type": "code",
   "execution_count": 26,
   "id": "6e3a2ffd-5b57-46ec-a32d-a690c39b90f8",
   "metadata": {},
   "outputs": [],
   "source": [
    "neg_feat_lin_reg = ['MedType_Code_HCPCS_J0456', 'MedType_Code_EPIC-MED_17380', 'MedType_Code_EPIC-MED_26226', 'MedType_Code_EPIC-MED_6004080010', 'Gender_Legal_Sex_Unknown-U', 'MedType_Code_HCPCS_J2720', 'MedType_Code_HCPCS_J2590', 'MedType_Code_EPIC-MED_29132', 'MedType_Code_EPIC-MED_18302', 'MedType_Code_EPIC-PRC_47501945']\n",
    "pos_feat_lin_reg = ['MedType_Code_EPIC-PRC_47561667', 'MedType_Code_EPIC-MED_98249', 'MedType_Code_HCPCS_J1756', 'MedType_Code_EPIC-MED_6677', 'MedType_Code_HCPCS_J1453', 'MedType_Code_HCPCS_J7507', 'MedType_Code_EPIC-PRC_77100001', 'MedType_Code_HCPCS_J2185', 'MedType_Code_HCPCS_C9113', 'MedType_Code_EPIC-MED_21063']"
   ]
  },
  {
   "cell_type": "code",
   "execution_count": 27,
   "id": "6f41e1fa-e21a-4b5d-95d9-63b486e8179b",
   "metadata": {},
   "outputs": [],
   "source": [
    "neg_feat_log_reg = ['MedType_Code_HCPCS_J0456', 'MedType_Code_EPIC-MED_17380', 'MedType_Code_EPIC-MED_26226', 'MedType_Code_EPIC-MED_6004080010', 'Gender_Legal_Sex_Unknown-U', 'MedType_Code_HCPCS_J2720', 'MedType_Code_HCPCS_J2590', 'MedType_Code_EPIC-MED_29132', 'MedType_Code_EPIC-MED_18302', 'MedType_Code_EPIC-PRC_47501945']\n",
    "pos_feat_log_reg = ['MedType_Code_EPIC-PRC_47561667', 'MedType_Code_EPIC-MED_98249', 'MedType_Code_HCPCS_J1756', 'MedType_Code_EPIC-MED_6677', 'MedType_Code_HCPCS_J1453', 'MedType_Code_HCPCS_J7507', 'MedType_Code_EPIC-PRC_77100001', 'MedType_Code_HCPCS_J2185', 'MedType_Code_HCPCS_C9113', 'MedType_Code_EPIC-MED_21063']"
   ]
  },
  {
   "cell_type": "markdown",
   "id": "8e47764c-b401-472d-a044-5fbd65f1c4f9",
   "metadata": {},
   "source": [
    "# build shap explainer"
   ]
  },
  {
   "cell_type": "code",
   "execution_count": 25,
   "id": "ac826f00-3c42-449b-b8f5-219f6993b573",
   "metadata": {},
   "outputs": [],
   "source": [
    "def model_wrapper(array):\n",
    "    ''' Wrapper around the torch model() function to pass into shap explainer.\n",
    "        array: Pandas DataFrame\n",
    "        Returns: torch\n",
    "    '''\n",
    "    if isinstance(array, pd.DataFrame):\n",
    "        array = array.to_numpy()\n",
    "    array = torch.tensor(array.astype('float32')).to(device)\n",
    "    # array = array.to(device)\n",
    "    model.eval()\n",
    "    y_hat_test_scaled = model(array)\n",
    "    y_hat_test_scaled = y_hat_test_scaled.cpu().detach()\n",
    "    y_pred_rescaled = scaler_y.inverse_transform(y_hat_test_scaled.numpy())\n",
    "    return y_pred_rescaled\n",
    "\n",
    "feature_names = X.columns"
   ]
  },
  {
   "cell_type": "code",
   "execution_count": 30,
   "id": "b72d6579-c092-455f-8b2b-6a62ccc62637",
   "metadata": {},
   "outputs": [
    {
     "data": {
      "text/plain": [
       "(3567, 2896)"
      ]
     },
     "execution_count": 30,
     "metadata": {},
     "output_type": "execute_result"
    }
   ],
   "source": [
    "X_test_scaled.shape"
   ]
  },
  {
   "cell_type": "code",
   "execution_count": 31,
   "id": "b06863fe-9368-42d5-942f-ac09cc02a3aa",
   "metadata": {},
   "outputs": [
    {
     "data": {
      "text/plain": [
       "(8323, 2896)"
      ]
     },
     "execution_count": 31,
     "metadata": {},
     "output_type": "execute_result"
    }
   ],
   "source": [
    "X_train_scaled.shape"
   ]
  },
  {
   "cell_type": "code",
   "execution_count": null,
   "id": "f6afda6b-df4c-4fba-ba65-bb50f7d6b88b",
   "metadata": {},
   "outputs": [],
   "source": [
    "explainer = shap.DeepExplainer(model, torch.tensor(X_train_scaled.to_numpy().astype(np.float32)).to(device))"
   ]
  },
  {
   "cell_type": "code",
   "execution_count": null,
   "id": "4c57adf5-3936-41af-957b-451f3060f774",
   "metadata": {},
   "outputs": [],
   "source": [
    "shap_values = explainer.shap_values(torch.tensor(X_test_scaled.to_numpy().astype(np.float32)).to(device))"
   ]
  },
  {
   "cell_type": "code",
   "execution_count": null,
   "id": "6f85a5f0-ea5d-4a1d-ba2c-783adab97546",
   "metadata": {},
   "outputs": [],
   "source": [
    "# Violin plot! Each of the 17 features are represented by a distribution of SHAP scores across 246 test samples\n",
    "for i in range(5):\n",
    "  shap.plots.violin(shap_values[:,:,i], features=features_test_df, feature_names=feature_names, plot_type='layered_violin')"
   ]
  },
  {
   "cell_type": "markdown",
   "id": "ce972e7c-d392-429f-b2a7-856e0d15c6f0",
   "metadata": {},
   "source": [
    "# getting human-readable names from the shap features"
   ]
  },
  {
   "cell_type": "code",
   "execution_count": 16,
   "id": "63c32f34-a169-44cd-9eab-eba9dae9382a",
   "metadata": {},
   "outputs": [],
   "source": [
    "shap_positive = ['Lab_19153-6',\n",
    " 'Lab_2093-3',\n",
    " 'MedType_Code_EPIC-MED_10328',\n",
    " 'Lab_3094-0',\n",
    " 'Lab_2089-1',\n",
    " 'Lab_1968-7',\n",
    " 'Lab_2695-5',\n",
    " 'MedType_Code_EPIC-MED_10012',\n",
    " 'MedType_Code_EPIC-MED_10368',\n",
    " 'MedType_Code_EPIC-MED_27698']\n",
    "\n",
    "shap_negative = ['Lab_777-3',\n",
    " 'Lab_2336-6',\n",
    " 'Lab_4679-7',\n",
    " 'Lab_2502-3',\n",
    " 'Lab_2284-8',\n",
    " 'Lab_789-8',\n",
    " 'Code_Z12.5',\n",
    " 'MedType_Code_LMR_576',\n",
    " 'MedType_Code_EPIC-MED_693',\n",
    " 'Lab_XC5-9']\n",
    "\n",
    "shap_top_10 = ['Lab_4679-7',\n",
    " 'Lab_14338-8',\n",
    " 'Lab_2132-9',\n",
    " 'Lab_6768-6',\n",
    " 'Code_Z23',\n",
    " 'Lab_6690-2',\n",
    " 'Lab_2093-3',\n",
    " 'MedType_Code_EPIC-MED_10328',\n",
    " 'Lab_13457-7',\n",
    " 'Lab_2571-8']"
   ]
  },
  {
   "cell_type": "code",
   "execution_count": 9,
   "id": "51eacda7-a2cb-4204-a3a3-e376c8758dde",
   "metadata": {},
   "outputs": [
    {
     "name": "stderr",
     "output_type": "stream",
     "text": [
      "/tmp/ipykernel_241266/2090915612.py:3: DtypeWarning: Columns (4,11) have mixed types. Specify dtype option on import or set low_memory=False.\n",
      "  lab_df = pd.read_csv(\"/nobackup/users/ericason/mlhc-final-project/data/NAFLpatients_Jan2025request/Lab_all.use.final.txt\", delimiter=\"\\t\", header=0)\n"
     ]
    }
   ],
   "source": [
    "# setup the translate function\n",
    "med_df = pd.read_csv(\"/nobackup/users/ericason/mlhc-final-project/data/NAFLpatients_Jan2025request/Med_all.use.final.txt\", delimiter=\"\\t\", header=0)\n",
    "lab_df = pd.read_csv(\"/nobackup/users/ericason/mlhc-final-project/data/NAFLpatients_Jan2025request/Lab_all.use.final.txt\", delimiter=\"\\t\", header=0)\n",
    "dia_df = pd.read_csv(\"/nobackup/users/ericason/mlhc-final-project/data/NAFLpatients_Jan2025request/Dia_all.use.final.txt\", delimiter=\"\\t\", header=0)\n",
    "\n",
    "med_codes = \"MedType_Code_\" + med_df[\"Code_Type\"] + \"_\" + med_df[\"Code\"]\n",
    "med_codes_df = pd.concat([med_codes, med_df[\"Medication\"]], axis=1)\n",
    "med_codes_df.columns = [\"Code\", \"Medication\"]\n",
    "med_codes_df = med_codes_df.drop_duplicates() # drop duplicate codes and medications\n",
    "\n",
    "lab_codes = \"Lab_\" + lab_df[\"Loinc_Code\"]\n",
    "lab_codes_df = pd.concat([lab_codes, lab_df[\"Test_Description\"]], axis=1)\n",
    "lab_codes_df.columns = [\"Code\", \"Lab Test\"]\n",
    "lab_codes_df = lab_codes_df.drop_duplicates() # drop duplicate codes and medications\n",
    "\n",
    "dia_codes = \"Code_\" + dia_df[\"Code\"]\n",
    "dia_codes_df = pd.concat([dia_codes, dia_df[\"Diagnosis_Name\"]], axis=1)\n",
    "dia_codes_df.columns = [\"Code\", \"Diagnosis\"]\n",
    "dia_codes_df = dia_codes_df.drop_duplicates() # drop duplicate codes and medications"
   ]
  },
  {
   "cell_type": "code",
   "execution_count": 95,
   "id": "100c5d27-ab4d-4181-86db-49e21c665c6e",
   "metadata": {},
   "outputs": [],
   "source": [
    "def translate_codes(input):\n",
    "    \"\"\"\n",
    "    Given a list of various codified features, return a list in the same order with human-readable names.\n",
    "    input: list\n",
    "    Returns: list\n",
    "    \"\"\"\n",
    "    output = []\n",
    "\n",
    "    for code in input:\n",
    "        if 'Med' in code:\n",
    "            translation = translate_helper(code, med_codes_df)\n",
    "        elif 'Lab' in code:\n",
    "            translation = translate_helper(code, lab_codes_df)\n",
    "        elif 'Code' in code:\n",
    "            translation = translate_helper(code, dia_codes_df)\n",
    "        else:\n",
    "            translation = \"Unknown\"\n",
    "\n",
    "        output.append({'code': code, 'description': translation})\n",
    "\n",
    "    return pd.DataFrame(output)\n",
    "            \n",
    "def translate_helper(code, df):\n",
    "    foo = df[df['Code'] == code] # .drop_duplicates(subset='Code', keep='first')\n",
    "    return foo.iloc[:, 1]"
   ]
  },
  {
   "cell_type": "code",
   "execution_count": 110,
   "id": "b56b6294-a7d5-4323-8e9d-bdd3bb8229f8",
   "metadata": {},
   "outputs": [
    {
     "data": {
      "text/html": [
       "<div>\n",
       "<style scoped>\n",
       "    .dataframe tbody tr th:only-of-type {\n",
       "        vertical-align: middle;\n",
       "    }\n",
       "\n",
       "    .dataframe tbody tr th {\n",
       "        vertical-align: top;\n",
       "    }\n",
       "\n",
       "    .dataframe thead th {\n",
       "        text-align: right;\n",
       "    }\n",
       "</style>\n",
       "<table border=\"1\" class=\"dataframe\">\n",
       "  <thead>\n",
       "    <tr style=\"text-align: right;\">\n",
       "      <th></th>\n",
       "      <th>code</th>\n",
       "      <th>description</th>\n",
       "    </tr>\n",
       "  </thead>\n",
       "  <tbody>\n",
       "    <tr>\n",
       "      <th>0</th>\n",
       "      <td>Code_R53.83</td>\n",
       "      <td>1109    Other fatigue\n",
       "Name: Diagnosis, dtype: object</td>\n",
       "    </tr>\n",
       "    <tr>\n",
       "      <th>1</th>\n",
       "      <td>Code_R79.89</td>\n",
       "      <td>1044    Other specified abnormal findings of blood chemistry\n",
       "Name: Diagnosis, dtype: object</td>\n",
       "    </tr>\n",
       "    <tr>\n",
       "      <th>2</th>\n",
       "      <td>Lab_2078-4</td>\n",
       "      <td>18089     URINE CHLORIDE Urine (Test:el:5200015097)\n",
       "31321                Urine Chloride (Test:mcsq-vcl)\n",
       "596463                  Urine Chloride (Test:bcvcl)\n",
       "Name: Lab Test, dtype: object</td>\n",
       "    </tr>\n",
       "    <tr>\n",
       "      <th>3</th>\n",
       "      <td>Lab_3094-0</td>\n",
       "      <td>21         Plasma Urea Nitrogen (Test:mcsq-pbun)\n",
       "143                  Urea Nitrogen (Test:bcpbun)\n",
       "356               BUN Blood (Test:el:5200010415)\n",
       "11923              Urea Nitrogen (Test:mcsq-bun)\n",
       "14265             BUN Blood (Test:el:5200002387)\n",
       "50628             Urea Nitrogen (Test:mcsq-bun1)\n",
       "439305                  BUN (Test:el:5200002391)\n",
       "1073258                     BUN (Test:mcsq-bun7)\n",
       "Name: Lab Test, dtype: object</td>\n",
       "    </tr>\n",
       "    <tr>\n",
       "      <th>4</th>\n",
       "      <td>Code_E11.9</td>\n",
       "      <td>1934    Type 2 diabetes mellitus without complications\n",
       "Name: Diagnosis, dtype: object</td>\n",
       "    </tr>\n",
       "    <tr>\n",
       "      <th>5</th>\n",
       "      <td>Lab_2132-9</td>\n",
       "      <td>59                  Vitamin B12 (Test:mcsq-b12)\n",
       "370      VITAMIN B12 Blood (Test:el:5200001783)\n",
       "15350                  Vitamin B12 (Test:bcb12)\n",
       "Name: Lab Test, dtype: object</td>\n",
       "    </tr>\n",
       "    <tr>\n",
       "      <th>6</th>\n",
       "      <td>Lab_2571-8</td>\n",
       "      <td>5                    Triglycerides (Test:mcsq-trig)\n",
       "417              TRIGLYCERIDES (Test:el:5200014087)\n",
       "2152                    Triglycerides (Test:bctrig)\n",
       "133664              Triglycerides (Test:mcsq-trig1)\n",
       "9668952       MAYO TRIGLYCERIDES (Test:mcsq-matrig)\n",
       "11464383    MAYO TRIGLYCERIDES (Test:el:5200008546)\n",
       "Name: Lab Test, dtype: object</td>\n",
       "    </tr>\n",
       "    <tr>\n",
       "      <th>7</th>\n",
       "      <td>Code_M79.672</td>\n",
       "      <td>3403    Pain in left foot\n",
       "Name: Diagnosis, dtype: object</td>\n",
       "    </tr>\n",
       "    <tr>\n",
       "      <th>8</th>\n",
       "      <td>Code_175</td>\n",
       "      <td>5227    Percutaneous Cardiovascular Procedures W/O Ami (APR v30)\n",
       "Name: Diagnosis, dtype: object</td>\n",
       "    </tr>\n",
       "    <tr>\n",
       "      <th>9</th>\n",
       "      <td>Code_R53.81</td>\n",
       "      <td>1016    Other malaise\n",
       "Name: Diagnosis, dtype: object</td>\n",
       "    </tr>\n",
       "  </tbody>\n",
       "</table>\n",
       "</div>"
      ],
      "text/plain": [
       "           code  \\\n",
       "0   Code_R53.83   \n",
       "1   Code_R79.89   \n",
       "2    Lab_2078-4   \n",
       "3    Lab_3094-0   \n",
       "4    Code_E11.9   \n",
       "5    Lab_2132-9   \n",
       "6    Lab_2571-8   \n",
       "7  Code_M79.672   \n",
       "8      Code_175   \n",
       "9   Code_R53.81   \n",
       "\n",
       "                                                                                                                                                                                                                                                                                                                                                                                                                             description  \n",
       "0                                                                                                                                                                                                                                                                                                                                                                                   1109    Other fatigue\n",
       "Name: Diagnosis, dtype: object  \n",
       "1                                                                                                                                                                                                                                                                                                                                            1044    Other specified abnormal findings of blood chemistry\n",
       "Name: Diagnosis, dtype: object  \n",
       "2                                                                                                                                                                                                                                              18089     URINE CHLORIDE Urine (Test:el:5200015097)\n",
       "31321                Urine Chloride (Test:mcsq-vcl)\n",
       "596463                  Urine Chloride (Test:bcvcl)\n",
       "Name: Lab Test, dtype: object  \n",
       "3  21         Plasma Urea Nitrogen (Test:mcsq-pbun)\n",
       "143                  Urea Nitrogen (Test:bcpbun)\n",
       "356               BUN Blood (Test:el:5200010415)\n",
       "11923              Urea Nitrogen (Test:mcsq-bun)\n",
       "14265             BUN Blood (Test:el:5200002387)\n",
       "50628             Urea Nitrogen (Test:mcsq-bun1)\n",
       "439305                  BUN (Test:el:5200002391)\n",
       "1073258                     BUN (Test:mcsq-bun7)\n",
       "Name: Lab Test, dtype: object  \n",
       "4                                                                                                                                                                                                                                                                                                                                                  1934    Type 2 diabetes mellitus without complications\n",
       "Name: Diagnosis, dtype: object  \n",
       "5                                                                                                                                                                                                                                                          59                  Vitamin B12 (Test:mcsq-b12)\n",
       "370      VITAMIN B12 Blood (Test:el:5200001783)\n",
       "15350                  Vitamin B12 (Test:bcb12)\n",
       "Name: Lab Test, dtype: object  \n",
       "6                                                                                  5                    Triglycerides (Test:mcsq-trig)\n",
       "417              TRIGLYCERIDES (Test:el:5200014087)\n",
       "2152                    Triglycerides (Test:bctrig)\n",
       "133664              Triglycerides (Test:mcsq-trig1)\n",
       "9668952       MAYO TRIGLYCERIDES (Test:mcsq-matrig)\n",
       "11464383    MAYO TRIGLYCERIDES (Test:el:5200008546)\n",
       "Name: Lab Test, dtype: object  \n",
       "7                                                                                                                                                                                                                                                                                                                                                                               3403    Pain in left foot\n",
       "Name: Diagnosis, dtype: object  \n",
       "8                                                                                                                                                                                                                                                                                                                                        5227    Percutaneous Cardiovascular Procedures W/O Ami (APR v30)\n",
       "Name: Diagnosis, dtype: object  \n",
       "9                                                                                                                                                                                                                                                                                                                                                                                   1016    Other malaise\n",
       "Name: Diagnosis, dtype: object  "
      ]
     },
     "execution_count": 110,
     "metadata": {},
     "output_type": "execute_result"
    }
   ],
   "source": [
    "foo = ['Code_R53.83',\n",
    " 'Code_R79.89',\n",
    " 'Lab_2078-4',\n",
    " 'Lab_3094-0',\n",
    " 'Code_E11.9',\n",
    " 'Lab_2132-9',\n",
    " 'Lab_2571-8',\n",
    " 'Code_M79.672',\n",
    " 'Code_175',\n",
    " 'Code_R53.81']\n",
    "\n",
    "bar = translate_codes(foo)\n",
    "bar"
   ]
  },
  {
   "cell_type": "code",
   "execution_count": 128,
   "id": "76975112-7eaa-46ea-a40a-7c5cbdcc1c6d",
   "metadata": {},
   "outputs": [
    {
     "data": {
      "text/html": [
       "<div>\n",
       "<style scoped>\n",
       "    .dataframe tbody tr th:only-of-type {\n",
       "        vertical-align: middle;\n",
       "    }\n",
       "\n",
       "    .dataframe tbody tr th {\n",
       "        vertical-align: top;\n",
       "    }\n",
       "\n",
       "    .dataframe thead th {\n",
       "        text-align: right;\n",
       "    }\n",
       "</style>\n",
       "<table border=\"1\" class=\"dataframe\">\n",
       "  <thead>\n",
       "    <tr style=\"text-align: right;\">\n",
       "      <th></th>\n",
       "      <th>code</th>\n",
       "      <th>description</th>\n",
       "    </tr>\n",
       "  </thead>\n",
       "  <tbody>\n",
       "    <tr>\n",
       "      <th>0</th>\n",
       "      <td>Lab_4679-7</td>\n",
       "      <td>280                     Retic (Test:mhsq-retic)\n",
       "13889          RETIC Blood (Test:el:5200012192)\n",
       "14235      RETIC (%) Blood (Test:el:5200012188)\n",
       "22963                      Retic (Test:bhretic)\n",
       "497891              RETIC (%) (Test:mhsq-retcp)\n",
       "1917552                RETIC (%) (Test:bhretcp)\n",
       "Name: Lab Test, dtype: object</td>\n",
       "    </tr>\n",
       "  </tbody>\n",
       "</table>\n",
       "</div>"
      ],
      "text/plain": [
       "         code  \\\n",
       "0  Lab_4679-7   \n",
       "\n",
       "                                                                                                                                                                                                                                                                                                                     description  \n",
       "0  280                     Retic (Test:mhsq-retic)\n",
       "13889          RETIC Blood (Test:el:5200012192)\n",
       "14235      RETIC (%) Blood (Test:el:5200012188)\n",
       "22963                      Retic (Test:bhretic)\n",
       "497891              RETIC (%) (Test:mhsq-retcp)\n",
       "1917552                RETIC (%) (Test:bhretcp)\n",
       "Name: Lab Test, dtype: object  "
      ]
     },
     "execution_count": 128,
     "metadata": {},
     "output_type": "execute_result"
    }
   ],
   "source": [
    "translate_codes(['Lab_4679-7'])"
   ]
  },
  {
   "cell_type": "code",
   "execution_count": 84,
   "id": "82d2201f-2d96-42a3-8059-8475b1ebbc67",
   "metadata": {},
   "outputs": [],
   "source": [
    "pd.set_option('display.max_colwidth', 3000)"
   ]
  },
  {
   "cell_type": "code",
   "execution_count": 102,
   "id": "ee7b720b-4307-44ae-8417-8f382a48a6e9",
   "metadata": {},
   "outputs": [
    {
     "data": {
      "text/plain": [
       "0                                          641    Meperidine (Pf) 100 mg/ml Injection Solution\n",
       "Name: Medication, dtype: object\n",
       "1                                          1413    Insulin Lispro 100 Unit/ml Subcutaneous Pen\n",
       "Name: Medication, dtype: object\n",
       "2                                              13837    Allergy, unspecified, initial encounter\n",
       "Name: Diagnosis, dtype: object\n",
       "3                                                                    96906    Acne, unspecified\n",
       "Name: Diagnosis, dtype: object\n",
       "4                                 53923    Major Pancreas, Liver And Shunt Procedures (APR v30)\n",
       "Name: Diagnosis, dtype: object\n",
       "5    2637    Other specified disorders involving the immune mechanism, not elsewhere classified\n",
       "Name: Diagnosis, dtype: object\n",
       "6                                                                 1285    Diazepam 5 mg Tablet\n",
       "Name: Medication, dtype: object\n",
       "7                                                            207453    Hypersomnia, unspecified\n",
       "Name: Diagnosis, dtype: object\n",
       "8                                  1833    Pneumococcal Polysac Vaccine 23-V 2 Yrs/>subq/Im HC\n",
       "Name: Medication, dtype: object\n",
       "9                   23347    Abnormal findings on diagnostic imaging of liver and biliary tract\n",
       "Name: Diagnosis, dtype: object\n",
       "Name: description, dtype: object"
      ]
     },
     "execution_count": 102,
     "metadata": {},
     "output_type": "execute_result"
    }
   ],
   "source": [
    "[Other fatigue, Other specified abnormal findings of blood chemistry, Urine Chloride, Plasma Urea Nitrogen, Type 2 diabetes mellitus without complications, Vitamin B12, Triglycerides, Pain in left foot, Percutaneous Cardiovascular Procedures, Other malaise]\n",
    "\n",
    "\n"
   ]
  },
  {
   "cell_type": "code",
   "execution_count": null,
   "id": "394a166f-5673-4941-a9d7-fe87255405dd",
   "metadata": {},
   "outputs": [],
   "source": [
    "[Meperidine (Pf) 100 mg/ml Injection Solution, Insulin Lispro 100 Unit/ml Subcutaneous Pen, Allergy, unspecified, initial encounter, Acne, unspecified, Major Pancreas, Liver And Shunt Procedures, Other specified disorders involving the immune, Diazepam 5 mg Tablet, Hypersomnia, unspecified, Pneumococcal Polysac Vaccine 23-V 2 Yrs/>subq/, Abnormal findings on diagnostic imaging of liver and biliary tract\n",
    "]\n",
    "\n",
    "\n"
   ]
  },
  {
   "cell_type": "code",
   "execution_count": 22,
   "id": "b7d1173e-54e5-4dd8-b340-42e022925123",
   "metadata": {},
   "outputs": [],
   "source": [
    "shap_positive_med = [x for x in shap_positive if 'Med' in x]\n",
    "shap_positive_lab = [x for x in shap_positive if 'Lab' in x]\n",
    "shap_positive_dia = [x for x in shap_positive if 'Code' in x]\n",
    "\n",
    "shap_negative_med = [x for x in shap_negative if 'Med' in x]\n",
    "shap_negative_lab = [x for x in shap_negative if 'Lab' in x]\n",
    "shap_negative_dia = [x for x in shap_negative if 'Code' in x]"
   ]
  },
  {
   "cell_type": "code",
   "execution_count": 4,
   "id": "17998390-7985-4f5c-983f-415ec8643309",
   "metadata": {},
   "outputs": [
    {
     "data": {
      "text/html": [
       "<div>\n",
       "<style scoped>\n",
       "    .dataframe tbody tr th:only-of-type {\n",
       "        vertical-align: middle;\n",
       "    }\n",
       "\n",
       "    .dataframe tbody tr th {\n",
       "        vertical-align: top;\n",
       "    }\n",
       "\n",
       "    .dataframe thead th {\n",
       "        text-align: right;\n",
       "    }\n",
       "</style>\n",
       "<table border=\"1\" class=\"dataframe\">\n",
       "  <thead>\n",
       "    <tr style=\"text-align: right;\">\n",
       "      <th></th>\n",
       "      <th>StudyID</th>\n",
       "      <th>Medication</th>\n",
       "      <th>Code_Type</th>\n",
       "      <th>Code</th>\n",
       "      <th>Quantity</th>\n",
       "      <th>Inpatient_Outpatient</th>\n",
       "      <th>Additional_Info</th>\n",
       "      <th>Med.Age.90</th>\n",
       "      <th>Med.daysfrom_firstNAFL</th>\n",
       "      <th>Med.before.ICD11</th>\n",
       "    </tr>\n",
       "  </thead>\n",
       "  <tbody>\n",
       "    <tr>\n",
       "      <th>1</th>\n",
       "      <td>1</td>\n",
       "      <td>Lorazepam 0.5 mg Tablet</td>\n",
       "      <td>EPIC-MED</td>\n",
       "      <td>4572</td>\n",
       "      <td>NaN</td>\n",
       "      <td>Outpatient</td>\n",
       "      <td>DOSE=0.5 MG; FREQ=BID; ROUTE=Oral</td>\n",
       "      <td>82</td>\n",
       "      <td>-904</td>\n",
       "      <td>y</td>\n",
       "    </tr>\n",
       "    <tr>\n",
       "      <th>2</th>\n",
       "      <td>1</td>\n",
       "      <td>Oxycodone-Acetaminophen 5 mg-325 mg Tablet</td>\n",
       "      <td>EPIC-MED</td>\n",
       "      <td>5940</td>\n",
       "      <td>NaN</td>\n",
       "      <td>Outpatient</td>\n",
       "      <td>NaN</td>\n",
       "      <td>82</td>\n",
       "      <td>-904</td>\n",
       "      <td>y</td>\n",
       "    </tr>\n",
       "    <tr>\n",
       "      <th>3</th>\n",
       "      <td>1</td>\n",
       "      <td>Amlodipine (norvasc) - LMR 953</td>\n",
       "      <td>LMR</td>\n",
       "      <td>953</td>\n",
       "      <td>NaN</td>\n",
       "      <td>Outpatient</td>\n",
       "      <td>NaN</td>\n",
       "      <td>81</td>\n",
       "      <td>-1463</td>\n",
       "      <td>y</td>\n",
       "    </tr>\n",
       "    <tr>\n",
       "      <th>4</th>\n",
       "      <td>1</td>\n",
       "      <td>Amlodipine 2.5 mg Tablet</td>\n",
       "      <td>EPIC-MED</td>\n",
       "      <td>9070</td>\n",
       "      <td>NaN</td>\n",
       "      <td>Outpatient</td>\n",
       "      <td>DOSE=2.5 MG; FREQ=Daily; ROUTE=Oral</td>\n",
       "      <td>81</td>\n",
       "      <td>-1165</td>\n",
       "      <td>y</td>\n",
       "    </tr>\n",
       "    <tr>\n",
       "      <th>5</th>\n",
       "      <td>1</td>\n",
       "      <td>Amlodipine (norvasc) - LMR 953</td>\n",
       "      <td>LMR</td>\n",
       "      <td>953</td>\n",
       "      <td>NaN</td>\n",
       "      <td>Outpatient</td>\n",
       "      <td>NaN</td>\n",
       "      <td>80</td>\n",
       "      <td>-1616</td>\n",
       "      <td>y</td>\n",
       "    </tr>\n",
       "  </tbody>\n",
       "</table>\n",
       "</div>"
      ],
      "text/plain": [
       "   StudyID                                  Medication Code_Type  Code  \\\n",
       "1        1                     Lorazepam 0.5 mg Tablet  EPIC-MED  4572   \n",
       "2        1  Oxycodone-Acetaminophen 5 mg-325 mg Tablet  EPIC-MED  5940   \n",
       "3        1              Amlodipine (norvasc) - LMR 953       LMR   953   \n",
       "4        1                    Amlodipine 2.5 mg Tablet  EPIC-MED  9070   \n",
       "5        1              Amlodipine (norvasc) - LMR 953       LMR   953   \n",
       "\n",
       "  Quantity Inpatient_Outpatient                      Additional_Info  \\\n",
       "1      NaN           Outpatient    DOSE=0.5 MG; FREQ=BID; ROUTE=Oral   \n",
       "2      NaN           Outpatient                                  NaN   \n",
       "3      NaN           Outpatient                                  NaN   \n",
       "4      NaN           Outpatient  DOSE=2.5 MG; FREQ=Daily; ROUTE=Oral   \n",
       "5      NaN           Outpatient                                  NaN   \n",
       "\n",
       "   Med.Age.90 Med.daysfrom_firstNAFL Med.before.ICD11  \n",
       "1          82                   -904                y  \n",
       "2          82                   -904                y  \n",
       "3          81                  -1463                y  \n",
       "4          81                  -1165                y  \n",
       "5          80                  -1616                y  "
      ]
     },
     "execution_count": 4,
     "metadata": {},
     "output_type": "execute_result"
    }
   ],
   "source": [
    "med_df = pd.read_csv(\"/nobackup/users/ericason/mlhc-final-project/data/NAFLpatients_Jan2025request/Med_all.use.final.txt\", delimiter=\"\\t\", header=0)\n",
    "med_df.head()"
   ]
  },
  {
   "cell_type": "code",
   "execution_count": 6,
   "id": "f77705a8-5d05-4dd7-807e-f3eb75489a07",
   "metadata": {},
   "outputs": [
    {
     "data": {
      "text/plain": [
       "(18820, 2)"
      ]
     },
     "execution_count": 6,
     "metadata": {},
     "output_type": "execute_result"
    }
   ],
   "source": [
    "med_codes = \"MedType_Code_\" + med_df[\"Code_Type\"] + \"_\" + med_df[\"Code\"]\n",
    "med_codes_df = pd.concat([med_codes, med_df[\"Medication\"]], axis=1)\n",
    "med_codes_df.columns = [\"Code\", \"Medication\"]\n",
    "med_codes_df.head()\n",
    "med_codes_df = med_codes_df.drop_duplicates() # drop duplicate codes and medications\n",
    "med_codes_df.shape"
   ]
  },
  {
   "cell_type": "code",
   "execution_count": 7,
   "id": "b74d56d5-d8f9-4f97-b902-828766e135d9",
   "metadata": {},
   "outputs": [
    {
     "data": {
      "text/html": [
       "<div>\n",
       "<style scoped>\n",
       "    .dataframe tbody tr th:only-of-type {\n",
       "        vertical-align: middle;\n",
       "    }\n",
       "\n",
       "    .dataframe tbody tr th {\n",
       "        vertical-align: top;\n",
       "    }\n",
       "\n",
       "    .dataframe thead th {\n",
       "        text-align: right;\n",
       "    }\n",
       "</style>\n",
       "<table border=\"1\" class=\"dataframe\">\n",
       "  <thead>\n",
       "    <tr style=\"text-align: right;\">\n",
       "      <th></th>\n",
       "      <th>Code</th>\n",
       "      <th>Medication</th>\n",
       "    </tr>\n",
       "  </thead>\n",
       "  <tbody>\n",
       "    <tr>\n",
       "      <th>184</th>\n",
       "      <td>MedType_Code_EPIC-MED_2007</td>\n",
       "      <td>Cyanocobalamin (Vit B-12) 1,000 mcg/ml Injecti...</td>\n",
       "    </tr>\n",
       "    <tr>\n",
       "      <th>219</th>\n",
       "      <td>MedType_Code_EPIC-MED_10328</td>\n",
       "      <td>Iopamidol 76 % Intravenous Solution</td>\n",
       "    </tr>\n",
       "  </tbody>\n",
       "</table>\n",
       "</div>"
      ],
      "text/plain": [
       "                            Code  \\\n",
       "184   MedType_Code_EPIC-MED_2007   \n",
       "219  MedType_Code_EPIC-MED_10328   \n",
       "\n",
       "                                            Medication  \n",
       "184  Cyanocobalamin (Vit B-12) 1,000 mcg/ml Injecti...  \n",
       "219                Iopamidol 76 % Intravenous Solution  "
      ]
     },
     "execution_count": 7,
     "metadata": {},
     "output_type": "execute_result"
    }
   ],
   "source": [
    "med_codes_df[med_codes_df['Code'].isin(shap_positive_med)] # most positive descriptions"
   ]
  },
  {
   "cell_type": "code",
   "execution_count": 27,
   "id": "7030226d-7152-4e58-b9b9-6bdf1f1d54ca",
   "metadata": {},
   "outputs": [],
   "source": [
    "buz = med_codes_df[med_codes_df['Code'].isin(shap_negative_med)] # most positive descriptions"
   ]
  },
  {
   "cell_type": "code",
   "execution_count": 28,
   "id": "4cc666d5-ebb1-4886-bba9-dfeb314fa3e2",
   "metadata": {},
   "outputs": [
    {
     "data": {
      "text/plain": [
       "['Flovent Hfa 110 mcg/Actuation Aerosol Inhaler',\n",
       " 'Venlafaxine Er 37.5 mg Capsule,Extended Release 24 Hr']"
      ]
     },
     "execution_count": 28,
     "metadata": {},
     "output_type": "execute_result"
    }
   ],
   "source": [
    "buz.iloc[:, 1].to_list()"
   ]
  },
  {
   "cell_type": "code",
   "execution_count": 9,
   "id": "79eb4cae-00f8-4705-95f8-b00b1c778058",
   "metadata": {},
   "outputs": [
    {
     "name": "stderr",
     "output_type": "stream",
     "text": [
      "/tmp/ipykernel_622852/1191323991.py:1: DtypeWarning: Columns (4,11) have mixed types. Specify dtype option on import or set low_memory=False.\n",
      "  lab_df = pd.read_csv(\"/nobackup/users/ericason/mlhc-final-project/data/NAFLpatients_Jan2025request/Lab_all.use.final.txt\", delimiter=\"\\t\", header=0)\n"
     ]
    },
    {
     "data": {
      "text/html": [
       "<div>\n",
       "<style scoped>\n",
       "    .dataframe tbody tr th:only-of-type {\n",
       "        vertical-align: middle;\n",
       "    }\n",
       "\n",
       "    .dataframe tbody tr th {\n",
       "        vertical-align: top;\n",
       "    }\n",
       "\n",
       "    .dataframe thead th {\n",
       "        text-align: right;\n",
       "    }\n",
       "</style>\n",
       "<table border=\"1\" class=\"dataframe\">\n",
       "  <thead>\n",
       "    <tr style=\"text-align: right;\">\n",
       "      <th></th>\n",
       "      <th>StudyID</th>\n",
       "      <th>Group_Id</th>\n",
       "      <th>Loinc_Code</th>\n",
       "      <th>Test_Id</th>\n",
       "      <th>Test_Description</th>\n",
       "      <th>Result</th>\n",
       "      <th>Abnormal_Flag</th>\n",
       "      <th>Reference_Units</th>\n",
       "      <th>Reference_Range</th>\n",
       "      <th>Toxic_Range</th>\n",
       "      <th>Specimen_Type</th>\n",
       "      <th>Specimen_Text</th>\n",
       "      <th>Correction_Flag</th>\n",
       "      <th>Test_Status</th>\n",
       "      <th>Lab.Age.90</th>\n",
       "      <th>Lab.daysfrom_firstNAFL</th>\n",
       "      <th>Lab.before.ICD11</th>\n",
       "    </tr>\n",
       "  </thead>\n",
       "  <tbody>\n",
       "    <tr>\n",
       "      <th>1</th>\n",
       "      <td>1</td>\n",
       "      <td>GLU</td>\n",
       "      <td>2345-7</td>\n",
       "      <td>SQ-PGLU</td>\n",
       "      <td>Plasma Glucose (Test:mcsq-pglu)</td>\n",
       "      <td>108.00000</td>\n",
       "      <td>NaN</td>\n",
       "      <td>mg/dL</td>\n",
       "      <td>70-110</td>\n",
       "      <td>NaN</td>\n",
       "      <td>NaN</td>\n",
       "      <td>NaN</td>\n",
       "      <td>NaN</td>\n",
       "      <td>NaN</td>\n",
       "      <td>84</td>\n",
       "      <td>-104</td>\n",
       "      <td>y</td>\n",
       "    </tr>\n",
       "    <tr>\n",
       "      <th>2</th>\n",
       "      <td>1</td>\n",
       "      <td>PLT</td>\n",
       "      <td>777-3</td>\n",
       "      <td>SQ-PLT</td>\n",
       "      <td>PLT (Test:mhsq-plt)</td>\n",
       "      <td>172.00000</td>\n",
       "      <td>NaN</td>\n",
       "      <td>K/uL</td>\n",
       "      <td>150-400</td>\n",
       "      <td>NaN</td>\n",
       "      <td>NaN</td>\n",
       "      <td>NaN</td>\n",
       "      <td>NaN</td>\n",
       "      <td>NaN</td>\n",
       "      <td>82</td>\n",
       "      <td>-938</td>\n",
       "      <td>y</td>\n",
       "    </tr>\n",
       "    <tr>\n",
       "      <th>3</th>\n",
       "      <td>1</td>\n",
       "      <td>UA-COLOR</td>\n",
       "      <td>5778-6</td>\n",
       "      <td>SQ-UCOLOR</td>\n",
       "      <td>UA-Color (Test:mhsq-ucolor)</td>\n",
       "      <td>YELLOW</td>\n",
       "      <td>NaN</td>\n",
       "      <td>NaN</td>\n",
       "      <td>Yellow</td>\n",
       "      <td>NaN</td>\n",
       "      <td>NaN</td>\n",
       "      <td>NaN</td>\n",
       "      <td>NaN</td>\n",
       "      <td>NaN</td>\n",
       "      <td>84</td>\n",
       "      <td>-104</td>\n",
       "      <td>y</td>\n",
       "    </tr>\n",
       "    <tr>\n",
       "      <th>4</th>\n",
       "      <td>1</td>\n",
       "      <td>WBC</td>\n",
       "      <td>6690-2</td>\n",
       "      <td>SQ-WBC</td>\n",
       "      <td>WBC (Test:mhsq-wbc)</td>\n",
       "      <td>7.84000</td>\n",
       "      <td>NaN</td>\n",
       "      <td>K/uL</td>\n",
       "      <td>4.5-11.0</td>\n",
       "      <td>NaN</td>\n",
       "      <td>NaN</td>\n",
       "      <td>NaN</td>\n",
       "      <td>NaN</td>\n",
       "      <td>NaN</td>\n",
       "      <td>82</td>\n",
       "      <td>-904</td>\n",
       "      <td>y</td>\n",
       "    </tr>\n",
       "    <tr>\n",
       "      <th>5</th>\n",
       "      <td>1</td>\n",
       "      <td>TRIG</td>\n",
       "      <td>2571-8</td>\n",
       "      <td>SQ-TRIG</td>\n",
       "      <td>Triglycerides (Test:mcsq-trig)</td>\n",
       "      <td>85.00000</td>\n",
       "      <td>NaN</td>\n",
       "      <td>mg/dL</td>\n",
       "      <td>40-150</td>\n",
       "      <td>NaN</td>\n",
       "      <td>NaN</td>\n",
       "      <td>NaN</td>\n",
       "      <td>NaN</td>\n",
       "      <td>NaN</td>\n",
       "      <td>83</td>\n",
       "      <td>-524</td>\n",
       "      <td>y</td>\n",
       "    </tr>\n",
       "  </tbody>\n",
       "</table>\n",
       "</div>"
      ],
      "text/plain": [
       "   StudyID  Group_Id Loinc_Code    Test_Id                 Test_Description  \\\n",
       "1        1       GLU     2345-7    SQ-PGLU  Plasma Glucose (Test:mcsq-pglu)   \n",
       "2        1       PLT      777-3     SQ-PLT              PLT (Test:mhsq-plt)   \n",
       "3        1  UA-COLOR     5778-6  SQ-UCOLOR      UA-Color (Test:mhsq-ucolor)   \n",
       "4        1       WBC     6690-2     SQ-WBC              WBC (Test:mhsq-wbc)   \n",
       "5        1      TRIG     2571-8    SQ-TRIG   Triglycerides (Test:mcsq-trig)   \n",
       "\n",
       "      Result Abnormal_Flag Reference_Units Reference_Range  Toxic_Range  \\\n",
       "1  108.00000           NaN           mg/dL          70-110          NaN   \n",
       "2  172.00000           NaN            K/uL         150-400          NaN   \n",
       "3     YELLOW           NaN             NaN          Yellow          NaN   \n",
       "4    7.84000           NaN            K/uL        4.5-11.0          NaN   \n",
       "5   85.00000           NaN           mg/dL          40-150          NaN   \n",
       "\n",
       "  Specimen_Type  Specimen_Text  Correction_Flag  Test_Status  Lab.Age.90  \\\n",
       "1           NaN            NaN              NaN          NaN          84   \n",
       "2           NaN            NaN              NaN          NaN          82   \n",
       "3           NaN            NaN              NaN          NaN          84   \n",
       "4           NaN            NaN              NaN          NaN          82   \n",
       "5           NaN            NaN              NaN          NaN          83   \n",
       "\n",
       "   Lab.daysfrom_firstNAFL Lab.before.ICD11  \n",
       "1                    -104                y  \n",
       "2                    -938                y  \n",
       "3                    -104                y  \n",
       "4                    -904                y  \n",
       "5                    -524                y  "
      ]
     },
     "execution_count": 9,
     "metadata": {},
     "output_type": "execute_result"
    }
   ],
   "source": [
    "lab_df = pd.read_csv(\"/nobackup/users/ericason/mlhc-final-project/data/NAFLpatients_Jan2025request/Lab_all.use.final.txt\", delimiter=\"\\t\", header=0)\n",
    "lab_df.head()"
   ]
  },
  {
   "cell_type": "code",
   "execution_count": 10,
   "id": "bfbe35de-4146-4f26-b97c-a022c2e1c144",
   "metadata": {},
   "outputs": [
    {
     "data": {
      "text/plain": [
       "(851, 2)"
      ]
     },
     "execution_count": 10,
     "metadata": {},
     "output_type": "execute_result"
    }
   ],
   "source": [
    "lab_codes = \"Lab_\" + lab_df[\"Loinc_Code\"]\n",
    "lab_codes_df = pd.concat([lab_codes, lab_df[\"Test_Description\"]], axis=1)\n",
    "lab_codes_df.columns = [\"Code\", \"Lab Test\"]\n",
    "lab_codes_df.head()\n",
    "lab_codes_df = lab_codes_df.drop_duplicates() # drop duplicate codes and medications\n",
    "lab_codes_df.shape"
   ]
  },
  {
   "cell_type": "code",
   "execution_count": null,
   "id": "439424b5-9a7b-4f2b-8a10-9dceff037908",
   "metadata": {},
   "outputs": [],
   "source": []
  },
  {
   "cell_type": "code",
   "execution_count": 33,
   "id": "1b9d02c1-1635-447a-907e-a875aee0c5e7",
   "metadata": {},
   "outputs": [
    {
     "data": {
      "text/html": [
       "<div>\n",
       "<style scoped>\n",
       "    .dataframe tbody tr th:only-of-type {\n",
       "        vertical-align: middle;\n",
       "    }\n",
       "\n",
       "    .dataframe tbody tr th {\n",
       "        vertical-align: top;\n",
       "    }\n",
       "\n",
       "    .dataframe thead th {\n",
       "        text-align: right;\n",
       "    }\n",
       "</style>\n",
       "<table border=\"1\" class=\"dataframe\">\n",
       "  <thead>\n",
       "    <tr style=\"text-align: right;\">\n",
       "      <th></th>\n",
       "      <th>Code</th>\n",
       "      <th>Lab Test</th>\n",
       "    </tr>\n",
       "  </thead>\n",
       "  <tbody>\n",
       "    <tr>\n",
       "      <th>1848</th>\n",
       "      <td>Lab_19153-6</td>\n",
       "      <td>TOTAL VOLUME (Test:el:5200009536)</td>\n",
       "    </tr>\n",
       "    <tr>\n",
       "      <th>15597</th>\n",
       "      <td>Lab_19153-6</td>\n",
       "      <td>TOTAL VOLUME (Test:bcmtv2)</td>\n",
       "    </tr>\n",
       "    <tr>\n",
       "      <th>15648</th>\n",
       "      <td>Lab_19153-6</td>\n",
       "      <td>TOTAL VOLUME (Test:bcmtv8)</td>\n",
       "    </tr>\n",
       "    <tr>\n",
       "      <th>30432</th>\n",
       "      <td>Lab_19153-6</td>\n",
       "      <td>TOTAL VOLUME (Test:mcsq-mtv8)</td>\n",
       "    </tr>\n",
       "    <tr>\n",
       "      <th>221467</th>\n",
       "      <td>Lab_19153-6</td>\n",
       "      <td>TOTAL VOLUME (Test:el:5200009497)</td>\n",
       "    </tr>\n",
       "    <tr>\n",
       "      <th>243425</th>\n",
       "      <td>Lab_19153-6</td>\n",
       "      <td>TOTAL VOLUME (Test:mcsq-mtv1)</td>\n",
       "    </tr>\n",
       "    <tr>\n",
       "      <th>272678</th>\n",
       "      <td>Lab_19153-6</td>\n",
       "      <td>TOTAL VOLUME Urine (Test:el:5200009507)</td>\n",
       "    </tr>\n",
       "    <tr>\n",
       "      <th>415540</th>\n",
       "      <td>Lab_19153-6</td>\n",
       "      <td>TOTAL VOLUME (Test:mcsq-mtv2)</td>\n",
       "    </tr>\n",
       "    <tr>\n",
       "      <th>654174</th>\n",
       "      <td>Lab_19153-6</td>\n",
       "      <td>TOTAL VOLUME (Test:mcsq-mtv29)</td>\n",
       "    </tr>\n",
       "    <tr>\n",
       "      <th>909320</th>\n",
       "      <td>Lab_19153-6</td>\n",
       "      <td>TOTAL VOLUME (Test:mcsq-mtv16)</td>\n",
       "    </tr>\n",
       "    <tr>\n",
       "      <th>1012679</th>\n",
       "      <td>Lab_19153-6</td>\n",
       "      <td>URINE VOLUME (Test:bcnmhin3)</td>\n",
       "    </tr>\n",
       "    <tr>\n",
       "      <th>1371401</th>\n",
       "      <td>Lab_19153-6</td>\n",
       "      <td>VOLUME (Test:el:5200015444)</td>\n",
       "    </tr>\n",
       "    <tr>\n",
       "      <th>1449063</th>\n",
       "      <td>Lab_19153-6</td>\n",
       "      <td>UREA NITROGEN, TIMED URINE (G/24HR) (Test:el:5...</td>\n",
       "    </tr>\n",
       "    <tr>\n",
       "      <th>1487655</th>\n",
       "      <td>Lab_19153-6</td>\n",
       "      <td>URINE VOLUME (Test:mcsq-nmhin3)</td>\n",
       "    </tr>\n",
       "    <tr>\n",
       "      <th>2280163</th>\n",
       "      <td>Lab_19153-6</td>\n",
       "      <td>TOTAL VOLUME (Test:el:5200009499)</td>\n",
       "    </tr>\n",
       "    <tr>\n",
       "      <th>2888007</th>\n",
       "      <td>Lab_19153-6</td>\n",
       "      <td>TOTAL VOLUME (Test:bcmtv1)</td>\n",
       "    </tr>\n",
       "    <tr>\n",
       "      <th>3561382</th>\n",
       "      <td>Lab_19153-6</td>\n",
       "      <td>VOLUME (Test:bcvolm1)</td>\n",
       "    </tr>\n",
       "    <tr>\n",
       "      <th>3836402</th>\n",
       "      <td>Lab_19153-6</td>\n",
       "      <td>TOTAL VOLUME (Test:mcsq-mtv40)</td>\n",
       "    </tr>\n",
       "    <tr>\n",
       "      <th>4396868</th>\n",
       "      <td>Lab_19153-6</td>\n",
       "      <td>TOTAL VOLUME Urine (Test:el:5200009503)</td>\n",
       "    </tr>\n",
       "    <tr>\n",
       "      <th>4654831</th>\n",
       "      <td>Lab_19153-6</td>\n",
       "      <td>TOTAL VOLUME (Test:mcsq-mtv5)</td>\n",
       "    </tr>\n",
       "    <tr>\n",
       "      <th>5451860</th>\n",
       "      <td>Lab_19153-6</td>\n",
       "      <td>TOTAL VOLUME (Test:bcmtv16)</td>\n",
       "    </tr>\n",
       "    <tr>\n",
       "      <th>7004606</th>\n",
       "      <td>Lab_19153-6</td>\n",
       "      <td>TOTAL VOLUME (Test:mcsq-mtv12)</td>\n",
       "    </tr>\n",
       "    <tr>\n",
       "      <th>12384593</th>\n",
       "      <td>Lab_19153-6</td>\n",
       "      <td>TOTAL VOLUME (Test:bcmtv12)</td>\n",
       "    </tr>\n",
       "    <tr>\n",
       "      <th>15300996</th>\n",
       "      <td>Lab_19153-6</td>\n",
       "      <td>TOTAL VOLUME (Test:bcmtv29)</td>\n",
       "    </tr>\n",
       "  </tbody>\n",
       "</table>\n",
       "</div>"
      ],
      "text/plain": [
       "                 Code                                           Lab Test\n",
       "1848      Lab_19153-6                  TOTAL VOLUME (Test:el:5200009536)\n",
       "15597     Lab_19153-6                         TOTAL VOLUME (Test:bcmtv2)\n",
       "15648     Lab_19153-6                         TOTAL VOLUME (Test:bcmtv8)\n",
       "30432     Lab_19153-6                      TOTAL VOLUME (Test:mcsq-mtv8)\n",
       "221467    Lab_19153-6                  TOTAL VOLUME (Test:el:5200009497)\n",
       "243425    Lab_19153-6                      TOTAL VOLUME (Test:mcsq-mtv1)\n",
       "272678    Lab_19153-6            TOTAL VOLUME Urine (Test:el:5200009507)\n",
       "415540    Lab_19153-6                      TOTAL VOLUME (Test:mcsq-mtv2)\n",
       "654174    Lab_19153-6                     TOTAL VOLUME (Test:mcsq-mtv29)\n",
       "909320    Lab_19153-6                     TOTAL VOLUME (Test:mcsq-mtv16)\n",
       "1012679   Lab_19153-6                       URINE VOLUME (Test:bcnmhin3)\n",
       "1371401   Lab_19153-6                        VOLUME (Test:el:5200015444)\n",
       "1449063   Lab_19153-6  UREA NITROGEN, TIMED URINE (G/24HR) (Test:el:5...\n",
       "1487655   Lab_19153-6                    URINE VOLUME (Test:mcsq-nmhin3)\n",
       "2280163   Lab_19153-6                  TOTAL VOLUME (Test:el:5200009499)\n",
       "2888007   Lab_19153-6                         TOTAL VOLUME (Test:bcmtv1)\n",
       "3561382   Lab_19153-6                              VOLUME (Test:bcvolm1)\n",
       "3836402   Lab_19153-6                     TOTAL VOLUME (Test:mcsq-mtv40)\n",
       "4396868   Lab_19153-6            TOTAL VOLUME Urine (Test:el:5200009503)\n",
       "4654831   Lab_19153-6                      TOTAL VOLUME (Test:mcsq-mtv5)\n",
       "5451860   Lab_19153-6                        TOTAL VOLUME (Test:bcmtv16)\n",
       "7004606   Lab_19153-6                     TOTAL VOLUME (Test:mcsq-mtv12)\n",
       "12384593  Lab_19153-6                        TOTAL VOLUME (Test:bcmtv12)\n",
       "15300996  Lab_19153-6                        TOTAL VOLUME (Test:bcmtv29)"
      ]
     },
     "execution_count": 33,
     "metadata": {},
     "output_type": "execute_result"
    }
   ],
   "source": [
    "lab_codes_df[lab_codes_df['Code'] == 'Lab_19153-6']"
   ]
  },
  {
   "cell_type": "code",
   "execution_count": 17,
   "id": "32c6414a-ff1e-4660-9b55-2e0b077a1fbc",
   "metadata": {},
   "outputs": [],
   "source": [
    "foo = lab_codes_df[lab_codes_df['Code'].isin(shap_positive_lab)] # most positive descriptions"
   ]
  },
  {
   "cell_type": "code",
   "execution_count": 18,
   "id": "991a8794-e1d8-4fb2-b9df-2dada9cad03b",
   "metadata": {},
   "outputs": [],
   "source": [
    "foo_first = foo.drop_duplicates(subset='Code', keep='first')"
   ]
  },
  {
   "cell_type": "code",
   "execution_count": 19,
   "id": "5837df9d-b853-43a6-a2fd-84d909166880",
   "metadata": {},
   "outputs": [
    {
     "data": {
      "text/html": [
       "<div>\n",
       "<style scoped>\n",
       "    .dataframe tbody tr th:only-of-type {\n",
       "        vertical-align: middle;\n",
       "    }\n",
       "\n",
       "    .dataframe tbody tr th {\n",
       "        vertical-align: top;\n",
       "    }\n",
       "\n",
       "    .dataframe thead th {\n",
       "        text-align: right;\n",
       "    }\n",
       "</style>\n",
       "<table border=\"1\" class=\"dataframe\">\n",
       "  <thead>\n",
       "    <tr style=\"text-align: right;\">\n",
       "      <th></th>\n",
       "      <th>Code</th>\n",
       "      <th>Lab Test</th>\n",
       "    </tr>\n",
       "  </thead>\n",
       "  <tbody>\n",
       "    <tr>\n",
       "      <th>21</th>\n",
       "      <td>Lab_3094-0</td>\n",
       "      <td>Plasma Urea Nitrogen (Test:mcsq-pbun)</td>\n",
       "    </tr>\n",
       "    <tr>\n",
       "      <th>24</th>\n",
       "      <td>Lab_1920-8</td>\n",
       "      <td>Transaminase-SGOT (Test:mcsq-sgot)</td>\n",
       "    </tr>\n",
       "    <tr>\n",
       "      <th>42</th>\n",
       "      <td>Lab_2093-3</td>\n",
       "      <td>Cholesterol (Test:mcsq-chol)</td>\n",
       "    </tr>\n",
       "    <tr>\n",
       "      <th>280</th>\n",
       "      <td>Lab_4679-7</td>\n",
       "      <td>Retic (Test:mhsq-retic)</td>\n",
       "    </tr>\n",
       "    <tr>\n",
       "      <th>833</th>\n",
       "      <td>Lab_2532-0</td>\n",
       "      <td>Lactic Dehydrogenase (Test:mcsq-ldh)</td>\n",
       "    </tr>\n",
       "    <tr>\n",
       "      <th>36148</th>\n",
       "      <td>Lab_14338-8</td>\n",
       "      <td>PREALBUMIN (Test:el:5200011054)</td>\n",
       "    </tr>\n",
       "  </tbody>\n",
       "</table>\n",
       "</div>"
      ],
      "text/plain": [
       "              Code                               Lab Test\n",
       "21      Lab_3094-0  Plasma Urea Nitrogen (Test:mcsq-pbun)\n",
       "24      Lab_1920-8     Transaminase-SGOT (Test:mcsq-sgot)\n",
       "42      Lab_2093-3           Cholesterol (Test:mcsq-chol)\n",
       "280     Lab_4679-7                Retic (Test:mhsq-retic)\n",
       "833     Lab_2532-0   Lactic Dehydrogenase (Test:mcsq-ldh)\n",
       "36148  Lab_14338-8        PREALBUMIN (Test:el:5200011054)"
      ]
     },
     "execution_count": 19,
     "metadata": {},
     "output_type": "execute_result"
    }
   ],
   "source": [
    "foo_first"
   ]
  },
  {
   "cell_type": "code",
   "execution_count": 26,
   "id": "681cf5e6-d730-48c0-a7bb-c652a962126a",
   "metadata": {},
   "outputs": [
    {
     "data": {
      "text/plain": [
       "['Plasma Anion GAP (Test:mcsq-panion)',\n",
       " 'Vitamin B12 (Test:mcsq-b12)',\n",
       " 'Total Protein (Test:mcsq-tp)',\n",
       " 'Urine Creatinine (Test:mcsq-vcre)',\n",
       " 'Urine Microalbumin (Test:mcsq-malb)',\n",
       " 'CALCULATED LDL Blood (Test:el:5200003273)',\n",
       " 'Urine Urea Nitrogen (Test:mcsq-vun)',\n",
       " 'Osmolality (Test:bcosm)']"
      ]
     },
     "execution_count": 26,
     "metadata": {},
     "output_type": "execute_result"
    }
   ],
   "source": [
    "bar = lab_codes_df[lab_codes_df['Code'].isin(shap_negative_lab)] # most positive descriptions\n",
    "bar_first = bar.drop_duplicates(subset='Code', keep='first')\n",
    "bar_first['Lab Test'].to_list()"
   ]
  },
  {
   "cell_type": "code",
   "execution_count": 11,
   "id": "097db01b-a3c3-4437-b4bf-25b69e99fec0",
   "metadata": {},
   "outputs": [
    {
     "data": {
      "text/html": [
       "<div>\n",
       "<style scoped>\n",
       "    .dataframe tbody tr th:only-of-type {\n",
       "        vertical-align: middle;\n",
       "    }\n",
       "\n",
       "    .dataframe tbody tr th {\n",
       "        vertical-align: top;\n",
       "    }\n",
       "\n",
       "    .dataframe thead th {\n",
       "        text-align: right;\n",
       "    }\n",
       "</style>\n",
       "<table border=\"1\" class=\"dataframe\">\n",
       "  <thead>\n",
       "    <tr style=\"text-align: right;\">\n",
       "      <th></th>\n",
       "      <th>StudyID</th>\n",
       "      <th>Diagnosis_Name</th>\n",
       "      <th>Code_Type</th>\n",
       "      <th>Code</th>\n",
       "      <th>Diagnosis_Flag</th>\n",
       "      <th>Inpatient_Outpatient</th>\n",
       "      <th>Dia.Age.90</th>\n",
       "      <th>Dia.daysfrom_firstNAFL</th>\n",
       "      <th>Dia.before.ICD11</th>\n",
       "    </tr>\n",
       "  </thead>\n",
       "  <tbody>\n",
       "    <tr>\n",
       "      <th>1</th>\n",
       "      <td>1</td>\n",
       "      <td>Generalized anxiety disorder</td>\n",
       "      <td>ICD10</td>\n",
       "      <td>F41.1</td>\n",
       "      <td>NaN</td>\n",
       "      <td>Outpatient</td>\n",
       "      <td>81</td>\n",
       "      <td>-1435</td>\n",
       "      <td>y</td>\n",
       "    </tr>\n",
       "    <tr>\n",
       "      <th>2</th>\n",
       "      <td>1</td>\n",
       "      <td>Generalized anxiety disorder</td>\n",
       "      <td>ICD10</td>\n",
       "      <td>F41.1</td>\n",
       "      <td>Primary</td>\n",
       "      <td>Outpatient</td>\n",
       "      <td>86</td>\n",
       "      <td>567</td>\n",
       "      <td>y</td>\n",
       "    </tr>\n",
       "    <tr>\n",
       "      <th>3</th>\n",
       "      <td>1</td>\n",
       "      <td>Unspecified symptoms and signs involving the g...</td>\n",
       "      <td>ICD10</td>\n",
       "      <td>R39.9</td>\n",
       "      <td>Primary</td>\n",
       "      <td>Outpatient</td>\n",
       "      <td>84</td>\n",
       "      <td>-97</td>\n",
       "      <td>y</td>\n",
       "    </tr>\n",
       "    <tr>\n",
       "      <th>4</th>\n",
       "      <td>1</td>\n",
       "      <td>Essential (primary) hypertension</td>\n",
       "      <td>ICD10</td>\n",
       "      <td>I10</td>\n",
       "      <td>NaN</td>\n",
       "      <td>Outpatient</td>\n",
       "      <td>82</td>\n",
       "      <td>-1009</td>\n",
       "      <td>y</td>\n",
       "    </tr>\n",
       "    <tr>\n",
       "      <th>5</th>\n",
       "      <td>1</td>\n",
       "      <td>Disorientation, unspecified</td>\n",
       "      <td>ICD10</td>\n",
       "      <td>R41.0</td>\n",
       "      <td>NaN</td>\n",
       "      <td>Outpatient</td>\n",
       "      <td>84</td>\n",
       "      <td>-104</td>\n",
       "      <td>y</td>\n",
       "    </tr>\n",
       "  </tbody>\n",
       "</table>\n",
       "</div>"
      ],
      "text/plain": [
       "   StudyID                                     Diagnosis_Name Code_Type  \\\n",
       "1        1                       Generalized anxiety disorder     ICD10   \n",
       "2        1                       Generalized anxiety disorder     ICD10   \n",
       "3        1  Unspecified symptoms and signs involving the g...     ICD10   \n",
       "4        1                   Essential (primary) hypertension     ICD10   \n",
       "5        1                        Disorientation, unspecified     ICD10   \n",
       "\n",
       "    Code Diagnosis_Flag Inpatient_Outpatient  Dia.Age.90  \\\n",
       "1  F41.1            NaN           Outpatient          81   \n",
       "2  F41.1        Primary           Outpatient          86   \n",
       "3  R39.9        Primary           Outpatient          84   \n",
       "4    I10            NaN           Outpatient          82   \n",
       "5  R41.0            NaN           Outpatient          84   \n",
       "\n",
       "   Dia.daysfrom_firstNAFL Dia.before.ICD11  \n",
       "1                   -1435                y  \n",
       "2                     567                y  \n",
       "3                     -97                y  \n",
       "4                   -1009                y  \n",
       "5                    -104                y  "
      ]
     },
     "execution_count": 11,
     "metadata": {},
     "output_type": "execute_result"
    }
   ],
   "source": [
    "dia_df = pd.read_csv(\"/nobackup/users/ericason/mlhc-final-project/data/NAFLpatients_Jan2025request/Dia_all.use.final.txt\", delimiter=\"\\t\", header=0)\n",
    "dia_df.head()"
   ]
  },
  {
   "cell_type": "code",
   "execution_count": 13,
   "id": "7fbff639-f43a-461b-8ac0-d2d8c3036ba4",
   "metadata": {},
   "outputs": [
    {
     "data": {
      "text/plain": [
       "(26359, 2)"
      ]
     },
     "execution_count": 13,
     "metadata": {},
     "output_type": "execute_result"
    }
   ],
   "source": [
    "dia_codes = \"Code_\" + dia_df[\"Code\"]\n",
    "dia_codes_df = pd.concat([dia_codes, dia_df[\"Diagnosis_Name\"]], axis=1)\n",
    "dia_codes_df.columns = [\"Code\", \"Diagnosis\"]\n",
    "dia_codes_df.head()\n",
    "dia_codes_df = dia_codes_df.drop_duplicates() # drop duplicate codes and medications\n",
    "dia_codes_df.shape"
   ]
  },
  {
   "cell_type": "code",
   "execution_count": 23,
   "id": "bcc9ff3d-35b2-474f-817a-8d77945c5553",
   "metadata": {},
   "outputs": [
    {
     "data": {
      "text/html": [
       "<div>\n",
       "<style scoped>\n",
       "    .dataframe tbody tr th:only-of-type {\n",
       "        vertical-align: middle;\n",
       "    }\n",
       "\n",
       "    .dataframe tbody tr th {\n",
       "        vertical-align: top;\n",
       "    }\n",
       "\n",
       "    .dataframe thead th {\n",
       "        text-align: right;\n",
       "    }\n",
       "</style>\n",
       "<table border=\"1\" class=\"dataframe\">\n",
       "  <thead>\n",
       "    <tr style=\"text-align: right;\">\n",
       "      <th></th>\n",
       "      <th>Code</th>\n",
       "      <th>Diagnosis</th>\n",
       "    </tr>\n",
       "  </thead>\n",
       "  <tbody>\n",
       "  </tbody>\n",
       "</table>\n",
       "</div>"
      ],
      "text/plain": [
       "Empty DataFrame\n",
       "Columns: [Code, Diagnosis]\n",
       "Index: []"
      ]
     },
     "execution_count": 23,
     "metadata": {},
     "output_type": "execute_result"
    }
   ],
   "source": [
    "bax = dia_codes_df[dia_codes_df['Code'].isin(shap_negative_dia)] # most positive descriptions\n",
    "bax_first = bax.drop_duplicates(subset='Code', keep='first')\n",
    "bax_first"
   ]
  },
  {
   "cell_type": "code",
   "execution_count": 24,
   "id": "141d51a9-d436-4c35-96f6-2853e64f8b6f",
   "metadata": {},
   "outputs": [
    {
     "data": {
      "text/html": [
       "<div>\n",
       "<style scoped>\n",
       "    .dataframe tbody tr th:only-of-type {\n",
       "        vertical-align: middle;\n",
       "    }\n",
       "\n",
       "    .dataframe tbody tr th {\n",
       "        vertical-align: top;\n",
       "    }\n",
       "\n",
       "    .dataframe thead th {\n",
       "        text-align: right;\n",
       "    }\n",
       "</style>\n",
       "<table border=\"1\" class=\"dataframe\">\n",
       "  <thead>\n",
       "    <tr style=\"text-align: right;\">\n",
       "      <th></th>\n",
       "      <th>Code</th>\n",
       "      <th>Diagnosis</th>\n",
       "    </tr>\n",
       "  </thead>\n",
       "  <tbody>\n",
       "    <tr>\n",
       "      <th>38</th>\n",
       "      <td>Code_Z23</td>\n",
       "      <td>Encounter for immunization</td>\n",
       "    </tr>\n",
       "    <tr>\n",
       "      <th>588</th>\n",
       "      <td>Code_N20.0</td>\n",
       "      <td>Calculus of kidney</td>\n",
       "    </tr>\n",
       "  </tbody>\n",
       "</table>\n",
       "</div>"
      ],
      "text/plain": [
       "           Code                   Diagnosis\n",
       "38     Code_Z23  Encounter for immunization\n",
       "588  Code_N20.0          Calculus of kidney"
      ]
     },
     "execution_count": 24,
     "metadata": {},
     "output_type": "execute_result"
    }
   ],
   "source": [
    "baz = dia_codes_df[dia_codes_df['Code'].isin(shap_positive_dia)] # most positive descriptions\n",
    "baz_first = baz.drop_duplicates(subset='Code', keep='first')\n",
    "baz_first"
   ]
  },
  {
   "cell_type": "code",
   "execution_count": 3,
   "id": "2e33178f-f363-4518-a18d-336946a9f1b4",
   "metadata": {},
   "outputs": [],
   "source": [
    "import pickle\n",
    "file_path = 'results/coxph_shap_values_scaledx.pkl'\n",
    "with open(file_path, 'rb') as file:\n",
    "    foo = pickle.load(file)"
   ]
  }
 ],
 "metadata": {
  "kernelspec": {
   "display_name": "Python [conda env:torch-nafld]",
   "language": "python",
   "name": "conda-env-torch-nafld-py"
  },
  "language_info": {
   "codemirror_mode": {
    "name": "ipython",
    "version": 3
   },
   "file_extension": ".py",
   "mimetype": "text/x-python",
   "name": "python",
   "nbconvert_exporter": "python",
   "pygments_lexer": "ipython3",
   "version": "3.11.9"
  }
 },
 "nbformat": 4,
 "nbformat_minor": 5
}
