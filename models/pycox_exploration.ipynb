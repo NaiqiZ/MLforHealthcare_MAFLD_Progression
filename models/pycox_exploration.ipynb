{
 "cells": [
  {
   "cell_type": "code",
   "execution_count": null,
   "id": "3db84eb6-228b-4e0c-a57f-ab5ec5b3f7ae",
   "metadata": {},
   "outputs": [],
   "source": [
    "import numpy as np\n",
    "import matplotlib.pyplot as plt\n",
    "import pandas as pd\n",
    "from sklearn.preprocessing import StandardScaler\n",
    "# from sklearn_pandas import DataFrameMapper"
   ]
  },
  {
   "cell_type": "code",
   "execution_count": null,
   "id": "fb970657-d38f-4dd2-8d05-8c35b000da7d",
   "metadata": {},
   "outputs": [],
   "source": [
    "import torch\n",
    "import torchtuples as tt"
   ]
  },
  {
   "cell_type": "code",
   "execution_count": null,
   "id": "eac46b3d-c6f8-40df-98c9-377cbe7c16da",
   "metadata": {},
   "outputs": [],
   "source": [
    "from pycox.datasets import metabric\n",
    "from pycox.models import CoxPH\n",
    "from pycox.evaluation import EvalSurv"
   ]
  },
  {
   "cell_type": "code",
   "execution_count": null,
   "id": "61389d4e-53f7-470b-a150-04de343ea58f",
   "metadata": {},
   "outputs": [],
   "source": [
    "np.random.seed(1234)\n",
    "_ = torch.manual_seed(123)"
   ]
  },
  {
   "cell_type": "code",
   "execution_count": null,
   "id": "e1588609-2cb8-439e-a405-260431c709b9",
   "metadata": {},
   "outputs": [],
   "source": [
    "data = pd.read_csv(\"../clean_data/nafl/combined.large.nafl.csv\")\n",
    "Y = data[['StudyID', 'DaysUntilFirstProgression']]\n",
    "# X = data.drop(columns='DaysUntilFirstProgression')\n",
    "\n",
    "X = data.set_index('StudyID')\n",
    "Y = Y.set_index('StudyID')"
   ]
  },
  {
   "cell_type": "code",
   "execution_count": null,
   "id": "1cc93bb4-cbd1-4038-85cb-c10929eec878",
   "metadata": {},
   "outputs": [],
   "source": [
    "Y = data[['StudyID', 'DaysUntilFirstProgression']]\n",
    "# X = data.drop(columns='DaysUntilFirstProgression')\n",
    "\n",
    "X = data.set_index('StudyID')\n",
    "Y = Y.set_index('StudyID')"
   ]
  },
  {
   "cell_type": "code",
   "execution_count": null,
   "id": "50689fcd-b24e-4487-a2d8-58dcbe4f31dd",
   "metadata": {},
   "outputs": [],
   "source": [
    "# convert data to tensors\n",
    "X_numpy = X.values.astype(np.float32) # turn into a numpy array\n",
    "X_torch = torch.from_numpy(X_numpy)\n",
    "\n",
    "Y_numpy = Y.values.astype(np.float32) # turn into a numpy array\n",
    "Y_torch = torch.from_numpy(Y_numpy)"
   ]
  },
  {
   "cell_type": "code",
   "execution_count": null,
   "id": "63d76fa8-7982-4852-89ca-871f523d56e0",
   "metadata": {},
   "outputs": [],
   "source": [
    "# check if GPU is enabled\n",
    "device = \"cuda\" if torch.cuda.is_available() else \"cpu\" # need to define device since python can use both cpu and gpu\n",
    "print(f\"Using {device} device\")\n",
    "print(f\"Shape of X: {X.shape}. Shape of Y: {Y.shape}.\")"
   ]
  },
  {
   "cell_type": "code",
   "execution_count": null,
   "id": "8f2b284e-c17b-4ac5-8593-e393085c9a89",
   "metadata": {},
   "outputs": [],
   "source": [
    "from sklearn.model_selection import train_test_split\n",
    "\n",
    "# X_train, X_test, y_train, y_test = train_test_split(X_torch, Y_torch, test_size=0.3, random_state=42)\n",
    "X_train, X_test, y_train, y_test = train_test_split(X, Y, test_size=0.3, random_state=42)\n",
    "X_train, X_val, y_train, y_val = train_test_split(X_train, y_train, test_size=0.3, random_state=42)"
   ]
  },
  {
   "cell_type": "code",
   "execution_count": null,
   "id": "61690b31-1346-4017-81ae-8fb1a6034ebe",
   "metadata": {},
   "outputs": [],
   "source": [
    "in_features = X_train.shape[1]\n",
    "num_nodes = [32, 32]\n",
    "out_features = 1\n",
    "batch_norm = True\n",
    "dropout = 0.1\n",
    "output_bias = False\n",
    "\n",
    "net = tt.practical.MLPVanilla(in_features, num_nodes, out_features, batch_norm,\n",
    "                              dropout, output_bias=output_bias)"
   ]
  },
  {
   "cell_type": "code",
   "execution_count": null,
   "id": "f3f4e2af-88d5-434b-85b9-8237a498d5c5",
   "metadata": {},
   "outputs": [],
   "source": [
    "get_target = lambda df: (df['DaysUntilFirstProgression'].values, df['Outcome'].values.astype(int))\n",
    "y_train = get_target(X_train)\n",
    "y_val = get_target(X_val)\n",
    "durations_test, events_test = get_target(X_test)\n",
    "val = X_val, y_val"
   ]
  },
  {
   "cell_type": "code",
   "execution_count": null,
   "id": "00f9cbf6-1ff2-428c-a0ef-dc08a3d262af",
   "metadata": {},
   "outputs": [],
   "source": [
    "X_train.astype(int)"
   ]
  },
  {
   "cell_type": "code",
   "execution_count": null,
   "id": "5d7c8ee2-4c01-42c6-a545-4e5da741dc47",
   "metadata": {},
   "outputs": [],
   "source": [
    "for array in y_train:\n",
    "    array = array.astype('float32')"
   ]
  },
  {
   "cell_type": "code",
   "execution_count": null,
   "id": "9f8df66e-e74a-45de-96fa-89446f09702c",
   "metadata": {},
   "outputs": [],
   "source": [
    "y_train_new = (y_train[0].astype('float32'), y_train[1].astype('float32'))"
   ]
  },
  {
   "cell_type": "code",
   "execution_count": null,
   "id": "c6bc0a38-3742-45b5-877c-2512d755655c",
   "metadata": {},
   "outputs": [],
   "source": [
    "X_train = X_train.astype('float32')"
   ]
  },
  {
   "cell_type": "code",
   "execution_count": null,
   "id": "e98cbf4f-f64f-4bf3-9f97-03ad4b9f2243",
   "metadata": {},
   "outputs": [],
   "source": [
    "y_train_new[0].dtype"
   ]
  },
  {
   "cell_type": "code",
   "execution_count": null,
   "id": "849437af-4737-4b4d-8614-b736394eb203",
   "metadata": {},
   "outputs": [],
   "source": [
    "y_train_new"
   ]
  },
  {
   "cell_type": "code",
   "execution_count": null,
   "id": "8945dd09-9fdb-4606-ae1d-fc33da49418a",
   "metadata": {},
   "outputs": [],
   "source": [
    "X_train['Lab_10466-1'].dtype"
   ]
  },
  {
   "cell_type": "code",
   "execution_count": null,
   "id": "aab1ff4b-9d04-4687-9815-f05d5d7b1adb",
   "metadata": {},
   "outputs": [],
   "source": [
    "for col in X_train.columns:\n",
    "    if X_train[col].dtype != 'float32':\n",
    "        print(f'This col is not float32: {col}')"
   ]
  },
  {
   "cell_type": "code",
   "execution_count": null,
   "id": "dcb5201c-69fe-4b4d-95db-f504e142410f",
   "metadata": {},
   "outputs": [],
   "source": [
    "model = CoxPH(net, tt.optim.Adam)\n",
    "batch_size = 256\n",
    "lrfinder = model.lr_finder(X_train, y_train_new, batch_size, tolerance=10)\n",
    "_ = lrfinder.plot()"
   ]
  },
  {
   "cell_type": "code",
   "execution_count": null,
   "id": "8526d488-923c-4a49-80cc-47c175f64911",
   "metadata": {},
   "outputs": [],
   "source": [
    "for child in net.named_parameters():\n",
    "    print(child[1].dtype)"
   ]
  },
  {
   "cell_type": "code",
   "execution_count": null,
   "id": "3f27e5f8-0995-4aec-a448-5ca2554f602a",
   "metadata": {},
   "outputs": [],
   "source": []
  }
 ],
 "metadata": {
  "kernelspec": {
   "display_name": "Python [conda env:pycox-env]",
   "language": "python",
   "name": "conda-env-pycox-env-py"
  },
  "language_info": {
   "codemirror_mode": {
    "name": "ipython",
    "version": 3
   },
   "file_extension": ".py",
   "mimetype": "text/x-python",
   "name": "python",
   "nbconvert_exporter": "python",
   "pygments_lexer": "ipython3",
   "version": "3.9.19"
  }
 },
 "nbformat": 4,
 "nbformat_minor": 5
}
