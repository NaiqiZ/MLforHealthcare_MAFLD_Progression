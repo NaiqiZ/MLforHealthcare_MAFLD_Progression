{
 "cells": [
  {
   "cell_type": "code",
   "execution_count": null,
   "id": "38742869-0c25-4238-bf7f-f3edfad25026",
   "metadata": {},
   "outputs": [],
   "source": [
    "import pandas as pd\n",
    "from sklearn.linear_model import LinearRegression, LogisticRegression\n",
    "from sklearn.preprocessing import StandardScaler\n",
    "from sklearn.model_selection import train_test_split\n",
    "from sklearn.metrics import mean_squared_error, confusion_matrix, classification_report, roc_auc_score, mean_absolute_error, average_precision_score\n",
    "import matplotlib.pyplot as plt\n",
    "import numpy as np\n",
    "from statsmodels.stats.outliers_influence import variance_inflation_factor\n",
    "from sklearn.feature_selection import RFE\n",
    "from lifelines import CoxPHFitter"
   ]
  },
  {
   "cell_type": "markdown",
   "id": "f94bc069-053e-4a0c-8469-5eaf779a3ec5",
   "metadata": {},
   "source": [
    "## Prepare Data\n",
    "Separate out the outcomes. Keep only mean and last BMI. \n",
    "\n",
    "Split into train and test datasets.\n",
    "\n",
    "Standardize the lab values, age at first diagnosis, and BMI (train the scaler on the training set and then use it on the test set)."
   ]
  },
  {
   "cell_type": "code",
   "execution_count": null,
   "id": "7b7f4553-b222-404f-82b7-cc65de3c32d9",
   "metadata": {},
   "outputs": [],
   "source": [
    "df = pd.read_csv(\"/nobackup/users/ericason/mlhc-final-project/clean_data/nafl/combined.large.nafl.csv\", header=0, delimiter=\",\")\n",
    "df.head()"
   ]
  },
  {
   "cell_type": "code",
   "execution_count": null,
   "id": "c07da8c4-5f55-4c80-9a60-1a426905c952",
   "metadata": {},
   "outputs": [],
   "source": [
    "# make lists of important columns\n",
    "outcome_cols = [\"Outcome\", \"DaysUntilFirstProgression\"] # outcomes\n",
    "drop_cols = [\"StudyID\"] # columns to drop that are not outcome\n",
    "# columns that should be scaled later\n",
    "numerical_cols = [x for x in df.columns if (\"lab\" in x.lower()) or (\"age\" in x.lower()) or (\"bmi\" in x.lower() and \"category\" not in x.lower())]\n"
   ]
  },
  {
   "cell_type": "code",
   "execution_count": null,
   "id": "e51d1e9c-9912-41ac-b08b-6893dc0c22c1",
   "metadata": {},
   "outputs": [],
   "source": [
    "# make features dataframe\n",
    "X = df.drop(columns=outcome_cols + drop_cols)\n",
    "X.head()"
   ]
  },
  {
   "cell_type": "code",
   "execution_count": null,
   "id": "d2baa5d4-a7d4-4e56-92c1-abe53a674c59",
   "metadata": {},
   "outputs": [],
   "source": [
    "# make outcome dataframe (including both linear and logistic outcomes)\n",
    "Y = df[[\"DaysUntilFirstProgression\", \"Outcome\"]]"
   ]
  },
  {
   "cell_type": "code",
   "execution_count": null,
   "id": "cdc5e9cf-6599-48aa-a8fe-696f3f59d14a",
   "metadata": {},
   "outputs": [],
   "source": [
    "# make train test split\n",
    "X_train, X_test, Y_train, Y_test = train_test_split(X, Y, test_size=0.3, random_state=42)\n",
    "print(f'X_train shape: {X_train.shape}, X_test shape: {X_test.shape}, Y_train shape: {Y_train.shape}, Y_test shape: {Y_test.shape}')"
   ]
  },
  {
   "cell_type": "code",
   "execution_count": null,
   "id": "b9c5fe63-b9e6-4b21-a1c6-55136803573f",
   "metadata": {},
   "outputs": [],
   "source": [
    "# standardize numerical columns\n",
    "scaler = StandardScaler()\n",
    "X_train_scaled = X_train\n",
    "# scale numerical columns and replace them in the original dataframe\n",
    "X_train_scaled[numerical_cols] = scaler.fit_transform(X_train[numerical_cols]) \n",
    "X_train_scaled.head()"
   ]
  },
  {
   "cell_type": "code",
   "execution_count": null,
   "id": "e3aaa6b2-4fc8-436a-aa80-7b23bfcaf911",
   "metadata": {},
   "outputs": [],
   "source": [
    "X_test_scaled = X_test\n",
    "X_test_scaled[numerical_cols] = scaler.transform(X_test[numerical_cols])"
   ]
  },
  {
   "cell_type": "markdown",
   "id": "02e71b2a-90d6-4001-bb21-890d6606c027",
   "metadata": {},
   "source": [
    "## Fit Linear Regression\n",
    "Fit a linear regression on DaysUntilFirstProgression\n",
    "\n",
    "Rank features by coefficients (both most positive and most negative)\n",
    "\n",
    "Check VIF scores"
   ]
  },
  {
   "cell_type": "code",
   "execution_count": null,
   "id": "6f48afd5-dfc4-44fb-972d-736631a6258d",
   "metadata": {},
   "outputs": [],
   "source": [
    "# fit the model\n",
    "linear_model = LinearRegression()\n",
    "linear_model.fit(X_train_scaled, Y_train['DaysUntilFirstProgression'])"
   ]
  },
  {
   "cell_type": "code",
   "execution_count": null,
   "id": "66c3169a-4d16-4df4-bda0-5d66639b8414",
   "metadata": {},
   "outputs": [],
   "source": [
    "prediction = linear_model.predict(X_test_scaled)\n",
    "print(prediction)"
   ]
  },
  {
   "cell_type": "code",
   "execution_count": null,
   "id": "21ff65b3-9aa4-48b3-9551-b2d5f11624b1",
   "metadata": {},
   "outputs": [],
   "source": [
    "train_mse_loss = mean_squared_error(Y_train['DaysUntilFirstProgression'], linear_model.predict(X_train_scaled))\n",
    "test_mse_loss = mean_squared_error(Y_test['DaysUntilFirstProgression'], prediction)\n",
    "print(\"Train MSE Loss: \", train_mse_loss)\n",
    "print(\"Test MSE Loss: \", test_mse_loss)"
   ]
  },
  {
   "cell_type": "code",
   "execution_count": null,
   "id": "b7da7e6a-c2b1-4245-a914-67fb05aa18f1",
   "metadata": {},
   "outputs": [],
   "source": [
    "print(\"Train MAE Loss: \", mean_absolute_error(Y_train['DaysUntilFirstProgression'], linear_model.predict(X_train_scaled)))\n",
    "print(\"Train MAE Loss: \", mean_absolute_error(Y_test['DaysUntilFirstProgression'], prediction))"
   ]
  },
  {
   "cell_type": "code",
   "execution_count": null,
   "id": "eca69f25-c80f-4375-94c8-0abdc00f4edf",
   "metadata": {},
   "outputs": [],
   "source": [
    "# rank by coefficient values\n",
    "sorted_coefs = X_train_scaled.columns[np.argsort(linear_model.coef_)]\n",
    "most_positive = sorted_coefs[-10:]\n",
    "most_negative = sorted_coefs[:10]"
   ]
  },
  {
   "cell_type": "code",
   "execution_count": null,
   "id": "9cb6a2af-48c1-4a20-b157-b53f47d0ad68",
   "metadata": {},
   "outputs": [],
   "source": [
    "print(most_negative) # most negatively correlated with outcome (duration)"
   ]
  },
  {
   "cell_type": "code",
   "execution_count": null,
   "id": "feab581c-51dc-4a38-ba6f-5f28f456dc8b",
   "metadata": {},
   "outputs": [],
   "source": [
    "print(most_positive) # most positively correlated with outcome (duration)"
   ]
  },
  {
   "cell_type": "code",
   "execution_count": null,
   "id": "74606927-e7f5-4e7b-a51d-d7771ae0fdfa",
   "metadata": {},
   "outputs": [],
   "source": [
    "med_df = pd.read_csv(\"/nobackup/users/ericason/mlhc-final-project/data/NAFLpatients_Jan2025request/Med_all.use.final.txt\", delimiter=\"\\t\", header=0)\n",
    "med_df.head()"
   ]
  },
  {
   "cell_type": "code",
   "execution_count": null,
   "id": "725f0691-ec90-415b-abf6-72cbf706b59c",
   "metadata": {},
   "outputs": [],
   "source": [
    "med_codes = \"MedType_Code_\" + med_df[\"Code_Type\"] + \"_\" + med_df[\"Code\"]"
   ]
  },
  {
   "cell_type": "code",
   "execution_count": null,
   "id": "f3321a7f-7a19-41cf-8c9c-76ed1de0495c",
   "metadata": {},
   "outputs": [],
   "source": [
    "med_codes_df = pd.concat([med_codes, med_df[\"Medication\"]], axis=1)\n",
    "med_codes_df.columns = [\"Code\", \"Medication\"]\n",
    "med_codes_df.head()"
   ]
  },
  {
   "cell_type": "code",
   "execution_count": null,
   "id": "264350c3-9c23-40ec-a32e-a219c1900332",
   "metadata": {},
   "outputs": [],
   "source": [
    "med_codes_df = med_codes_df.drop_duplicates() # drop duplicate codes and medications\n",
    "med_codes_df.shape"
   ]
  },
  {
   "cell_type": "code",
   "execution_count": null,
   "id": "7adf4f4d-ac68-4b6b-9380-7fe2f880d0ee",
   "metadata": {},
   "outputs": [],
   "source": [
    "med_codes_df[med_codes_df['Code'].isin(most_positive)] # most positive descriptions"
   ]
  },
  {
   "cell_type": "code",
   "execution_count": null,
   "id": "40989296-8792-44b4-9ef8-b5276ef24b28",
   "metadata": {},
   "outputs": [],
   "source": [
    "med_codes_df[med_codes_df['Code'].isin(most_negative)] # note that there are only 9 rows because one of the features was unknown sex"
   ]
  },
  {
   "cell_type": "code",
   "execution_count": null,
   "id": "78f6d1a4-72e8-4a74-801e-18bbf9188d5c",
   "metadata": {},
   "outputs": [],
   "source": [
    "# get coefficients that are closest to 0\n",
    "abs_sorted_coefs = X_train_scaled.columns[np.argsort(abs(linear_model.coef_))][:10]\n",
    "print(abs_sorted_coefs)"
   ]
  },
  {
   "cell_type": "markdown",
   "id": "7e26985e-3f86-48d7-9e8e-6d2903d74bed",
   "metadata": {},
   "source": [
    "## Fit Logistic Regression\n",
    "Fit a logistic regression on outcome, check VIF, rank features by coefficients"
   ]
  },
  {
   "cell_type": "code",
   "execution_count": null,
   "id": "a865f6ea-4db3-4db3-8566-50b1ddbec2cf",
   "metadata": {},
   "outputs": [],
   "source": [
    "logistic_model = LogisticRegression()\n",
    "logistic_model.fit(X_train_scaled, Y_train['Outcome']) # train model"
   ]
  },
  {
   "cell_type": "code",
   "execution_count": null,
   "id": "5f768742-f866-4355-8d9e-1767f9319eb0",
   "metadata": {},
   "outputs": [],
   "source": [
    "# make predictions on training and test data\n",
    "train_logistic_predictions = logistic_model.predict(X_train_scaled)\n",
    "test_logistic_predictions = logistic_model.predict(X_test_scaled)"
   ]
  },
  {
   "cell_type": "code",
   "execution_count": null,
   "id": "1886989e-c26d-4c2c-bc50-cc19466cc680",
   "metadata": {},
   "outputs": [],
   "source": [
    "# check classification report for training\n",
    "print(classification_report(Y_train['Outcome'], train_logistic_predictions, target_names=['No Progression', 'Progression']))"
   ]
  },
  {
   "cell_type": "code",
   "execution_count": null,
   "id": "8fd168e6-2fdb-4d57-a7a7-657ec9d92d90",
   "metadata": {},
   "outputs": [],
   "source": [
    "print(confusion_matrix(Y_train['Outcome'], train_logistic_predictions))"
   ]
  },
  {
   "cell_type": "code",
   "execution_count": null,
   "id": "6b234e5e-f23d-4742-9d21-5c5c013cbc1a",
   "metadata": {},
   "outputs": [],
   "source": [
    "print(\"Training AUROC: \", roc_auc_score(Y_train['Outcome'], train_logistic_predictions))"
   ]
  },
  {
   "cell_type": "code",
   "execution_count": null,
   "id": "32766469-3442-44b6-853d-83518bf68f52",
   "metadata": {},
   "outputs": [],
   "source": [
    "print(\"Training AUPRC: \", average_precision_score(Y_train['Outcome'], train_logistic_predictions))"
   ]
  },
  {
   "cell_type": "code",
   "execution_count": null,
   "id": "3eeab2fd-6081-4912-b9ba-718d4fb99142",
   "metadata": {},
   "outputs": [],
   "source": [
    "# check classification report for testing\n",
    "print(classification_report(Y_test['Outcome'], test_logistic_predictions, target_names=['No Progression', 'Progression']))"
   ]
  },
  {
   "cell_type": "code",
   "execution_count": null,
   "id": "ee5cff50-3d26-4648-a547-c07c5c7d4150",
   "metadata": {},
   "outputs": [],
   "source": [
    "print(confusion_matrix(Y_test['Outcome'], test_logistic_predictions))"
   ]
  },
  {
   "cell_type": "code",
   "execution_count": null,
   "id": "9929390c-db92-4051-906a-85a9bb23a4a1",
   "metadata": {},
   "outputs": [],
   "source": [
    "print(\"Testing AUROC: \", roc_auc_score(Y_test['Outcome'], test_logistic_predictions))"
   ]
  },
  {
   "cell_type": "code",
   "execution_count": null,
   "id": "268a7fe1-1e37-49cc-ac7c-c05bfb031b7d",
   "metadata": {},
   "outputs": [],
   "source": [
    "print(\"Testing AUPRC: \", average_precision_score(Y_test['Outcome'], test_logistic_predictions))"
   ]
  },
  {
   "cell_type": "code",
   "execution_count": null,
   "id": "277c21c0-7d7c-4d7f-b698-e5b0022468dc",
   "metadata": {},
   "outputs": [],
   "source": [
    "# rank by coefficient values\n",
    "sorted_coefs = X_train_scaled.columns[np.argsort(logistic_model.coef_)[0]]\n",
    "most_positive = sorted_coefs[-10:]\n",
    "most_negative = sorted_coefs[:10]"
   ]
  },
  {
   "cell_type": "code",
   "execution_count": null,
   "id": "ee5d30db-048d-4be1-b7e6-e0e34c0806fb",
   "metadata": {},
   "outputs": [],
   "source": [
    "print(most_negative) # most negatively correlated with outcome (progression binary class)"
   ]
  },
  {
   "cell_type": "code",
   "execution_count": null,
   "id": "6c263851-fe33-4c6d-84a6-d94a951c6605",
   "metadata": {},
   "outputs": [],
   "source": [
    "print(logistic_model.coef_[0][np.argsort(logistic_model.coef_)[0]][:10])"
   ]
  },
  {
   "cell_type": "code",
   "execution_count": null,
   "id": "aa0a8e49-66f3-4811-bd6d-6195f5fefcaf",
   "metadata": {},
   "outputs": [],
   "source": [
    "print(most_positive) # most positively correlated with outcome (progression binary class)"
   ]
  },
  {
   "cell_type": "code",
   "execution_count": null,
   "id": "2a3aa26a-49ac-4bf4-b24d-2fdbfbd1d429",
   "metadata": {},
   "outputs": [],
   "source": [
    "print(logistic_model.coef_[0][np.argsort(logistic_model.coef_)[0]][-10:])"
   ]
  },
  {
   "cell_type": "code",
   "execution_count": null,
   "id": "3ec87a75-1147-4f56-a213-b16d1ff4d433",
   "metadata": {},
   "outputs": [],
   "source": [
    "abs_sorted_coefs = X_train_scaled.columns[np.argsort(abs(logistic_model.coef_))[0]]\n",
    "abs_sorted_coefs[:10] # codes with coefficients closest to zero"
   ]
  },
  {
   "cell_type": "code",
   "execution_count": null,
   "id": "4a80168e-41e7-4031-af6a-a5581c7c536b",
   "metadata": {},
   "outputs": [],
   "source": [
    "print(logistic_model.coef_[0][np.argsort(abs(logistic_model.coef_))[0]][:10])"
   ]
  },
  {
   "cell_type": "code",
   "execution_count": null,
   "id": "13ee3ed5-a0b2-4594-a113-bc0c30ed0c6b",
   "metadata": {},
   "outputs": [],
   "source": [
    "med_codes_df[med_codes_df['Code'].isin(most_positive)] # most positive descriptions"
   ]
  },
  {
   "cell_type": "code",
   "execution_count": null,
   "id": "c23af232-0d0c-4a24-ac4c-b5d4a90603a8",
   "metadata": {},
   "outputs": [],
   "source": [
    "med_codes_df[med_codes_df['Code'].isin(most_negative)] # most negative descriptions"
   ]
  },
  {
   "cell_type": "code",
   "execution_count": null,
   "id": "0df55472-d2bd-4ffd-bf07-10fc96e73a2e",
   "metadata": {},
   "outputs": [],
   "source": [
    "med_codes_df[med_codes_df['Code'].isin(abs_sorted_coefs[:10])] # descriptions for close to 0"
   ]
  },
  {
   "cell_type": "markdown",
   "id": "2c23cdc9-98c7-4ab2-928a-2d4f9b92f319",
   "metadata": {},
   "source": [
    "## Fit Cox PH model\n",
    "Fit a standard Cox PH model with linear proportional hazards assumption, rank features by coefficient"
   ]
  },
  {
   "cell_type": "code",
   "execution_count": null,
   "id": "4cee2880-1e0c-4a6d-aa36-294c36af96b3",
   "metadata": {},
   "outputs": [],
   "source": [
    "# use lasso to reduce collinearity\n",
    "from sklearn.linear_model import LassoCV\n",
    "\n",
    "lasso = LassoCV(cv=5).fit(X_train_scaled, Y_train[\"DaysUntilFirstProgression\"])\n",
    "selected_features = X_train_scaled.columns[(lasso.coef_ != 0)]\n",
    "print(\"Selected features:\", selected_features.tolist())"
   ]
  },
  {
   "cell_type": "code",
   "execution_count": null,
   "id": "289b3e9b-2d68-4664-ad7c-13ce92c294ce",
   "metadata": {},
   "outputs": [],
   "source": [
    "# load data\n",
    "data = pd.concat([X_train_scaled[selected_features.to_list()], Y_train], axis=1)"
   ]
  },
  {
   "cell_type": "code",
   "execution_count": null,
   "id": "b11e8785-b4d9-4deb-b933-8b68b2054027",
   "metadata": {},
   "outputs": [],
   "source": [
    "# Fit the Cox model\n",
    "cph = CoxPHFitter()\n",
    "cph.fit(data, duration_col='DaysUntilFirstProgression', event_col='Outcome')"
   ]
  },
  {
   "cell_type": "code",
   "execution_count": null,
   "id": "e2086b4a-a008-4fcf-85aa-2ff00a4c82a4",
   "metadata": {},
   "outputs": [],
   "source": [
    "# rank by coefficient values\n",
    "sorted_coefs = X_train_scaled.columns[np.argsort(cph.params_)]\n",
    "most_positive = sorted_coefs[-10:]\n",
    "most_negative = sorted_coefs[:10]\n"
   ]
  },
  {
   "cell_type": "code",
   "execution_count": null,
   "id": "d196a1e0-2e50-4487-8a1a-32f9476a7b57",
   "metadata": {},
   "outputs": [],
   "source": [
    "print(most_negative) # most negatively correlated with outcome (progression binary class)"
   ]
  },
  {
   "cell_type": "code",
   "execution_count": null,
   "id": "9fc94806-06c3-4f2b-88b6-1a134261db78",
   "metadata": {},
   "outputs": [],
   "source": [
    "print(most_positive) # most positiveely correlated with outcome (progression binary class)"
   ]
  },
  {
   "cell_type": "code",
   "execution_count": null,
   "id": "98b61d32-703c-49f4-94b5-9d77345465ef",
   "metadata": {},
   "outputs": [],
   "source": [
    "lab_df = pd.read_csv(\"/nobackup/users/ericason/mlhc-final-project/data/NAFLpatients_Jan2025request/Lab_all.use.final.txt\", delimiter=\"\\t\", header=0)\n",
    "lab_df.head()"
   ]
  },
  {
   "cell_type": "code",
   "execution_count": null,
   "id": "26af46e2-5106-41fa-95da-64a6b0dc0f63",
   "metadata": {},
   "outputs": [],
   "source": [
    "lab_codes = \"Lab_\" + lab_df[\"Loinc_Code\"]"
   ]
  },
  {
   "cell_type": "code",
   "execution_count": null,
   "id": "5de413e0-bae3-4e31-808e-d952b211b1f7",
   "metadata": {},
   "outputs": [],
   "source": [
    "lab_codes_df = pd.concat([lab_codes, lab_df[\"Test_Description\"]], axis=1)\n",
    "lab_codes_df.columns = [\"Code\", \"Lab Test\"]\n",
    "lab_codes_df.head()"
   ]
  },
  {
   "cell_type": "code",
   "execution_count": null,
   "id": "44055687-affb-466c-bd1c-1c0ad9a8d36d",
   "metadata": {},
   "outputs": [],
   "source": [
    "lab_codes_df = lab_codes_df.drop_duplicates() # drop duplicate codes and medications\n",
    "lab_codes_df.shape"
   ]
  },
  {
   "cell_type": "code",
   "execution_count": null,
   "id": "febd06cb-d6ec-4d80-a3c8-51a40b2b44d6",
   "metadata": {},
   "outputs": [],
   "source": [
    "lab_codes_df[lab_codes_df['Code'].isin(most_negative)] # most negative labs"
   ]
  },
  {
   "cell_type": "code",
   "execution_count": null,
   "id": "628d057a-235f-4c8c-8fb1-f9e327a00e08",
   "metadata": {},
   "outputs": [],
   "source": [
    "pd.set_option('display.max_colwidth', 200)"
   ]
  },
  {
   "cell_type": "code",
   "execution_count": null,
   "id": "81978b96-2775-45d4-90d6-86a1716b1463",
   "metadata": {},
   "outputs": [],
   "source": [
    "med_codes_df[med_codes_df['Code'].isin(most_negative)] # most negative meds"
   ]
  },
  {
   "cell_type": "code",
   "execution_count": null,
   "id": "945ce0de-c568-4d68-a15f-b6450f3bc820",
   "metadata": {},
   "outputs": [],
   "source": [
    "med_codes_df[med_codes_df['Code'].isin(most_positive)] # most positive meds"
   ]
  },
  {
   "cell_type": "code",
   "execution_count": null,
   "id": "a178be77-f3fa-4e45-8ba4-a3124f850d0d",
   "metadata": {},
   "outputs": [],
   "source": [
    "from lifelines.utils import concordance_index\n",
    "from sklearn.metrics import brier_score_loss"
   ]
  },
  {
   "cell_type": "code",
   "execution_count": null,
   "id": "3a8d5f39-a1b0-4369-b055-985883f2b3a3",
   "metadata": {},
   "outputs": [],
   "source": [
    "# Predict partial hazards (or risk scores)\n",
    "risk_scores = -cph.predict_partial_hazard(X_train).values.ravel()\n",
    "\n",
    "# Compute concordance index\n",
    "c_index_train = concordance_index(event_times=Y_train[\"DaysUntilFirstProgression\"], predicted_scores=risk_scores, event_observed=Y_train[\"Outcome\"])\n",
    "\n",
    "print(\"Test Concordance Score:\", c_index_train)"
   ]
  },
  {
   "cell_type": "code",
   "execution_count": null,
   "id": "3586cdd8-382e-4927-9b89-96714f1bc0e4",
   "metadata": {},
   "outputs": [],
   "source": [
    "# Predict partial hazards (or risk scores)\n",
    "risk_scores = -cph.predict_partial_hazard(X_test).values.ravel()\n",
    "\n",
    "# Compute concordance index\n",
    "c_index_test = concordance_index(event_times=Y_test[\"DaysUntilFirstProgression\"], predicted_scores=risk_scores, event_observed=Y_test[\"Outcome\"])\n",
    "\n",
    "print(\"Test Concordance Score:\", c_index_test)"
   ]
  },
  {
   "cell_type": "code",
   "execution_count": null,
   "id": "20c4ec46-1e9a-4eca-aa14-9962462cd27d",
   "metadata": {},
   "outputs": [],
   "source": [
    "# Time points to evaluate\n",
    "times = np.linspace(0, 2247, 100)\n",
    "brier_scores = []\n",
    "\n",
    "# Loop through time points and compute approximate Brier score\n",
    "for t in times:\n",
    "    surv_probs = cph.predict_survival_function(X_train, times=[t]).T[t]\n",
    "    # Binary outcome: 1 if event occurred before t, else 0\n",
    "    observed = ((Y_train[\"DaysUntilFirstProgression\"] <= t) & (Y_train[\"Outcome\"] == 1)).astype(int)\n",
    "    # Approximate Brier score\n",
    "    brier = brier_score_loss(observed, 1 - surv_probs)\n",
    "    brier_scores.append(brier)\n",
    "\n",
    "integrated_brier_score = np.trapz(brier_scores, times) / (times[-1] - times[0])\n",
    "print(\"Test integrated brier score: \", integrated_brier_score)"
   ]
  },
  {
   "cell_type": "code",
   "execution_count": null,
   "id": "27604db1-3e52-4182-b507-b00cccc08079",
   "metadata": {},
   "outputs": [],
   "source": [
    "# Time points to evaluate\n",
    "times = np.linspace(0, 2247, 100)\n",
    "brier_scores = []\n",
    "\n",
    "# Loop through time points and compute approximate Brier score\n",
    "for t in times:\n",
    "    surv_probs = cph.predict_survival_function(X_test, times=[t]).T[t]\n",
    "    # Binary outcome: 1 if event occurred before t, else 0\n",
    "    observed = ((Y_test[\"DaysUntilFirstProgression\"] <= t) & (Y_test[\"Outcome\"] == 1)).astype(int)\n",
    "    # Approximate Brier score\n",
    "    brier = brier_score_loss(observed, 1 - surv_probs)\n",
    "    brier_scores.append(brier)\n",
    "\n",
    "# Plot\n",
    "plt.plot(times, brier_scores, label=\"Approx. Brier Score\")\n",
    "plt.xlabel(\"Time t (days)\")\n",
    "plt.ylabel(\"Brier Score\")\n",
    "plt.ylim(0, 0.9)\n",
    "plt.title(\"Cox PH Regression Brier Score Over Time\")\n",
    "plt.tight_layout()\n",
    "plt.savefig(\"./brier.png\")\n",
    "plt.show()"
   ]
  },
  {
   "cell_type": "code",
   "execution_count": null,
   "id": "a9b3d3a6-2e8f-45b2-a4ae-5bfb3f50df2a",
   "metadata": {},
   "outputs": [],
   "source": [
    "integrated_brier_score = np.trapz(brier_scores, times) / (times[-1] - times[0])\n",
    "print(\"Test integrated brier score: \", integrated_brier_score)"
   ]
  },
  {
   "cell_type": "markdown",
   "id": "376418a1-9f5d-4c4a-8b97-17505c77b868",
   "metadata": {},
   "source": [
    "## Get Human Readable Content"
   ]
  },
  {
   "cell_type": "code",
   "execution_count": null,
   "id": "78eaeb06-4459-4911-9e69-8c12c8a068bd",
   "metadata": {},
   "outputs": [],
   "source": [
    "cox_codes = ['Lab_1920-8',\n",
    "'Lab_2500-7',\n",
    "'Code_R07.9',\n",
    "'Code_I10',\n",
    "'Lab_718-7',\n",
    "'Lab_2091-7',\n",
    "'Code_E11.9',\n",
    "'Lab_785-6',\n",
    "'Code_R94.5',\n",
    "'Lab_62292-8',\n",
    "'Lab_4544-3',\n",
    "'Lab_787-2',\n",
    "'Code_D89.89',\n",
    "'last_BMI',\n",
    "'Lab_777-3',\n",
    "'Lab_9830-1',\n",
    "'Lab_789-8',\n",
    "'Code_E55.9',\n",
    "'Code_R91.8',\n",
    "'Code_Z71.89']"
   ]
  },
  {
   "cell_type": "code",
   "execution_count": null,
   "id": "3471319a-8749-413b-9188-91bbda377afb",
   "metadata": {},
   "outputs": [],
   "source": [
    "lab_codes_df[lab_codes_df['Code'].isin(cox_codes)] # most positive meds"
   ]
  },
  {
   "cell_type": "code",
   "execution_count": null,
   "id": "5aa59efa-913c-40d1-80ef-1a8cdf0d82b8",
   "metadata": {},
   "outputs": [],
   "source": [
    "dia_df = pd.read_csv(\"/nobackup/users/ericason/mlhc-final-project/data/NAFLpatients_Jan2025request/Dia_all.use.final.txt\", delimiter=\"\\t\", header=0)"
   ]
  },
  {
   "cell_type": "code",
   "execution_count": null,
   "id": "cb9b4cf9-110d-42b1-a86c-27dbe1a222c1",
   "metadata": {},
   "outputs": [],
   "source": [
    "dia_df.head()"
   ]
  },
  {
   "cell_type": "code",
   "execution_count": null,
   "id": "270c4f55-2545-4779-bb19-29e5a6d3cadc",
   "metadata": {},
   "outputs": [],
   "source": [
    "dia_codes = \"Code_\" + dia_df[\"Code\"]"
   ]
  },
  {
   "cell_type": "code",
   "execution_count": null,
   "id": "9a04ef03-ff92-4f00-9c01-bf735f25863c",
   "metadata": {},
   "outputs": [],
   "source": [
    "dia_codes_df = pd.concat([dia_codes, dia_df[\"Diagnosis_Name\"]], axis=1)\n",
    "dia_codes_df.columns = [\"Code\", \"Diagnosis\"]\n",
    "dia_codes_df.head()"
   ]
  },
  {
   "cell_type": "code",
   "execution_count": null,
   "id": "c85d370b-1b54-4c29-b278-c6e263e9ee8a",
   "metadata": {},
   "outputs": [],
   "source": [
    "dia_codes_df = dia_codes_df.drop_duplicates() # drop duplicate codes and medications\n",
    "dia_codes_df.shape"
   ]
  },
  {
   "cell_type": "code",
   "execution_count": null,
   "id": "d0ffc97a-8c9b-42e7-ade5-e2433d4a82a5",
   "metadata": {},
   "outputs": [],
   "source": [
    "dia_codes_df[dia_codes_df['Code'].isin(cox_codes)] # most positive meds"
   ]
  },
  {
   "cell_type": "code",
   "execution_count": null,
   "id": "5a3a6b71-74a3-4d16-a966-b056aad79624",
   "metadata": {},
   "outputs": [],
   "source": [
    "linear_nn_codes = ['Lab_4679-7',\n",
    "'Lab_14338-8',\n",
    "'Lab_2132-9',\n",
    "'Lab_6768-6',\n",
    "'Code_Z23',\n",
    "'Lab_6690-2',\n",
    "'Lab_2093-3',\n",
    "'MedType_Code_EPIC-MED_10328',\n",
    "'Lab_13457-7',\n",
    "'Lab_2571-8']"
   ]
  },
  {
   "cell_type": "code",
   "execution_count": null,
   "id": "770cb98a-8354-42f0-8cda-8ae4ab551d7b",
   "metadata": {},
   "outputs": [],
   "source": [
    "lab_codes_df[lab_codes_df['Code'].isin(linear_nn_codes)] "
   ]
  },
  {
   "cell_type": "code",
   "execution_count": null,
   "id": "1db67b92-45f2-4689-bef5-f82dcc132cdb",
   "metadata": {},
   "outputs": [],
   "source": [
    "med_codes_df[med_codes_df['Code'].isin(linear_nn_codes)] "
   ]
  },
  {
   "cell_type": "code",
   "execution_count": null,
   "id": "6af2289c-fbbd-44b6-a98c-0d8b6861bf00",
   "metadata": {},
   "outputs": [],
   "source": [
    "dia_codes_df[dia_codes_df['Code'].isin(linear_nn_codes)] "
   ]
  },
  {
   "cell_type": "code",
   "execution_count": null,
   "id": "128aef08-9307-489d-88c0-e34d46cccf1c",
   "metadata": {},
   "outputs": [],
   "source": [
    "linear2_codes = ['MedType_Code_EPIC-MED_27698',\n",
    "'Lab_19153-6',\n",
    "'Lab_2501-5',\n",
    "'Lab_786-4',\n",
    "'Code_E78.5',\n",
    "'Lab_XC5-9',\n",
    "'Lab_2502-3',\n",
    "'MedType_Code_EPIC-MED_40900',\n",
    "'Lab_2089-1',\n",
    "'Lab_789-8']"
   ]
  },
  {
   "cell_type": "code",
   "execution_count": null,
   "id": "69cf4c6b-4426-4f38-bc22-f8f15b150d2c",
   "metadata": {},
   "outputs": [],
   "source": [
    "lab_codes_df[lab_codes_df['Code'].isin(linear2_codes)] "
   ]
  },
  {
   "cell_type": "code",
   "execution_count": null,
   "id": "60400c16-858d-4aff-8f00-f7b15a80e7de",
   "metadata": {},
   "outputs": [],
   "source": [
    "dia_codes_df[dia_codes_df['Code'].isin(linear2_codes)] "
   ]
  },
  {
   "cell_type": "code",
   "execution_count": null,
   "id": "6c9f8412-f9f8-4389-886f-9fe1a37923cd",
   "metadata": {},
   "outputs": [],
   "source": [
    "med_codes_df[med_codes_df['Code'].isin(linear2_codes)] "
   ]
  }
 ],
 "metadata": {
  "kernelspec": {
   "display_name": "Python 3 (ipykernel)",
   "language": "python",
   "name": "python3"
  },
  "language_info": {
   "codemirror_mode": {
    "name": "ipython",
    "version": 3
   },
   "file_extension": ".py",
   "mimetype": "text/x-python",
   "name": "python",
   "nbconvert_exporter": "python",
   "pygments_lexer": "ipython3",
   "version": "3.9.19"
  }
 },
 "nbformat": 4,
 "nbformat_minor": 5
}
